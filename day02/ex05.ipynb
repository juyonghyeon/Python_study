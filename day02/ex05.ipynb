{
 "cells": [
  {
   "cell_type": "markdown",
   "id": "41eba035",
   "metadata": {},
   "source": [
    "## 자료형의 참과 거짓\n",
    "    \n",
    "    값을 가지고도 참 거짓 판별 가능\n",
    "    \n",
    "    거짓으로 판별하는 값 (False)\n",
    "    \n",
    "    - “” : 빈 문자열\n",
    "    - 0\n",
    "    - None\n",
    "    - [] : 비어있는 리스트\n",
    "    - () : 비어있는 튜플\n",
    "    \n",
    "    → 이외의 모든 값은 참으로 판별(True)"
   ]
  },
  {
   "cell_type": "code",
   "execution_count": 6,
   "id": "46a6a36f",
   "metadata": {},
   "outputs": [],
   "source": [
    "# result = True\n",
    "# result = None\n",
    "result = []"
   ]
  },
  {
   "cell_type": "code",
   "execution_count": 7,
   "id": "4098ec22",
   "metadata": {},
   "outputs": [
    {
     "name": "stdout",
     "output_type": "stream",
     "text": [
      "거짓\n"
     ]
    }
   ],
   "source": [
    "if result:\n",
    "    print(\"참\")\n",
    "else:\n",
    "    print(\"거짓\")"
   ]
  },
  {
   "cell_type": "code",
   "execution_count": 9,
   "id": "2e8853b9",
   "metadata": {},
   "outputs": [
    {
     "name": "stdout",
     "output_type": "stream",
     "text": [
      "<class 'list'>\n",
      "<class 'bool'>\n"
     ]
    }
   ],
   "source": [
    "# bool(값) : 값을 논리형 값이 True, False로 변환\n",
    "print(type(result))\n",
    "result2 = bool(result)\n",
    "print(type(result2))"
   ]
  },
  {
   "cell_type": "code",
   "execution_count": null,
   "id": "dd0bd021",
   "metadata": {},
   "outputs": [],
   "source": []
  }
 ],
 "metadata": {
  "kernelspec": {
   "display_name": "Python 3",
   "language": "python",
   "name": "python3"
  },
  "language_info": {
   "codemirror_mode": {
    "name": "ipython",
    "version": 3
   },
   "file_extension": ".py",
   "mimetype": "text/x-python",
   "name": "python",
   "nbconvert_exporter": "python",
   "pygments_lexer": "ipython3",
   "version": "3.12.10"
  }
 },
 "nbformat": 4,
 "nbformat_minor": 5
}
