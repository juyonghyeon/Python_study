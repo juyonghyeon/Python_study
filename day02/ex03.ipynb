{
 "cells": [
  {
   "cell_type": "markdown",
   "id": "6e11d152",
   "metadata": {},
   "source": [
    "## 딕셔너리 자료형\n",
    "- 딕셔너리란?\n",
    "    키, 값의 쌍\n",
    "\n",
    "- 딕셔너리는 어떻게 만들까?\n",
    "```python\n",
    "    변수 = {키: 값, 키: 값, ...}\n",
    "    변수 = dict({키: 값, 키: 값, ...})\n",
    "    변수['키']\n",
    "```"
   ]
  },
  {
   "cell_type": "code",
   "execution_count": 1,
   "id": "e380fcf0",
   "metadata": {},
   "outputs": [],
   "source": [
    "# person = {'name': '이이름','age': 40}\n",
    "person = dict({'name': '이이름', 'age': 40})"
   ]
  },
  {
   "cell_type": "code",
   "execution_count": 2,
   "id": "9708f153",
   "metadata": {},
   "outputs": [
    {
     "name": "stdout",
     "output_type": "stream",
     "text": [
      "이이름 40\n"
     ]
    }
   ],
   "source": [
    "print(person['name'], person['age'])"
   ]
  },
  {
   "cell_type": "markdown",
   "id": "df570c74",
   "metadata": {},
   "source": [
    "## 추가, 수정, 삭제\n",
    "- 추가 : 없는 키 값에 추가하면 추가\n",
    "- 수정 : 동일한 키 값에 추가하면 수정\n",
    "- 삭제 : del 연산자"
   ]
  },
  {
   "cell_type": "code",
   "execution_count": 3,
   "id": "e0cb361c",
   "metadata": {},
   "outputs": [
    {
     "data": {
      "text/plain": [
       "{'name': '이이름', 'age': 40, 'address': '주소'}"
      ]
     },
     "execution_count": 3,
     "metadata": {},
     "output_type": "execute_result"
    }
   ],
   "source": [
    "person['address'] = '주소'\n",
    "person"
   ]
  },
  {
   "cell_type": "code",
   "execution_count": 4,
   "id": "245f715f",
   "metadata": {},
   "outputs": [
    {
     "data": {
      "text/plain": [
       "{'name': '이이름', 'age': 40, 'address': '(수정)주소'}"
      ]
     },
     "execution_count": 4,
     "metadata": {},
     "output_type": "execute_result"
    }
   ],
   "source": [
    "person['address'] = '(수정)주소'\n",
    "person"
   ]
  },
  {
   "cell_type": "code",
   "execution_count": 5,
   "id": "7eecdf74",
   "metadata": {},
   "outputs": [
    {
     "data": {
      "text/plain": [
       "{'name': '이이름', 'age': 40}"
      ]
     },
     "execution_count": 5,
     "metadata": {},
     "output_type": "execute_result"
    }
   ],
   "source": [
    "del person['address']\n",
    "person"
   ]
  },
  {
   "cell_type": "markdown",
   "id": "de5c7794",
   "metadata": {},
   "source": [
    "### 조회\n",
    "    - 변수명\\['키']\n",
    "        - '키' 조회한 값이 존재하지 않으면 KeyError 발생\n",
    "    - 변수명.get['키']\n",
    "        - '키' 조회한 값이 없으면 None\n",
    "        - 값이 없을때 대체할 수 있는 기본값 설정\n",
    "            - 변수명.get('키','기본값')\n",
    "> 참고 : None은 자바와 비교하면 null과 비슷"
   ]
  },
  {
   "cell_type": "code",
   "execution_count": 6,
   "id": "9eabf050",
   "metadata": {},
   "outputs": [
    {
     "ename": "KeyError",
     "evalue": "'address'",
     "output_type": "error",
     "traceback": [
      "\u001b[31m---------------------------------------------------------------------------\u001b[39m",
      "\u001b[31mKeyError\u001b[39m                                  Traceback (most recent call last)",
      "\u001b[36mCell\u001b[39m\u001b[36m \u001b[39m\u001b[32mIn[6]\u001b[39m\u001b[32m, line 1\u001b[39m\n\u001b[32m----> \u001b[39m\u001b[32m1\u001b[39m \u001b[43mperson\u001b[49m\u001b[43m[\u001b[49m\u001b[33;43m'\u001b[39;49m\u001b[33;43maddress\u001b[39;49m\u001b[33;43m'\u001b[39;49m\u001b[43m]\u001b[49m\n",
      "\u001b[31mKeyError\u001b[39m: 'address'"
     ]
    }
   ],
   "source": [
    "person['address']"
   ]
  },
  {
   "cell_type": "code",
   "execution_count": null,
   "id": "101f9a90",
   "metadata": {},
   "outputs": [],
   "source": [
    "value = person.get('address')\n",
    "value # None"
   ]
  },
  {
   "cell_type": "code",
   "execution_count": null,
   "id": "e9d48151",
   "metadata": {},
   "outputs": [
    {
     "name": "stdout",
     "output_type": "stream",
     "text": [
      "None\n"
     ]
    }
   ],
   "source": [
    "print(value)"
   ]
  },
  {
   "cell_type": "code",
   "execution_count": null,
   "id": "d1472133",
   "metadata": {},
   "outputs": [
    {
     "data": {
      "text/plain": [
       "'기본주소'"
      ]
     },
     "execution_count": 14,
     "metadata": {},
     "output_type": "execute_result"
    }
   ],
   "source": [
    "value = person.get('adderss','기본주소')\n",
    "value"
   ]
  },
  {
   "cell_type": "markdown",
   "id": "217f1d23",
   "metadata": {},
   "source": [
    "### 딕셔너리 관련 함수\n",
    "\n",
    "1) Key 리스트 만들기 - keys\n",
    "\n",
    "- 딕셔너리의 키값목록\n",
    "\n",
    "참고) 자바의 Map:keySet()와 유사\n",
    "\n",
    "2) Value 리스트 만들기 - values\n",
    "\n",
    "- 딕셔널의 값의 목록\n",
    "- dict_values 자료형\n",
    "\n",
    "참고) 자바의 values()\n",
    "\n",
    "3) Key,Value 쌍 얻기 - items\n",
    "\n",
    "- 키,값의 쌍의 목록\n",
    "- dict_items\n",
    "\n",
    "참고) 자바의 Map: entrySet()\n",
    "\n",
    "4) Key: Value 쌍 모두 지우기 - clear\n",
    "\n",
    "- 딕셔너리 비우기\n",
    "\n",
    "> dict_keys, dict_values, dict_items -> 보통은 리스트 자료형으로 변환 후 사용하는 경우가 많다.\n",
    "> list(...) 감싸면 된다!\n",
    "> 튜플로 사용할려면 tuple(...)로 감싼다."
   ]
  },
  {
   "cell_type": "code",
   "execution_count": null,
   "id": "e98fc977",
   "metadata": {},
   "outputs": [
    {
     "data": {
      "text/plain": [
       "dict_keys(['name', 'age'])"
      ]
     },
     "execution_count": 15,
     "metadata": {},
     "output_type": "execute_result"
    }
   ],
   "source": [
    "person.keys()"
   ]
  },
  {
   "cell_type": "code",
   "execution_count": null,
   "id": "ff36b767",
   "metadata": {},
   "outputs": [
    {
     "name": "stdout",
     "output_type": "stream",
     "text": [
      "['name', 'age']\n"
     ]
    }
   ],
   "source": [
    "keys = list(person.keys())\n",
    "print(keys)"
   ]
  },
  {
   "cell_type": "code",
   "execution_count": null,
   "id": "98506600",
   "metadata": {},
   "outputs": [
    {
     "data": {
      "text/plain": [
       "dict_values(['이이름', 40])"
      ]
     },
     "execution_count": 19,
     "metadata": {},
     "output_type": "execute_result"
    }
   ],
   "source": [
    "person.values()"
   ]
  },
  {
   "cell_type": "code",
   "execution_count": null,
   "id": "0beab2bb",
   "metadata": {},
   "outputs": [
    {
     "data": {
      "text/plain": [
       "('이이름', 40)"
      ]
     },
     "execution_count": 20,
     "metadata": {},
     "output_type": "execute_result"
    }
   ],
   "source": [
    "values = tuple(person.values())\n",
    "values"
   ]
  },
  {
   "cell_type": "code",
   "execution_count": null,
   "id": "651d7680",
   "metadata": {},
   "outputs": [
    {
     "data": {
      "text/plain": [
       "dict_items([('name', '이이름'), ('age', 40)])"
      ]
     },
     "execution_count": 21,
     "metadata": {},
     "output_type": "execute_result"
    }
   ],
   "source": [
    "person.items()"
   ]
  },
  {
   "cell_type": "code",
   "execution_count": null,
   "id": "f52834b3",
   "metadata": {},
   "outputs": [
    {
     "name": "stdout",
     "output_type": "stream",
     "text": [
      "('name', '이이름') <class 'tuple'>\n",
      "('age', 40) <class 'tuple'>\n"
     ]
    }
   ],
   "source": [
    "for item in person.items():\n",
    "    print(item, type(item))"
   ]
  },
  {
   "cell_type": "code",
   "execution_count": null,
   "id": "192a1764",
   "metadata": {},
   "outputs": [
    {
     "name": "stdout",
     "output_type": "stream",
     "text": [
      "key name value 이이름\n",
      "key age value 40\n"
     ]
    }
   ],
   "source": [
    "for (key, value) in person.items():\n",
    "    print(\"key\",key,\"value\",value)"
   ]
  },
  {
   "cell_type": "code",
   "execution_count": null,
   "id": "5c248c08",
   "metadata": {},
   "outputs": [
    {
     "ename": "TypeError",
     "evalue": "unhashable type: 'list'",
     "output_type": "error",
     "traceback": [
      "\u001b[31m---------------------------------------------------------------------------\u001b[39m",
      "\u001b[31mTypeError\u001b[39m                                 Traceback (most recent call last)",
      "\u001b[36mCell\u001b[39m\u001b[36m \u001b[39m\u001b[32mIn[25]\u001b[39m\u001b[32m, line 1\u001b[39m\n\u001b[32m----> \u001b[39m\u001b[32m1\u001b[39m a = {[\u001b[32m1\u001b[39m,\u001b[32m2\u001b[39m,\u001b[32m3\u001b[39m]: \u001b[33m'\u001b[39m\u001b[33m값\u001b[39m\u001b[33m'\u001b[39m}\n",
      "\u001b[31mTypeError\u001b[39m: unhashable type: 'list'"
     ]
    }
   ],
   "source": [
    "a = {[1,2,3]: '값'}"
   ]
  },
  {
   "cell_type": "code",
   "execution_count": null,
   "id": "fdeff993",
   "metadata": {},
   "outputs": [],
   "source": [
    "a = {(1,2,3): '값'}"
   ]
  },
  {
   "cell_type": "code",
   "execution_count": null,
   "id": "0a607f1e",
   "metadata": {},
   "outputs": [],
   "source": []
  }
 ],
 "metadata": {
  "kernelspec": {
   "display_name": "Python 3",
   "language": "python",
   "name": "python3"
  },
  "language_info": {
   "codemirror_mode": {
    "name": "ipython",
    "version": 3
   },
   "file_extension": ".py",
   "mimetype": "text/x-python",
   "name": "python",
   "nbconvert_exporter": "python",
   "pygments_lexer": "ipython3",
   "version": "3.12.10"
  }
 },
 "nbformat": 4,
 "nbformat_minor": 5
}
