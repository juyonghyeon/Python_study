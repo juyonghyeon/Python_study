{
 "cells": [
  {
   "cell_type": "markdown",
   "id": "d687323b",
   "metadata": {},
   "source": [
    "# 리스트\n",
    "- 순차 자료 구조\n",
    "- 모든 값을 담을 수 있음"
   ]
  },
  {
   "cell_type": "code",
   "execution_count": 1,
   "id": "6c912d4f",
   "metadata": {},
   "outputs": [],
   "source": [
    "fruits = ['사과','오렌지','바나나','배','멜론','망고',['a','b','c']]"
   ]
  },
  {
   "cell_type": "code",
   "execution_count": 2,
   "id": "965d6ae4",
   "metadata": {},
   "outputs": [
    {
     "data": {
      "text/plain": [
       "['사과', '오렌지', '바나나', '배', '멜론', '망고', ['a', 'b', 'c']]"
      ]
     },
     "execution_count": 2,
     "metadata": {},
     "output_type": "execute_result"
    }
   ],
   "source": [
    "fruits"
   ]
  },
  {
   "cell_type": "markdown",
   "id": "656f60eb",
   "metadata": {},
   "source": [
    "## 리스트 인덱싱\n",
    "-  \\[순서번호] : 순서번호는 0번부터 시작\n",
    "- \\[음수] : 오른쪽 부터 시작, -1 - 오른쪽 끝"
   ]
  },
  {
   "cell_type": "code",
   "execution_count": 3,
   "id": "91873aac",
   "metadata": {},
   "outputs": [
    {
     "name": "stdout",
     "output_type": "stream",
     "text": [
      "사과 오렌지 바나나\n"
     ]
    }
   ],
   "source": [
    "print(fruits[0],fruits[1],fruits[2])"
   ]
  },
  {
   "cell_type": "code",
   "execution_count": 4,
   "id": "3fbd6d3e",
   "metadata": {},
   "outputs": [
    {
     "data": {
      "text/plain": [
       "['a', 'b', 'c']"
      ]
     },
     "execution_count": 4,
     "metadata": {},
     "output_type": "execute_result"
    }
   ],
   "source": [
    "fruits[-1]"
   ]
  },
  {
   "cell_type": "markdown",
   "id": "d22547e0",
   "metadata": {},
   "source": [
    "## 인덱스 슬라이싱\n",
    "- a\\[시작번호:종료번호] 시작번호 <= a < 종료번호, 종료번호 요소는 포함되지 않는다.\n",
    "- a\\[시작번호:] 시작번호부터 끝까지\n",
    "- a\\[:종료번호] 종료 번호 미만 모두"
   ]
  },
  {
   "cell_type": "code",
   "execution_count": 8,
   "id": "4363a6d2",
   "metadata": {},
   "outputs": [
    {
     "data": {
      "text/plain": [
       "['사과', '오렌지', '바나나']"
      ]
     },
     "execution_count": 8,
     "metadata": {},
     "output_type": "execute_result"
    }
   ],
   "source": [
    "fruits[0:3] # 0, 1, 2"
   ]
  },
  {
   "cell_type": "code",
   "execution_count": 9,
   "id": "2e15f023",
   "metadata": {},
   "outputs": [
    {
     "data": {
      "text/plain": [
       "['사과', '오렌지', '바나나']"
      ]
     },
     "execution_count": 9,
     "metadata": {},
     "output_type": "execute_result"
    }
   ],
   "source": [
    "fruits[:3] # 0, 1, 2"
   ]
  },
  {
   "cell_type": "code",
   "execution_count": 10,
   "id": "f845b20b",
   "metadata": {},
   "outputs": [
    {
     "data": {
      "text/plain": [
       "['배', '멜론', '망고', ['a', 'b', 'c']]"
      ]
     },
     "execution_count": 10,
     "metadata": {},
     "output_type": "execute_result"
    }
   ],
   "source": [
    "fruits[3:]"
   ]
  },
  {
   "cell_type": "code",
   "execution_count": null,
   "id": "bb1b4f6a",
   "metadata": {},
   "outputs": [
    {
     "data": {
      "text/plain": [
       "['배', '멜론', '망고']"
      ]
     },
     "execution_count": 11,
     "metadata": {},
     "output_type": "execute_result"
    }
   ],
   "source": [
    "fruits[3:6] # 3, 4, 5"
   ]
  },
  {
   "cell_type": "code",
   "execution_count": null,
   "id": "a7d23df9",
   "metadata": {},
   "outputs": [
    {
     "data": {
      "text/plain": [
       "['배', '멜론', '망고']"
      ]
     },
     "execution_count": 12,
     "metadata": {},
     "output_type": "execute_result"
    }
   ],
   "source": [
    "fruits[3:-1] # 3, 4, 5"
   ]
  },
  {
   "cell_type": "code",
   "execution_count": 13,
   "id": "e81cc5b2",
   "metadata": {},
   "outputs": [
    {
     "data": {
      "text/plain": [
       "['a', 'b']"
      ]
     },
     "execution_count": 13,
     "metadata": {},
     "output_type": "execute_result"
    }
   ],
   "source": [
    "fruits[-1][:2]"
   ]
  },
  {
   "cell_type": "markdown",
   "id": "1d1459e8",
   "metadata": {},
   "source": [
    "## 리스트 연산하기\n",
    "- \\+ : 리스트 결합, 결합 할때 마다 새로운 객체 생성\n",
    "- \\* : 리스트 반복, 반복할때 마다 새로운 리스트 객체 생성\n",
    "- 리스트의 갯수 : len(..)"
   ]
  },
  {
   "cell_type": "code",
   "execution_count": 14,
   "id": "fc904af7",
   "metadata": {},
   "outputs": [],
   "source": [
    "nums = [1,2,3]"
   ]
  },
  {
   "cell_type": "code",
   "execution_count": 15,
   "id": "43038ced",
   "metadata": {},
   "outputs": [
    {
     "name": "stdout",
     "output_type": "stream",
     "text": [
      "[1, 2, 3, 4, 5, 6]\n"
     ]
    }
   ],
   "source": [
    "nums2 = nums + [4,5,6]\n",
    "print(nums2)"
   ]
  },
  {
   "cell_type": "code",
   "execution_count": 16,
   "id": "f8d75001",
   "metadata": {},
   "outputs": [
    {
     "name": "stdout",
     "output_type": "stream",
     "text": [
      "[1, 2, 3, 1, 2, 3, 1, 2, 3]\n"
     ]
    }
   ],
   "source": [
    "nums3 = nums * 3\n",
    "print(nums3)"
   ]
  },
  {
   "cell_type": "code",
   "execution_count": 17,
   "id": "38f87af8",
   "metadata": {},
   "outputs": [
    {
     "data": {
      "text/plain": [
       "3"
      ]
     },
     "execution_count": 17,
     "metadata": {},
     "output_type": "execute_result"
    }
   ],
   "source": [
    "len(nums)"
   ]
  },
  {
   "cell_type": "code",
   "execution_count": 19,
   "id": "d16a0bf3",
   "metadata": {},
   "outputs": [
    {
     "ename": "TypeError",
     "evalue": "can only concatenate list (not \"str\") to list",
     "output_type": "error",
     "traceback": [
      "\u001b[31m---------------------------------------------------------------------------\u001b[39m",
      "\u001b[31mTypeError\u001b[39m                                 Traceback (most recent call last)",
      "\u001b[36mCell\u001b[39m\u001b[36m \u001b[39m\u001b[32mIn[19]\u001b[39m\u001b[32m, line 1\u001b[39m\n\u001b[32m----> \u001b[39m\u001b[32m1\u001b[39m \u001b[43mnums\u001b[49m\u001b[43m \u001b[49m\u001b[43m+\u001b[49m\u001b[43m \u001b[49m\u001b[33;43m\"\u001b[39;49m\u001b[33;43mhi\u001b[39;49m\u001b[33;43m\"\u001b[39;49m \u001b[38;5;66;03m# 리스트는 리스트 끼리 연산-\u001b[39;00m\n",
      "\u001b[31mTypeError\u001b[39m: can only concatenate list (not \"str\") to list"
     ]
    }
   ],
   "source": [
    "nums + \"hi\" # 리스트는 리스트 끼리 연산-"
   ]
  },
  {
   "cell_type": "markdown",
   "id": "e925423e",
   "metadata": {},
   "source": [
    "### 리스트 수정 삭제\n",
    "- 이미 있는 인덱스에 값을 대입하면 수정\n",
    "- del 연산자를 통해서 삭제"
   ]
  },
  {
   "cell_type": "code",
   "execution_count": 22,
   "id": "0aac8131",
   "metadata": {},
   "outputs": [],
   "source": [
    "# del fruits[-1]\n",
    "del fruits[1]"
   ]
  },
  {
   "cell_type": "code",
   "execution_count": 23,
   "id": "4d22675d",
   "metadata": {},
   "outputs": [
    {
     "data": {
      "text/plain": [
       "['사과', '바나나', '배', '멜론', '망고']"
      ]
     },
     "execution_count": 23,
     "metadata": {},
     "output_type": "execute_result"
    }
   ],
   "source": [
    "fruits"
   ]
  },
  {
   "cell_type": "markdown",
   "id": "4476a34a",
   "metadata": {},
   "source": [
    "### 리스트 관련 함수\n",
    "1. 리스트 관련 함수\n",
    "\n",
    " 1) 리스트에 요소 추가하기 - append\n",
    "\n",
    " 2) 리스트 정렬 - sort\n",
    "    - 원본 리스트 객체의 정렬을 변경\n",
    "    참고)\n",
    "        sorted : 새로운 리스트 객체를 생성해서 정렬, 원본 데이터를 반환하지 않는다.\n",
    "\n",
    " 3) 리스트 뒤집기 - reverse\n",
    "\n",
    " 4) 인덱스 반환 - index\n",
    "\n",
    "- 못찾은 경우는 ValueError 발생\n",
    "\n",
    "참고) find 함수는 X, 문자열 객체에서만 존재\n",
    "\n",
    " 5) 리스트에 요소 삽입 - insert\n",
    "\n",
    "- insert(위치번호, 추가할 요소)\n",
    "\n",
    " 6) 리스트 요소 제거 -remove\n",
    "\n",
    "- remove(삭제 요소)\n",
    "\n",
    "참고) 제거할 값, 첫번째 발견 요소를 삭제\n",
    "\n",
    " 7) 리스트 요소 끄집어 내기 - pop\n",
    "\n",
    " 8) 리스트에 퐇마된 요소 x의 개수 세기 - count\n",
    "\n",
    " 9) 리스트 확장 - extend"
   ]
  },
  {
   "cell_type": "code",
   "execution_count": 29,
   "id": "1694e428",
   "metadata": {},
   "outputs": [],
   "source": [
    "fruits = ['사과','오렌지']"
   ]
  },
  {
   "cell_type": "code",
   "execution_count": 30,
   "id": "b27d2ee8",
   "metadata": {},
   "outputs": [
    {
     "data": {
      "text/plain": [
       "['사과', '오렌지', '멜론', ['바나나', '망고']]"
      ]
     },
     "execution_count": 30,
     "metadata": {},
     "output_type": "execute_result"
    }
   ],
   "source": [
    "# appned\n",
    "\"\"\"\n",
    "    append(요소 한개)\n",
    "    원본 리스트 객체의 변경을 가한다.\n",
    "    참고) + 연산자는 원본 리스트 객체를 변경하지 않는다.\n",
    "\"\"\"\n",
    "fruits.append(\"멜론\")\n",
    "fruits.append([\"바나나\",\"망고\"])\n",
    "fruits"
   ]
  },
  {
   "cell_type": "code",
   "execution_count": 34,
   "id": "d6ba2182",
   "metadata": {},
   "outputs": [
    {
     "data": {
      "text/plain": [
       "['사과', '오렌지', '바나나', '망고']"
      ]
     },
     "execution_count": 34,
     "metadata": {},
     "output_type": "execute_result"
    }
   ],
   "source": [
    "# extend\n",
    "\"\"\"\n",
    "    extend([요소 여러개...])\n",
    "    원본 리스트 객체의 변경을 가한다.\n",
    "\"\"\"\n",
    "fruits = ['사과','오렌지']\n",
    "fruits.extend([\"바나나\",\"망고\"])\n",
    "fruits"
   ]
  },
  {
   "cell_type": "code",
   "execution_count": 35,
   "id": "9d1c3f34",
   "metadata": {},
   "outputs": [
    {
     "data": {
      "text/plain": [
       "['사과', '오렌지', '바나나', '망고', '사과']"
      ]
     },
     "execution_count": 35,
     "metadata": {},
     "output_type": "execute_result"
    }
   ],
   "source": [
    "fruits.insert(4,'사과')\n",
    "fruits"
   ]
  },
  {
   "cell_type": "code",
   "execution_count": 36,
   "id": "74e9b79b",
   "metadata": {},
   "outputs": [
    {
     "data": {
      "text/plain": [
       "['오렌지', '바나나', '망고', '사과']"
      ]
     },
     "execution_count": 36,
     "metadata": {},
     "output_type": "execute_result"
    }
   ],
   "source": [
    "fruits.remove('사과')\n",
    "fruits"
   ]
  },
  {
   "cell_type": "code",
   "execution_count": 37,
   "id": "d0f76686",
   "metadata": {},
   "outputs": [],
   "source": [
    "fruits = ['사과', '오렌지', '바나나', '망고', '사과']"
   ]
  },
  {
   "cell_type": "code",
   "execution_count": 38,
   "id": "3fac14da",
   "metadata": {},
   "outputs": [],
   "source": [
    "fruits2 = fruits"
   ]
  },
  {
   "cell_type": "code",
   "execution_count": 39,
   "id": "e456651c",
   "metadata": {},
   "outputs": [
    {
     "name": "stdout",
     "output_type": "stream",
     "text": [
      "fruits2 ['사과', '오렌지', '바나나', '멜론', '망고', '사과'] fruits ['사과', '오렌지', '바나나', '멜론', '망고', '사과']\n"
     ]
    }
   ],
   "source": [
    "fruits2.insert(3,'멜론')\n",
    "print(\"fruits2\",fruits2,'fruits',fruits)"
   ]
  },
  {
   "cell_type": "code",
   "execution_count": null,
   "id": "d465a61a",
   "metadata": {},
   "outputs": [
    {
     "data": {
      "text/plain": [
       "True"
      ]
     },
     "execution_count": 40,
     "metadata": {},
     "output_type": "execute_result"
    }
   ],
   "source": []
  },
  {
   "cell_type": "markdown",
   "id": "16b7e1df",
   "metadata": {},
   "source": [
    "### 원본 리스트 객체를 변경하지 않는 방법\n",
    "- 슬라이싱을 사용하는 방법 \\[:]\n",
    "- 리스트 객체의 copy()"
   ]
  },
  {
   "cell_type": "code",
   "execution_count": 41,
   "id": "45367dd5",
   "metadata": {},
   "outputs": [],
   "source": [
    "fruits = ['사과', '오렌지', '바나나', '망고', '사과']"
   ]
  },
  {
   "cell_type": "code",
   "execution_count": 42,
   "id": "1465e418",
   "metadata": {},
   "outputs": [
    {
     "name": "stdout",
     "output_type": "stream",
     "text": [
      "fruits2 ['사과', '오렌지', '바나나', '멜론', '망고', '사과'] fruits ['사과', '오렌지', '바나나', '망고', '사과']\n"
     ]
    }
   ],
   "source": [
    "fruits2 = fruits[:] # 새로운 리스트 객체로 복사\n",
    "fruits2.insert(3,\"멜론\")\n",
    "print(\"fruits2\",fruits2,'fruits',fruits)"
   ]
  },
  {
   "cell_type": "code",
   "execution_count": 43,
   "id": "c591dd09",
   "metadata": {},
   "outputs": [
    {
     "name": "stdout",
     "output_type": "stream",
     "text": [
      "fruits2 ['사과', '오렌지', '바나나', '멜론', '망고', '사과'] fruits ['사과', '오렌지', '바나나', '망고', '사과']\n"
     ]
    }
   ],
   "source": [
    "fruits3 = fruits.copy() # 새로운 리스트 객체로 복사\n",
    "fruits3.insert(3,\"멜론\")\n",
    "print(\"fruits2\",fruits2,'fruits',fruits)"
   ]
  },
  {
   "cell_type": "code",
   "execution_count": 44,
   "id": "75fba528",
   "metadata": {},
   "outputs": [
    {
     "data": {
      "text/plain": [
       "2"
      ]
     },
     "execution_count": 44,
     "metadata": {},
     "output_type": "execute_result"
    }
   ],
   "source": [
    "fruits.count('사과')"
   ]
  },
  {
   "cell_type": "code",
   "execution_count": 45,
   "id": "b3808de0",
   "metadata": {},
   "outputs": [
    {
     "data": {
      "text/plain": [
       "['사과', '망고', '바나나', '오렌지', '사과']"
      ]
     },
     "execution_count": 45,
     "metadata": {},
     "output_type": "execute_result"
    }
   ],
   "source": [
    "fruits.reverse()\n",
    "fruits"
   ]
  },
  {
   "cell_type": "code",
   "execution_count": 46,
   "id": "20c5f20d",
   "metadata": {},
   "outputs": [
    {
     "data": {
      "text/plain": [
       "'사과'"
      ]
     },
     "execution_count": 46,
     "metadata": {},
     "output_type": "execute_result"
    }
   ],
   "source": [
    "fruits.pop()"
   ]
  },
  {
   "cell_type": "code",
   "execution_count": 47,
   "id": "4a60561d",
   "metadata": {},
   "outputs": [
    {
     "data": {
      "text/plain": [
       "['사과', '망고', '바나나', '오렌지']"
      ]
     },
     "execution_count": 47,
     "metadata": {},
     "output_type": "execute_result"
    }
   ],
   "source": [
    "fruits"
   ]
  },
  {
   "cell_type": "code",
   "execution_count": 48,
   "id": "4016c944",
   "metadata": {},
   "outputs": [],
   "source": [
    "scores = [67,45,90,100,44,66,78,80]"
   ]
  },
  {
   "cell_type": "code",
   "execution_count": 51,
   "id": "56c65f63",
   "metadata": {},
   "outputs": [
    {
     "data": {
      "text/plain": [
       "[100, 90, 80, 78, 67, 66, 45, 44]"
      ]
     },
     "execution_count": 51,
     "metadata": {},
     "output_type": "execute_result"
    }
   ],
   "source": [
    "scores.sort() # 오름차순\n",
    "scores.reverse() # 오름차순 순서를 역순으로 변경 -> 내림차순\n",
    "scores"
   ]
  },
  {
   "cell_type": "code",
   "execution_count": 52,
   "id": "32fe5191",
   "metadata": {},
   "outputs": [],
   "source": [
    "scores = [67,45,90,100,44,66,78,80]"
   ]
  },
  {
   "cell_type": "code",
   "execution_count": 53,
   "id": "154d065a",
   "metadata": {},
   "outputs": [
    {
     "name": "stdout",
     "output_type": "stream",
     "text": [
      "scores2 [44, 45, 66, 67, 78, 80, 90, 100]\n",
      "scores [67, 45, 90, 100, 44, 66, 78, 80]\n"
     ]
    }
   ],
   "source": [
    "scores2 = sorted(scores)\n",
    "print(\"scores2\", scores2)\n",
    "print(\"scores\", scores)"
   ]
  },
  {
   "cell_type": "code",
   "execution_count": null,
   "id": "019518a6",
   "metadata": {},
   "outputs": [],
   "source": []
  }
 ],
 "metadata": {
  "kernelspec": {
   "display_name": "Python 3",
   "language": "python",
   "name": "python3"
  },
  "language_info": {
   "codemirror_mode": {
    "name": "ipython",
    "version": 3
   },
   "file_extension": ".py",
   "mimetype": "text/x-python",
   "name": "python",
   "nbconvert_exporter": "python",
   "pygments_lexer": "ipython3",
   "version": "3.12.10"
  }
 },
 "nbformat": 4,
 "nbformat_minor": 5
}
