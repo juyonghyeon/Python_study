{
 "cells": [
  {
   "cell_type": "markdown",
   "id": "e0b2ce5a",
   "metadata": {},
   "source": [
    "## if문의 구조\n",
    "```python\n",
    "if 조건식:\n",
    "    참일때 실행될 코드\n",
    "\n",
    "if 조건식:\n",
    "    참일때 실행될 코드\n",
    "else:\n",
    "    거짓일때 실행될 코드\n",
    "\n",
    "if 조건식1:\n",
    "    참일때 실행될 코드\n",
    "elif 조건식2:\n",
    "    조건식1이 거짓, 조건식2가 참\n",
    "...\n",
    "else:\n",
    "    거짓일때 실행될 코드\n",
    "\n",
    "if 조건식: 실행코드\n",
    "```"
   ]
  },
  {
   "cell_type": "code",
   "execution_count": 13,
   "id": "2ee77135",
   "metadata": {},
   "outputs": [
    {
     "name": "stdout",
     "output_type": "stream",
     "text": [
      "가입 불가\n"
     ]
    }
   ],
   "source": [
    "age = 13\n",
    "if age >= 14:\n",
    "    pass # 아무것도 하지않음\n",
    "else:\n",
    "    print(\"가입 불가\")"
   ]
  },
  {
   "cell_type": "code",
   "execution_count": 14,
   "id": "763f5d2d",
   "metadata": {},
   "outputs": [
    {
     "name": "stdout",
     "output_type": "stream",
     "text": [
      "가입 불가\n"
     ]
    }
   ],
   "source": [
    "if not (age >=14):\n",
    "    print(\"가입 불가\")"
   ]
  },
  {
   "cell_type": "code",
   "execution_count": 15,
   "id": "71fd00c8",
   "metadata": {},
   "outputs": [
    {
     "name": "stdout",
     "output_type": "stream",
     "text": [
      "가입불가\n"
     ]
    }
   ],
   "source": [
    "if age >= 14: pass\n",
    "else: print(\"가입불가\")"
   ]
  },
  {
   "cell_type": "markdown",
   "id": "6f583cf2",
   "metadata": {},
   "source": [
    "## 비교 연산자\n",
    "\n",
    "```python\n",
    "x == y : 동등성 비교\n",
    "\n",
    "x is y : 동일성 비교(주소 비교)\n",
    "```"
   ]
  },
  {
   "cell_type": "code",
   "execution_count": 16,
   "id": "85d7edb6",
   "metadata": {},
   "outputs": [],
   "source": [
    "a = [1,2,3]\n",
    "b = [1,2,3]"
   ]
  },
  {
   "cell_type": "code",
   "execution_count": 17,
   "id": "e2adaf5f",
   "metadata": {},
   "outputs": [
    {
     "data": {
      "text/plain": [
       "True"
      ]
     },
     "execution_count": 17,
     "metadata": {},
     "output_type": "execute_result"
    }
   ],
   "source": [
    "a == b # 동등성 비교"
   ]
  },
  {
   "cell_type": "code",
   "execution_count": 18,
   "id": "73c56cda",
   "metadata": {},
   "outputs": [
    {
     "data": {
      "text/plain": [
       "False"
      ]
     },
     "execution_count": 18,
     "metadata": {},
     "output_type": "execute_result"
    }
   ],
   "source": [
    "a is b # 동일성 비교 (주소)"
   ]
  },
  {
   "cell_type": "code",
   "execution_count": 19,
   "id": "5dfe9ca6",
   "metadata": {},
   "outputs": [
    {
     "data": {
      "text/plain": [
       "False"
      ]
     },
     "execution_count": 19,
     "metadata": {},
     "output_type": "execute_result"
    }
   ],
   "source": [
    "age >= 14 and age < 20"
   ]
  },
  {
   "cell_type": "markdown",
   "id": "a9d13403",
   "metadata": {},
   "source": [
    "### in, not in\n",
    "- 문자열, 리스트, 튜플 등에서 주로 사용\n",
    "- 값이 포함되어 있는지, 포함되어 있지 않은지"
   ]
  },
  {
   "cell_type": "code",
   "execution_count": 20,
   "id": "ef2c8344",
   "metadata": {},
   "outputs": [
    {
     "data": {
      "text/plain": [
       "True"
      ]
     },
     "execution_count": 20,
     "metadata": {},
     "output_type": "execute_result"
    }
   ],
   "source": [
    "'A' in 'ABC'"
   ]
  },
  {
   "cell_type": "code",
   "execution_count": 21,
   "id": "8d9f6816",
   "metadata": {},
   "outputs": [],
   "source": [
    "fruits = ['사과','오렌지','멜론']"
   ]
  },
  {
   "cell_type": "code",
   "execution_count": 22,
   "id": "a543efbd",
   "metadata": {},
   "outputs": [
    {
     "data": {
      "text/plain": [
       "True"
      ]
     },
     "execution_count": 22,
     "metadata": {},
     "output_type": "execute_result"
    }
   ],
   "source": [
    "'멜론' in fruits"
   ]
  },
  {
   "cell_type": "code",
   "execution_count": 23,
   "id": "83a6b22e",
   "metadata": {},
   "outputs": [
    {
     "data": {
      "text/plain": [
       "True"
      ]
     },
     "execution_count": 23,
     "metadata": {},
     "output_type": "execute_result"
    }
   ],
   "source": [
    "'망고' not in fruits"
   ]
  },
  {
   "cell_type": "markdown",
   "id": "5dda9884",
   "metadata": {},
   "source": [
    "## 조건부 표현식\n",
    "```python\n",
    "변수 = 참일 경우의 값 if 조건식 else 조건식이 거짓일때의 값\n",
    "```"
   ]
  },
  {
   "cell_type": "code",
   "execution_count": 25,
   "id": "eeaabd20",
   "metadata": {},
   "outputs": [
    {
     "data": {
      "text/plain": [
       "'가입 불가'"
      ]
     },
     "execution_count": 25,
     "metadata": {},
     "output_type": "execute_result"
    }
   ],
   "source": [
    "message = '가입 가능' if age >= 14 else '가입 불가'\n",
    "message"
   ]
  },
  {
   "cell_type": "code",
   "execution_count": null,
   "id": "96ac3d50",
   "metadata": {},
   "outputs": [],
   "source": []
  }
 ],
 "metadata": {
  "kernelspec": {
   "display_name": "Python 3",
   "language": "python",
   "name": "python3"
  },
  "language_info": {
   "codemirror_mode": {
    "name": "ipython",
    "version": 3
   },
   "file_extension": ".py",
   "mimetype": "text/x-python",
   "name": "python",
   "nbconvert_exporter": "python",
   "pygments_lexer": "ipython3",
   "version": "3.12.10"
  }
 },
 "nbformat": 4,
 "nbformat_minor": 5
}
