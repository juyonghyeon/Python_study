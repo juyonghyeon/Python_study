{
 "cells": [
  {
   "cell_type": "code",
   "execution_count": 11,
   "id": "0989e391",
   "metadata": {},
   "outputs": [
    {
     "name": "stdout",
     "output_type": "stream",
     "text": [
      "2500\n"
     ]
    }
   ],
   "source": [
    "# while문을 사용하여 1부터 100까지 더하시오.\n",
    "# 증가 감소 연산자 사용 불가, 복합 대입 연산자  가능\n",
    "k = 1\n",
    "sum = 0\n",
    "while k<=100:\n",
    "    if k % 2 == 0:\n",
    "        k += 1\n",
    "        continue\n",
    "    sum += k\n",
    "    k += 1\n",
    "print(sum)"
   ]
  },
  {
   "cell_type": "markdown",
   "id": "f966c096",
   "metadata": {},
   "source": [
    "## for문\n",
    "- for 문의 기본구조\n",
    "```python\n",
    "    for 변수 in 리스트, 튜플 또는 반복가능한 객체 - 이터레이터 등등, 문자열:\n",
    "        반복 수행될 코드\n",
    "```"
   ]
  },
  {
   "cell_type": "code",
   "execution_count": 12,
   "id": "e09bb2ca",
   "metadata": {},
   "outputs": [],
   "source": [
    "fruits = ['Apple','Orange','Melon','Mango']"
   ]
  },
  {
   "cell_type": "code",
   "execution_count": 13,
   "id": "73efeb42",
   "metadata": {},
   "outputs": [
    {
     "name": "stdout",
     "output_type": "stream",
     "text": [
      "Apple\n",
      "Orange\n",
      "Melon\n",
      "Mango\n"
     ]
    }
   ],
   "source": [
    "for fruit in fruits:\n",
    "    print(fruit)"
   ]
  },
  {
   "cell_type": "code",
   "execution_count": 14,
   "id": "752de677",
   "metadata": {},
   "outputs": [],
   "source": [
    "person = {\"name\": \"이이름\", \"age\": 40, \"address\": \"주소\"}"
   ]
  },
  {
   "cell_type": "code",
   "execution_count": 15,
   "id": "fac815a8",
   "metadata": {},
   "outputs": [
    {
     "data": {
      "text/plain": [
       "dict_items([('name', '이이름'), ('age', 40), ('address', '주소')])"
      ]
     },
     "execution_count": 15,
     "metadata": {},
     "output_type": "execute_result"
    }
   ],
   "source": [
    "person.items()"
   ]
  },
  {
   "cell_type": "code",
   "execution_count": 18,
   "id": "51eae7ca",
   "metadata": {},
   "outputs": [
    {
     "name": "stdout",
     "output_type": "stream",
     "text": [
      "name 이이름\n",
      "age 40\n",
      "address 주소\n"
     ]
    }
   ],
   "source": [
    "for item in person.items():\n",
    "    print(item[0], item[1])"
   ]
  },
  {
   "cell_type": "code",
   "execution_count": 19,
   "id": "171edabe",
   "metadata": {},
   "outputs": [
    {
     "name": "stdout",
     "output_type": "stream",
     "text": [
      "name 이이름\n",
      "age 40\n",
      "address 주소\n"
     ]
    }
   ],
   "source": [
    "for key,value in person.items():\n",
    "    print(key, value)"
   ]
  },
  {
   "cell_type": "markdown",
   "id": "c3686b19",
   "metadata": {},
   "source": [
    "## 횟수가 있는 반복문\n",
    "```\n",
    "range(시작번호, 종료 번호) - 시작번호 이상, 종료 번호 미만\n",
    "```"
   ]
  },
  {
   "cell_type": "code",
   "execution_count": 20,
   "id": "83345578",
   "metadata": {},
   "outputs": [
    {
     "data": {
      "text/plain": [
       "range(1, 10)"
      ]
     },
     "execution_count": 20,
     "metadata": {},
     "output_type": "execute_result"
    }
   ],
   "source": [
    "items = range(1, 10) # 1~9\n",
    "items"
   ]
  },
  {
   "cell_type": "code",
   "execution_count": 21,
   "id": "0f7b416f",
   "metadata": {},
   "outputs": [
    {
     "name": "stdout",
     "output_type": "stream",
     "text": [
      "반복 0\n",
      "반복 1\n",
      "반복 2\n",
      "반복 3\n",
      "반복 4\n",
      "반복 5\n",
      "반복 6\n",
      "반복 7\n",
      "반복 8\n",
      "반복 9\n"
     ]
    }
   ],
   "source": [
    "for i in range(10):\n",
    "    print(\"반복\",i)"
   ]
  },
  {
   "cell_type": "code",
   "execution_count": 22,
   "id": "c0eadd41",
   "metadata": {},
   "outputs": [
    {
     "name": "stdout",
     "output_type": "stream",
     "text": [
      "1\n",
      "3\n",
      "5\n",
      "7\n",
      "9\n"
     ]
    }
   ],
   "source": [
    "for i in range(1, 11, 2):\n",
    "    print(i)"
   ]
  },
  {
   "cell_type": "code",
   "execution_count": 24,
   "id": "d7c3b383",
   "metadata": {},
   "outputs": [
    {
     "name": "stdout",
     "output_type": "stream",
     "text": [
      "---------- 2 단 ----------\n",
      "2 X 1 = 2\n",
      "2 X 2 = 4\n",
      "2 X 3 = 6\n",
      "2 X 4 = 8\n",
      "2 X 5 = 10\n",
      "2 X 6 = 12\n",
      "2 X 7 = 14\n",
      "2 X 8 = 16\n",
      "2 X 9 = 18\n",
      "---------- 3 단 ----------\n",
      "3 X 1 = 3\n",
      "3 X 2 = 6\n",
      "3 X 3 = 9\n",
      "3 X 4 = 12\n",
      "3 X 5 = 15\n",
      "3 X 6 = 18\n",
      "3 X 7 = 21\n",
      "3 X 8 = 24\n",
      "3 X 9 = 27\n",
      "---------- 4 단 ----------\n",
      "4 X 1 = 4\n",
      "4 X 2 = 8\n",
      "4 X 3 = 12\n",
      "4 X 4 = 16\n",
      "4 X 5 = 20\n",
      "4 X 6 = 24\n",
      "4 X 7 = 28\n",
      "4 X 8 = 32\n",
      "4 X 9 = 36\n",
      "---------- 5 단 ----------\n",
      "5 X 1 = 5\n",
      "5 X 2 = 10\n",
      "5 X 3 = 15\n",
      "5 X 4 = 20\n",
      "5 X 5 = 25\n",
      "5 X 6 = 30\n",
      "5 X 7 = 35\n",
      "5 X 8 = 40\n",
      "5 X 9 = 45\n",
      "---------- 6 단 ----------\n",
      "6 X 1 = 6\n",
      "6 X 2 = 12\n",
      "6 X 3 = 18\n",
      "6 X 4 = 24\n",
      "6 X 5 = 30\n",
      "6 X 6 = 36\n",
      "6 X 7 = 42\n",
      "6 X 8 = 48\n",
      "6 X 9 = 54\n",
      "---------- 7 단 ----------\n",
      "7 X 1 = 7\n",
      "7 X 2 = 14\n",
      "7 X 3 = 21\n",
      "7 X 4 = 28\n",
      "7 X 5 = 35\n",
      "7 X 6 = 42\n",
      "7 X 7 = 49\n",
      "7 X 8 = 56\n",
      "7 X 9 = 63\n",
      "---------- 8 단 ----------\n",
      "8 X 1 = 8\n",
      "8 X 2 = 16\n",
      "8 X 3 = 24\n",
      "8 X 4 = 32\n",
      "8 X 5 = 40\n",
      "8 X 6 = 48\n",
      "8 X 7 = 56\n",
      "8 X 8 = 64\n",
      "8 X 9 = 72\n",
      "---------- 9 단 ----------\n",
      "9 X 1 = 9\n",
      "9 X 2 = 18\n",
      "9 X 3 = 27\n",
      "9 X 4 = 36\n",
      "9 X 5 = 45\n",
      "9 X 6 = 54\n",
      "9 X 7 = 63\n",
      "9 X 8 = 72\n",
      "9 X 9 = 81\n"
     ]
    }
   ],
   "source": [
    "for i in range(2, 10): # 2 ~ 9\n",
    "    print(\"-\"*10, i, '단', \"-\"*10)\n",
    "    for j in range(1,10): # 1 ~ 9\n",
    "        print(f\"{i} X {j} = {i*j}\")"
   ]
  },
  {
   "cell_type": "code",
   "execution_count": 25,
   "id": "fb0f0d53",
   "metadata": {},
   "outputs": [
    {
     "name": "stdout",
     "output_type": "stream",
     "text": [
      "[1, 4, 9, 16, 25, 36, 49, 64, 81, 100]\n"
     ]
    }
   ],
   "source": [
    "nums = [1,2,3,4,5,6,7,8,9,10]\n",
    "nums2 = []\n",
    "for num in nums:\n",
    "    nums2.append(num * num)\n",
    "print(nums2)"
   ]
  },
  {
   "cell_type": "markdown",
   "id": "5dd36bf6",
   "metadata": {},
   "source": [
    "## 리스트 컴프리헨션\n",
    "- 리스트내에서 for문을 사용하여 바로 변환하고 할당"
   ]
  },
  {
   "cell_type": "code",
   "execution_count": null,
   "id": "15624def",
   "metadata": {},
   "outputs": [
    {
     "data": {
      "text/plain": [
       "[1, 4, 9, 16, 25, 36, 49, 64, 81, 100]"
      ]
     },
     "execution_count": 26,
     "metadata": {},
     "output_type": "execute_result"
    }
   ],
   "source": [
    "nums3 = [num * num for num in nums]\n",
    "\n",
    "nums3"
   ]
  },
  {
   "cell_type": "code",
   "execution_count": 28,
   "id": "d16cedbe",
   "metadata": {},
   "outputs": [
    {
     "data": {
      "text/plain": [
       "[4, 16, 36, 64, 100]"
      ]
     },
     "execution_count": 28,
     "metadata": {},
     "output_type": "execute_result"
    }
   ],
   "source": [
    "nums4 = [num*num for num in nums if num % 2 == 0]\n",
    "nums4"
   ]
  },
  {
   "cell_type": "code",
   "execution_count": 30,
   "id": "ff2b582f",
   "metadata": {},
   "outputs": [],
   "source": [
    "nums1 = [1,2,3,4,5,6,7,8,9,10]\n",
    "nums2 = [10,20,30,40,50,60,70,80,90,100]"
   ]
  },
  {
   "cell_type": "code",
   "execution_count": 32,
   "id": "9499f028",
   "metadata": {},
   "outputs": [
    {
     "data": {
      "text/plain": [
       "[10,\n",
       " 20,\n",
       " 30,\n",
       " 40,\n",
       " 50,\n",
       " 60,\n",
       " 70,\n",
       " 80,\n",
       " 90,\n",
       " 100,\n",
       " 20,\n",
       " 40,\n",
       " 60,\n",
       " 80,\n",
       " 100,\n",
       " 120,\n",
       " 140,\n",
       " 160,\n",
       " 180,\n",
       " 200,\n",
       " 30,\n",
       " 60,\n",
       " 90,\n",
       " 120,\n",
       " 150,\n",
       " 180,\n",
       " 210,\n",
       " 240,\n",
       " 270,\n",
       " 300,\n",
       " 40,\n",
       " 80,\n",
       " 120,\n",
       " 160,\n",
       " 200,\n",
       " 240,\n",
       " 280,\n",
       " 320,\n",
       " 360,\n",
       " 400,\n",
       " 50,\n",
       " 100,\n",
       " 150,\n",
       " 200,\n",
       " 250,\n",
       " 300,\n",
       " 350,\n",
       " 400,\n",
       " 450,\n",
       " 500,\n",
       " 60,\n",
       " 120,\n",
       " 180,\n",
       " 240,\n",
       " 300,\n",
       " 360,\n",
       " 420,\n",
       " 480,\n",
       " 540,\n",
       " 600,\n",
       " 70,\n",
       " 140,\n",
       " 210,\n",
       " 280,\n",
       " 350,\n",
       " 420,\n",
       " 490,\n",
       " 560,\n",
       " 630,\n",
       " 700,\n",
       " 80,\n",
       " 160,\n",
       " 240,\n",
       " 320,\n",
       " 400,\n",
       " 480,\n",
       " 560,\n",
       " 640,\n",
       " 720,\n",
       " 800,\n",
       " 90,\n",
       " 180,\n",
       " 270,\n",
       " 360,\n",
       " 450,\n",
       " 540,\n",
       " 630,\n",
       " 720,\n",
       " 810,\n",
       " 900,\n",
       " 100,\n",
       " 200,\n",
       " 300,\n",
       " 400,\n",
       " 500,\n",
       " 600,\n",
       " 700,\n",
       " 800,\n",
       " 900,\n",
       " 1000]"
      ]
     },
     "execution_count": 32,
     "metadata": {},
     "output_type": "execute_result"
    }
   ],
   "source": [
    "nums3 = [num1*num2 for num1 in nums1 for num2 in nums2]\n",
    "\n",
    "nums3"
   ]
  },
  {
   "cell_type": "code",
   "execution_count": null,
   "id": "0b7e13e1",
   "metadata": {},
   "outputs": [],
   "source": []
  }
 ],
 "metadata": {
  "kernelspec": {
   "display_name": "Python 3",
   "language": "python",
   "name": "python3"
  },
  "language_info": {
   "codemirror_mode": {
    "name": "ipython",
    "version": 3
   },
   "file_extension": ".py",
   "mimetype": "text/x-python",
   "name": "python",
   "nbconvert_exporter": "python",
   "pygments_lexer": "ipython3",
   "version": "3.12.10"
  }
 },
 "nbformat": 4,
 "nbformat_minor": 5
}
