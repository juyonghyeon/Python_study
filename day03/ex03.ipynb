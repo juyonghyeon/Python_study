{
 "cells": [
  {
   "cell_type": "markdown",
   "id": "8491e02d",
   "metadata": {},
   "source": [
    "## 파이썬 함수의 구조\n",
    "\n",
    "```python\n",
    "def 함수명(매개변수 정의):\n",
    "    수행될 코드...\n",
    "```"
   ]
  },
  {
   "cell_type": "code",
   "execution_count": 1,
   "id": "19c1a559",
   "metadata": {},
   "outputs": [],
   "source": [
    "def add(num1, num2):\n",
    "    return num1 + num2"
   ]
  },
  {
   "cell_type": "code",
   "execution_count": 3,
   "id": "5dc16691",
   "metadata": {},
   "outputs": [
    {
     "data": {
      "text/plain": [
       "30"
      ]
     },
     "execution_count": 3,
     "metadata": {},
     "output_type": "execute_result"
    }
   ],
   "source": [
    "result = add(10,20)\n",
    "result"
   ]
  },
  {
   "cell_type": "markdown",
   "id": "6bbd1ad6",
   "metadata": {},
   "source": [
    "## 매개변수 기본값 설정\n",
    "```python\n",
    "def add(num1, num2 = 10):\n",
    "    return  num1 + num2\n",
    "```\n",
    "\n",
    "> 매개변수의 기본값은 끝에서부터 차례대로 설정"
   ]
  },
  {
   "cell_type": "code",
   "execution_count": 4,
   "id": "396c75e7",
   "metadata": {},
   "outputs": [],
   "source": [
    "def add(num1, num2 = 10):\n",
    "    return num1 + num2"
   ]
  },
  {
   "cell_type": "code",
   "execution_count": 5,
   "id": "8489f31d",
   "metadata": {},
   "outputs": [
    {
     "data": {
      "text/plain": [
       "30"
      ]
     },
     "execution_count": 5,
     "metadata": {},
     "output_type": "execute_result"
    }
   ],
   "source": [
    "add(20)"
   ]
  },
  {
   "cell_type": "markdown",
   "id": "03221035",
   "metadata": {},
   "source": [
    "## 가변 매개변수\n",
    "- 매개변수에 *를 붙인다.\n",
    "    - 입력한 값은 튜플로 담긴다\n",
    "- 키워드 가변 매개변수\n",
    "    - 매개변수에 **를 붙인다\n",
    "    - 딕셔너리 형태로 값이 담긴다."
   ]
  },
  {
   "cell_type": "code",
   "execution_count": 8,
   "id": "c47efc6e",
   "metadata": {},
   "outputs": [],
   "source": [
    "def calc(oper, *args):\n",
    "    result = 0\n",
    "    if oper == 'add':\n",
    "        for num in args: result += num\n",
    "    elif oper == 'mul':\n",
    "        result = 1\n",
    "        for num in args: result *= num\n",
    "    return result "
   ]
  },
  {
   "cell_type": "code",
   "execution_count": 9,
   "id": "b07e2e2a",
   "metadata": {},
   "outputs": [
    {
     "data": {
      "text/plain": [
       "100"
      ]
     },
     "execution_count": 9,
     "metadata": {},
     "output_type": "execute_result"
    }
   ],
   "source": [
    "calc(\"add\",10, 20,30,40)"
   ]
  },
  {
   "cell_type": "code",
   "execution_count": 10,
   "id": "0cbb46bd",
   "metadata": {},
   "outputs": [
    {
     "data": {
      "text/plain": [
       "240000"
      ]
     },
     "execution_count": 10,
     "metadata": {},
     "output_type": "execute_result"
    }
   ],
   "source": [
    "calc('mul',10,20,30,40)"
   ]
  },
  {
   "cell_type": "code",
   "execution_count": 11,
   "id": "28f92e26",
   "metadata": {},
   "outputs": [],
   "source": [
    "# 파이썬 함수 이름 또는 변수의 이름을 짓는 경우 snake case 형태로 사용 단어와 단어 사이 _로 붙인다.\n",
    "def print_value(**kwargs):\n",
    "    print(kwargs)"
   ]
  },
  {
   "cell_type": "code",
   "execution_count": 12,
   "id": "8b0d768b",
   "metadata": {},
   "outputs": [
    {
     "name": "stdout",
     "output_type": "stream",
     "text": [
      "{'name': '이이름', 'age': 40}\n"
     ]
    }
   ],
   "source": [
    "print_value(name=\"이이름\", age=40)"
   ]
  },
  {
   "cell_type": "code",
   "execution_count": 13,
   "id": "42d48087",
   "metadata": {},
   "outputs": [],
   "source": [
    "def print_value(*args, **kwargs):\n",
    "    print(\"args\",args)\n",
    "    print(\"kwargs\",kwargs)"
   ]
  },
  {
   "cell_type": "code",
   "execution_count": 4,
   "id": "400fe29c",
   "metadata": {},
   "outputs": [
    {
     "name": "stdout",
     "output_type": "stream",
     "text": [
      "6\n"
     ]
    }
   ],
   "source": [
    "sum = 0\n",
    "def add(*args):\n",
    "    global sum\n",
    "    for a in args:\n",
    "        sum += a\n",
    "    return sum\n",
    "\n",
    "print(add(1,2,3))"
   ]
  },
  {
   "cell_type": "code",
   "execution_count": 14,
   "id": "cd1ea42f",
   "metadata": {},
   "outputs": [
    {
     "name": "stdout",
     "output_type": "stream",
     "text": [
      "args (10, 20, 30)\n",
      "kwargs {'name': '이이름', 'age': 40}\n"
     ]
    }
   ],
   "source": [
    "print_value(10,20,30, name=\"이이름\", age=40)"
   ]
  },
  {
   "cell_type": "code",
   "execution_count": 15,
   "id": "64aa104f",
   "metadata": {},
   "outputs": [],
   "source": [
    "def calc(num1, num2):\n",
    "    return num1 + num2, num1 - num2, num1*num2, num1/num2"
   ]
  },
  {
   "cell_type": "code",
   "execution_count": 16,
   "id": "6bfccb95",
   "metadata": {},
   "outputs": [
    {
     "data": {
      "text/plain": [
       "(30, 10, 200, 2.0)"
      ]
     },
     "execution_count": 16,
     "metadata": {},
     "output_type": "execute_result"
    }
   ],
   "source": [
    "result = calc(20, 10)\n",
    "result"
   ]
  },
  {
   "cell_type": "code",
   "execution_count": 19,
   "id": "7b2ecd85",
   "metadata": {},
   "outputs": [
    {
     "name": "stdout",
     "output_type": "stream",
     "text": [
      "30 10 200 2.0\n"
     ]
    }
   ],
   "source": [
    "add_result, sub_result, mul_result, div_result = calc(20,10)\n",
    "print(add_result, sub_result, mul_result, div_result)"
   ]
  },
  {
   "cell_type": "markdown",
   "id": "e8e24b0b",
   "metadata": {},
   "source": [
    "## 전역변수, 지역변수\n",
    "\n",
    "> 순수함수 : 함수 내의 연산 결과가 전역 변수로 지정된 자원에 영향을 미치지 않는 함수 (부작용이 없는 함수)"
   ]
  },
  {
   "cell_type": "code",
   "execution_count": null,
   "id": "fefedac0",
   "metadata": {},
   "outputs": [],
   "source": [
    "a = 100 # 전역변수\n",
    "def calc():\n",
    "    global a # 전역변수를 지역내에서 접근할때\n",
    "    b = 200 # 지역변수\n",
    "    return a + b"
   ]
  },
  {
   "cell_type": "code",
   "execution_count": 21,
   "id": "166826b7",
   "metadata": {},
   "outputs": [
    {
     "data": {
      "text/plain": [
       "300"
      ]
     },
     "execution_count": 21,
     "metadata": {},
     "output_type": "execute_result"
    }
   ],
   "source": [
    "calc()"
   ]
  },
  {
   "cell_type": "markdown",
   "id": "9a8bd46d",
   "metadata": {},
   "source": [
    "## 함수형 프로그래밍\n",
    "- 매개변수로 함수를 사용\n",
    "    - 사용자 정의 기능\n",
    "- 반환값으로 함수를 사용\n",
    "    - 팩토리 함수\n",
    "    - 고차 함수\n",
    "    - 함수 안에 함수를 정의할 수 있어야 함\n",
    "- 람다식\n",
    "```python\n",
    "lambda 매개변수 정의: 실행될 내용\n",
    "```"
   ]
  },
  {
   "cell_type": "code",
   "execution_count": 25,
   "id": "287969b6",
   "metadata": {},
   "outputs": [],
   "source": [
    "def calc(callback):\n",
    "    num1 = 10\n",
    "    num2 = 20\n",
    "\n",
    "    result = callback(num1, num2)\n",
    "    return result * result"
   ]
  },
  {
   "cell_type": "code",
   "execution_count": 26,
   "id": "78137567",
   "metadata": {},
   "outputs": [],
   "source": [
    "def add(num1, num2):\n",
    "    return num1+num2"
   ]
  },
  {
   "cell_type": "code",
   "execution_count": 27,
   "id": "ae201f9a",
   "metadata": {},
   "outputs": [
    {
     "data": {
      "text/plain": [
       "900"
      ]
     },
     "execution_count": 27,
     "metadata": {},
     "output_type": "execute_result"
    }
   ],
   "source": [
    "calc(add)"
   ]
  },
  {
   "cell_type": "code",
   "execution_count": 28,
   "id": "8456ea73",
   "metadata": {},
   "outputs": [],
   "source": [
    "def sub(num1, num2):\n",
    "    return num1 - num2"
   ]
  },
  {
   "cell_type": "code",
   "execution_count": 29,
   "id": "668441d0",
   "metadata": {},
   "outputs": [
    {
     "data": {
      "text/plain": [
       "100"
      ]
     },
     "execution_count": 29,
     "metadata": {},
     "output_type": "execute_result"
    }
   ],
   "source": [
    "calc(sub)"
   ]
  },
  {
   "cell_type": "code",
   "execution_count": 30,
   "id": "096bda53",
   "metadata": {},
   "outputs": [],
   "source": [
    "add1 = lambda a, b: a+b"
   ]
  },
  {
   "cell_type": "code",
   "execution_count": 32,
   "id": "9de62699",
   "metadata": {},
   "outputs": [
    {
     "data": {
      "text/plain": [
       "30"
      ]
     },
     "execution_count": 32,
     "metadata": {},
     "output_type": "execute_result"
    }
   ],
   "source": [
    "add1(10,20)"
   ]
  },
  {
   "cell_type": "code",
   "execution_count": 33,
   "id": "257a3c03",
   "metadata": {},
   "outputs": [
    {
     "data": {
      "text/plain": [
       "40000"
      ]
     },
     "execution_count": 33,
     "metadata": {},
     "output_type": "execute_result"
    }
   ],
   "source": [
    "calc(lambda a, b: a*b)"
   ]
  },
  {
   "cell_type": "code",
   "execution_count": 34,
   "id": "9048d7d1",
   "metadata": {},
   "outputs": [],
   "source": [
    "def add(num1):\n",
    "\n",
    "    def add2(num2):\n",
    "        return num1 + num2\n",
    "    \n",
    "    return add2"
   ]
  },
  {
   "cell_type": "code",
   "execution_count": 35,
   "id": "d3423f0f",
   "metadata": {},
   "outputs": [],
   "source": [
    "add10 = add(10)"
   ]
  },
  {
   "cell_type": "code",
   "execution_count": 36,
   "id": "7b5db11f",
   "metadata": {},
   "outputs": [
    {
     "data": {
      "text/plain": [
       "30"
      ]
     },
     "execution_count": 36,
     "metadata": {},
     "output_type": "execute_result"
    }
   ],
   "source": [
    "add10(20)"
   ]
  },
  {
   "cell_type": "code",
   "execution_count": 37,
   "id": "4a5b4ac0",
   "metadata": {},
   "outputs": [
    {
     "data": {
      "text/plain": [
       "30"
      ]
     },
     "execution_count": 37,
     "metadata": {},
     "output_type": "execute_result"
    }
   ],
   "source": [
    "add(10)(20)"
   ]
  },
  {
   "cell_type": "markdown",
   "id": "13606dda",
   "metadata": {},
   "source": [
    "# 함수 안에 함수를 정의하고 실행\n",
    "- 응용 사례 : 데코레이터"
   ]
  },
  {
   "cell_type": "code",
   "execution_count": 65,
   "id": "5ca79727",
   "metadata": {},
   "outputs": [],
   "source": [
    "import time\n",
    "\n",
    "def time_lapse(func):\n",
    "\n",
    "    def wrapper(*args, **kwargs):\n",
    "        start = time.time() # 함수 실행전 시간 측정\n",
    "\n",
    "        result = func(*args, **kwargs)\n",
    "\n",
    "        end = time.time() # 함수 실행 후 시간 측정\n",
    "\n",
    "        print(\"걸린시간 %d\" % (end - start))\n",
    "        return result\n",
    "    return wrapper"
   ]
  },
  {
   "cell_type": "code",
   "execution_count": 66,
   "id": "01481668",
   "metadata": {},
   "outputs": [],
   "source": [
    "@time_lapse\n",
    "def somefunc():\n",
    "    print(\"어떤 기능 실행...\")"
   ]
  },
  {
   "cell_type": "code",
   "execution_count": 67,
   "id": "a9e5518b",
   "metadata": {},
   "outputs": [
    {
     "name": "stdout",
     "output_type": "stream",
     "text": [
      "어떤 기능 실행...\n",
      "걸린시간 0\n"
     ]
    }
   ],
   "source": [
    "somefunc()"
   ]
  },
  {
   "cell_type": "code",
   "execution_count": 68,
   "id": "24055ea2",
   "metadata": {},
   "outputs": [],
   "source": [
    "@time_lapse\n",
    "def factorial(num):\n",
    "    if num < 1:\n",
    "        return 1\n",
    "\n",
    "    return num * factorial(num -1)"
   ]
  },
  {
   "cell_type": "code",
   "execution_count": 69,
   "id": "689cdbff",
   "metadata": {},
   "outputs": [
    {
     "name": "stdout",
     "output_type": "stream",
     "text": [
      "걸린시간 0\n",
      "걸린시간 0\n",
      "걸린시간 0\n",
      "걸린시간 0\n",
      "걸린시간 0\n",
      "걸린시간 0\n",
      "걸린시간 0\n",
      "걸린시간 0\n",
      "걸린시간 0\n",
      "걸린시간 0\n",
      "걸린시간 0\n"
     ]
    },
    {
     "data": {
      "text/plain": [
       "3628800"
      ]
     },
     "execution_count": 69,
     "metadata": {},
     "output_type": "execute_result"
    }
   ],
   "source": [
    "factorial(10)"
   ]
  },
  {
   "cell_type": "code",
   "execution_count": 70,
   "id": "28d73ea2",
   "metadata": {},
   "outputs": [],
   "source": [
    "fact = time_lapse(factorial)"
   ]
  },
  {
   "cell_type": "code",
   "execution_count": 71,
   "id": "378b15f4",
   "metadata": {},
   "outputs": [
    {
     "name": "stdout",
     "output_type": "stream",
     "text": [
      "걸린시간 0\n",
      "걸린시간 0\n",
      "걸린시간 0\n",
      "걸린시간 0\n",
      "걸린시간 0\n",
      "걸린시간 0\n",
      "걸린시간 0\n",
      "걸린시간 0\n",
      "걸린시간 0\n",
      "걸린시간 0\n",
      "걸린시간 0\n",
      "걸린시간 0\n"
     ]
    },
    {
     "data": {
      "text/plain": [
       "3628800"
      ]
     },
     "execution_count": 71,
     "metadata": {},
     "output_type": "execute_result"
    }
   ],
   "source": [
    "fact(10)"
   ]
  },
  {
   "cell_type": "code",
   "execution_count": null,
   "id": "06702b19",
   "metadata": {},
   "outputs": [],
   "source": []
  }
 ],
 "metadata": {
  "kernelspec": {
   "display_name": "Python 3",
   "language": "python",
   "name": "python3"
  },
  "language_info": {
   "codemirror_mode": {
    "name": "ipython",
    "version": 3
   },
   "file_extension": ".py",
   "mimetype": "text/x-python",
   "name": "python",
   "nbconvert_exporter": "python",
   "pygments_lexer": "ipython3",
   "version": "3.12.10"
  }
 },
 "nbformat": 4,
 "nbformat_minor": 5
}
