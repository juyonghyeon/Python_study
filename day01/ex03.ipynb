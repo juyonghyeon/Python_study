{
 "cells": [
  {
   "cell_type": "markdown",
   "id": "8e6b9788",
   "metadata": {},
   "source": [
    "## 문자형\n",
    "- \", '로 감싼 값\n",
    "- \\+ 연산자로 문자열 결합\n",
    "- \"\"\" 또는 ''' 로 문자열을 감싸면 자유롭게 줄개행을 통해서 작성 가능\n",
    "- \"\"\", '''로 여러줄 주석을 대체"
   ]
  },
  {
   "cell_type": "code",
   "execution_count": 1,
   "id": "5d90b8d9",
   "metadata": {},
   "outputs": [
    {
     "data": {
      "text/plain": [
       "str"
      ]
     },
     "execution_count": 1,
     "metadata": {},
     "output_type": "execute_result"
    }
   ],
   "source": [
    "a = '안녕하세요,'\n",
    "type(a)"
   ]
  },
  {
   "cell_type": "code",
   "execution_count": 2,
   "id": "27a99037",
   "metadata": {},
   "outputs": [
    {
     "data": {
      "text/plain": [
       "str"
      ]
     },
     "execution_count": 2,
     "metadata": {},
     "output_type": "execute_result"
    }
   ],
   "source": [
    "b = \"반갑습니다.\"\n",
    "type(b)"
   ]
  },
  {
   "cell_type": "code",
   "execution_count": 3,
   "id": "e3c81612",
   "metadata": {},
   "outputs": [
    {
     "name": "stdout",
     "output_type": "stream",
     "text": [
      "안녕하세요,반갑습니다.\n"
     ]
    }
   ],
   "source": [
    "c = a + b\n",
    "print(c)"
   ]
  },
  {
   "cell_type": "code",
   "execution_count": 4,
   "id": "a1102875",
   "metadata": {},
   "outputs": [
    {
     "name": "stdout",
     "output_type": "stream",
     "text": [
      "안녕하세요.\n",
      "반갑습니다.\n"
     ]
    }
   ],
   "source": [
    "d = \"안녕하세요.\\n반갑습니다.\"\n",
    "print(d)"
   ]
  },
  {
   "cell_type": "code",
   "execution_count": 5,
   "id": "ae1abc24",
   "metadata": {},
   "outputs": [
    {
     "name": "stdout",
     "output_type": "stream",
     "text": [
      "안녕하세요,\n",
      "반갑습니다.\n",
      "오늘 점심은 뭘 먹을까요?\n"
     ]
    }
   ],
   "source": [
    "'''\n",
    "설명1\n",
    "설명2\n",
    "...\n",
    "'''\n",
    "\n",
    "e = \"\"\"안녕하세요,\n",
    "반갑습니다.\n",
    "오늘 점심은 뭘 먹을까요?\"\"\"\n",
    "print(e)"
   ]
  },
  {
   "cell_type": "code",
   "execution_count": 6,
   "id": "ecf42ef8",
   "metadata": {},
   "outputs": [
    {
     "name": "stdout",
     "output_type": "stream",
     "text": [
      "I love \"Python\" and \"java\"\n"
     ]
    }
   ],
   "source": [
    "a = \"I love \\\"Python\\\" and \\\"java\\\"\"\n",
    "print(a)"
   ]
  },
  {
   "cell_type": "markdown",
   "id": "27701348",
   "metadata": {},
   "source": [
    "### 문자열 연산\n",
    "- \\+ 문자열 결합\n",
    "- \\* 문자열 반복"
   ]
  },
  {
   "cell_type": "code",
   "execution_count": 7,
   "id": "a2bef1bc",
   "metadata": {},
   "outputs": [
    {
     "data": {
      "text/plain": [
       "'ABCABCABC'"
      ]
     },
     "execution_count": 7,
     "metadata": {},
     "output_type": "execute_result"
    }
   ],
   "source": [
    "\"ABC\" * 3"
   ]
  },
  {
   "cell_type": "code",
   "execution_count": 8,
   "id": "85b61167",
   "metadata": {},
   "outputs": [
    {
     "name": "stdout",
     "output_type": "stream",
     "text": [
      "------------------------------\n",
      "메뉴 선택:\n",
      "------------------------------\n"
     ]
    }
   ],
   "source": [
    "print('-' * 30)\n",
    "print('메뉴 선택:')\n",
    "print('-' * 30)"
   ]
  },
  {
   "cell_type": "code",
   "execution_count": 9,
   "id": "6b6042a8",
   "metadata": {},
   "outputs": [
    {
     "data": {
      "text/plain": [
       "26"
      ]
     },
     "execution_count": 9,
     "metadata": {},
     "output_type": "execute_result"
    }
   ],
   "source": [
    "len(a)"
   ]
  },
  {
   "cell_type": "markdown",
   "id": "68c28cff",
   "metadata": {},
   "source": [
    "## 문자열 인덱싱 \n",
    "- 각 문자 접근은 인덱스 연산사 \\[\\]를 통해서 접근\n",
    "### 문자열 슬라이싱\n",
    "- a\\[시작번호:종료번호\\] -> 시작번호 \\<= a \\< 종료 번호\n",
    "- a\\[시작번호:\\] -> 시작번호 부터 끝까지\n",
    "- a\\[:종료번호] -> 종료번호 미만 문자열 모두 추출\n",
    "- 인덱스 번호가 음수, 오른쪽 부터 위치를 계산\n",
    "    - \\-1 오른쪽 첫번째 문자\n",
    "\\> id\\(..\\) : 자원의 주소값을 확인\n",
    "- a\\[:] -> 전체 문자열 복사"
   ]
  },
  {
   "cell_type": "code",
   "execution_count": 10,
   "id": "d18b6a58",
   "metadata": {},
   "outputs": [],
   "source": [
    "a = \"One Little, Two Little, Three Little Indians\""
   ]
  },
  {
   "cell_type": "code",
   "execution_count": 11,
   "id": "e88c26da",
   "metadata": {},
   "outputs": [
    {
     "data": {
      "text/plain": [
       "'s'"
      ]
     },
     "execution_count": 11,
     "metadata": {},
     "output_type": "execute_result"
    }
   ],
   "source": [
    "a[0]\n",
    "a[1]\n",
    "a[-1]"
   ]
  },
  {
   "cell_type": "code",
   "execution_count": 12,
   "id": "1a92d6d0",
   "metadata": {},
   "outputs": [
    {
     "data": {
      "text/plain": [
       "'One'"
      ]
     },
     "execution_count": 12,
     "metadata": {},
     "output_type": "execute_result"
    }
   ],
   "source": [
    "a[0] + a[1] + a[2]"
   ]
  },
  {
   "cell_type": "code",
   "execution_count": 13,
   "id": "2f920bed",
   "metadata": {},
   "outputs": [
    {
     "data": {
      "text/plain": [
       "'One'"
      ]
     },
     "execution_count": 13,
     "metadata": {},
     "output_type": "execute_result"
    }
   ],
   "source": [
    "a[0:3] # 0,1,2"
   ]
  },
  {
   "cell_type": "code",
   "execution_count": 14,
   "id": "21bab57f",
   "metadata": {},
   "outputs": [
    {
     "data": {
      "text/plain": [
       "'Little, Two Little, Three Little Indians'"
      ]
     },
     "execution_count": 14,
     "metadata": {},
     "output_type": "execute_result"
    }
   ],
   "source": [
    "a[4:]"
   ]
  },
  {
   "cell_type": "code",
   "execution_count": 15,
   "id": "5fc0432c",
   "metadata": {},
   "outputs": [
    {
     "data": {
      "text/plain": [
       "44"
      ]
     },
     "execution_count": 15,
     "metadata": {},
     "output_type": "execute_result"
    }
   ],
   "source": [
    "len(a)"
   ]
  },
  {
   "cell_type": "code",
   "execution_count": 16,
   "id": "6ead0eba",
   "metadata": {},
   "outputs": [
    {
     "data": {
      "text/plain": [
       "'Indians'"
      ]
     },
     "execution_count": 16,
     "metadata": {},
     "output_type": "execute_result"
    }
   ],
   "source": [
    "a[37:]"
   ]
  },
  {
   "cell_type": "code",
   "execution_count": 17,
   "id": "59c5d592",
   "metadata": {},
   "outputs": [
    {
     "data": {
      "text/plain": [
       "'Indians'"
      ]
     },
     "execution_count": 17,
     "metadata": {},
     "output_type": "execute_result"
    }
   ],
   "source": [
    "a[-7:]"
   ]
  },
  {
   "cell_type": "code",
   "execution_count": 18,
   "id": "1424a54f",
   "metadata": {},
   "outputs": [
    {
     "name": "stdout",
     "output_type": "stream",
     "text": [
      "a의 주소: 1913156997296\n",
      "b의 주소: 1913157022496\n"
     ]
    }
   ],
   "source": [
    "b = a[:-8]\n",
    "print(\"a의 주소:\", id(a))\n",
    "print(\"b의 주소:\", id(b))"
   ]
  },
  {
   "cell_type": "code",
   "execution_count": 19,
   "id": "44990ac0",
   "metadata": {},
   "outputs": [
    {
     "name": "stdout",
     "output_type": "stream",
     "text": [
      "주소: 140727695987504\n",
      "주소: 1913157437552\n"
     ]
    }
   ],
   "source": [
    "b = \"ABC\"\n",
    "print(\"주소:\", id(b))\n",
    "b += \"DEF\"\n",
    "print(\"주소:\", id(b))"
   ]
  },
  {
   "cell_type": "code",
   "execution_count": 20,
   "id": "c76d1c28",
   "metadata": {},
   "outputs": [
    {
     "ename": "TypeError",
     "evalue": "'str' object does not support item assignment",
     "output_type": "error",
     "traceback": [
      "\u001b[31m---------------------------------------------------------------------------\u001b[39m",
      "\u001b[31mTypeError\u001b[39m                                 Traceback (most recent call last)",
      "\u001b[36mCell\u001b[39m\u001b[36m \u001b[39m\u001b[32mIn[20]\u001b[39m\u001b[32m, line 1\u001b[39m\n\u001b[32m----> \u001b[39m\u001b[32m1\u001b[39m \u001b[43ma\u001b[49m\u001b[43m[\u001b[49m\u001b[32;43m0\u001b[39;49m\u001b[43m]\u001b[49m = \u001b[33m'\u001b[39m\u001b[33mb\u001b[39m\u001b[33m'\u001b[39m \u001b[38;5;66;03m# 문자열은 불변하기 때문에 변경 불가가\u001b[39;00m\n",
      "\u001b[31mTypeError\u001b[39m: 'str' object does not support item assignment"
     ]
    }
   ],
   "source": [
    "a[0] = 'b' # 문자열은 불변하기 때문에 변경 불가가"
   ]
  },
  {
   "cell_type": "code",
   "execution_count": null,
   "id": "50b6894b",
   "metadata": {},
   "outputs": [
    {
     "name": "stdout",
     "output_type": "stream",
     "text": [
      "One Little, Two Little, Three Little Indians a의 주소: 2900801345968\n",
      "One Little, Two Little, Three Little Indians b의 주소: 2900801345968\n",
      "One Little, Two Little, Three Little Indians c의 주소: 2900801345968\n"
     ]
    }
   ],
   "source": [
    "b = a[:] # b에 a의 문자열을 복사\n",
    "c = a # c에 a의 문자열 객체의 주소 복사\n",
    "\n",
    "print(a,\"a의 주소:\", id(a))\n",
    "print(b,\"b의 주소:\", id(b))\n",
    "print(c,\"c의 주소:\", id(c))"
   ]
  },
  {
   "cell_type": "markdown",
   "id": "5068d455",
   "metadata": {},
   "source": [
    "## 문자열 형식화\n",
    "- %d : 정수\n",
    "- %f : 실수\n",
    "    - %10.4f -> 전체 자리수는 10자(정수 부분 + 소수점자리)에서 소수점은 4자리까지만 출력\n",
    "    - %.4f -> 소수점 자리수만 4자리로 한정(자바X)\n",
    "    - %0.4f -> (자바O)\n",
    "- %s : 문자\n",
    "    - %10s -> 왼쪽부터 최소 10자, 10자가 안되는 경우 왼쪽부터 공백으로 채워준다.\n",
    "    - %-10s -> 오른쪽 부터 최소 10자, 10자가 안되는 경우 오른쪽부터 공백으로 채워준다.\n",
    "\n",
    "### 적용방법\n",
    "- \"형식화된 문자열\" % 대체될 값\n",
    "- \"형식화된 문자열(대체될 부분이 여러개 인 경우)\" % (값1, 값2, ...)\n",
    "- 형식화 할때 %를 문자열로 사용하는 경우 %%로 대체\n",
    "- 문자열 객체의 함수 중에서 format 함수 사용\n",
    "    - 형식화할때 치환될 부분을 \\{0}, {1}로 수선 번호 형태로 지정\n",
    "    - 형식화할때 치환될 부분을 직접 이름형태로 저장할 수도 있음 {number}, {day}\n",
    "    - 숫자와 이름을 혼용해서 형식화 문자열을 작성\n",
    "    - {0:\\<10} : 최소 10자리, 남는 자리수를 오른쪽 부터 공백\n",
    "        - {0:\\_<10} : 최소 10자리 남는 자리수를 오른쪽 부터 _로 채워 넣는다\n",
    "    - {0:\\>10} : 최소 10자리, 남는 자리수를 왼쪽 부터 공백\n",
    "        - {0:\\_>10} : 최소 10자리 남는 자리수를 왼쪽 부터 _로 채워 넣는다\n",
    "    - {0:^10} : 최소 10자리, 남는 자리수는 좌우 균등하게 분배\n",
    "        - {0:\\_<10} : 최소 10자리 남는 자리수에 좌우 균등하게 _로 채워 넣는다\n",
    "    - {0:10.4f} : 최소 10자리(정수부 + 소수점)를 유지, 소수점은 4자리로 한정\n",
    "        - {0:.4f} : 소수점만 4자리로 한정\n",
    "\n",
    "- 문자열 앞에 \"f\", 파이썬 3.6부터 추가, 변수 그 자체를 문자열에 추가"
   ]
  },
  {
   "cell_type": "code",
   "execution_count": null,
   "id": "9d4f0277",
   "metadata": {},
   "outputs": [
    {
     "data": {
      "text/plain": [
       "'I drink 10 cup of coffee and 20 piece of cake'"
      ]
     },
     "execution_count": 34,
     "metadata": {},
     "output_type": "execute_result"
    }
   ],
   "source": [
    "\"I drink %d cup of coffee and %d piece of cake\" % (10, 20) "
   ]
  },
  {
   "cell_type": "code",
   "execution_count": null,
   "id": "801f23d2",
   "metadata": {},
   "outputs": [
    {
     "data": {
      "text/plain": [
       "'I drink ten cup of coffee and 20 piece of cake'"
      ]
     },
     "execution_count": 36,
     "metadata": {},
     "output_type": "execute_result"
    }
   ],
   "source": [
    "\"I drink %s cup of coffee and %s piece of cake\" % ('ten', '20') "
   ]
  },
  {
   "cell_type": "code",
   "execution_count": null,
   "id": "779de68d",
   "metadata": {},
   "outputs": [
    {
     "data": {
      "text/plain": [
       "'빵      Apple, '"
      ]
     },
     "execution_count": 37,
     "metadata": {},
     "output_type": "execute_result"
    }
   ],
   "source": [
    "\"빵 %10s, \" % \"Apple\""
   ]
  },
  {
   "cell_type": "code",
   "execution_count": null,
   "id": "ca000771",
   "metadata": {},
   "outputs": [
    {
     "data": {
      "text/plain": [
       "'apple     ,'"
      ]
     },
     "execution_count": 38,
     "metadata": {},
     "output_type": "execute_result"
    }
   ],
   "source": [
    "\"%-10s,\" % \"apple\""
   ]
  },
  {
   "cell_type": "code",
   "execution_count": null,
   "id": "aa0a7fd4",
   "metadata": {},
   "outputs": [
    {
     "data": {
      "text/plain": [
       "' 1234.0000,'"
      ]
     },
     "execution_count": 39,
     "metadata": {},
     "output_type": "execute_result"
    }
   ],
   "source": [
    "\"%10.4f,\" % 1234"
   ]
  },
  {
   "cell_type": "code",
   "execution_count": null,
   "id": "86619919",
   "metadata": {},
   "outputs": [
    {
     "name": "stdout",
     "output_type": "stream",
     "text": [
      "숫자: 100.123457\n",
      "숫자:   100.1235\n",
      "숫자: 100.1235\n",
      "숫자: 100.1235\n"
     ]
    }
   ],
   "source": [
    "a = 100.12345678\n",
    "print(\"숫자: %f\" % a)\n",
    "print(\"숫자: %10.4f\" % a)\n",
    "print(\"숫자: %.4f\" % a)\n",
    "print(\"숫자: %0.4f\" % a)"
   ]
  },
  {
   "cell_type": "code",
   "execution_count": null,
   "id": "377393d5",
   "metadata": {},
   "outputs": [
    {
     "data": {
      "text/plain": [
       "'완료까지 85% 입니다.'"
      ]
     },
     "execution_count": 44,
     "metadata": {},
     "output_type": "execute_result"
    }
   ],
   "source": [
    "\"완료까지 %d%% 입니다.\" % 85"
   ]
  },
  {
   "cell_type": "code",
   "execution_count": null,
   "id": "2ee77689",
   "metadata": {},
   "outputs": [
    {
     "data": {
      "text/plain": [
       "'I drink 5 cup of coffee and 아 piece of cake'"
      ]
     },
     "execution_count": 47,
     "metadata": {},
     "output_type": "execute_result"
    }
   ],
   "source": [
    "\"I drink {0} cup of coffee and {1} piece of cake\".format(5,\"아\")"
   ]
  },
  {
   "cell_type": "code",
   "execution_count": null,
   "id": "d743cfbf",
   "metadata": {},
   "outputs": [
    {
     "data": {
      "text/plain": [
       "'I drink 아 cup of coffee and 5 piece of cake'"
      ]
     },
     "execution_count": 51,
     "metadata": {},
     "output_type": "execute_result"
    }
   ],
   "source": [
    "\"I drink {number1} cup of coffee and {number2} piece of cake\".format(number1=5,number2=\"아\")\n",
    "\"I drink {number1} cup of coffee and {number2} piece of cake\".format(number2=5,number1=\"아\")"
   ]
  },
  {
   "cell_type": "code",
   "execution_count": null,
   "id": "2500dbf2",
   "metadata": {},
   "outputs": [
    {
     "data": {
      "text/plain": [
       "'I drink 5 cup of coffee and 3 piece of cake'"
      ]
     },
     "execution_count": 52,
     "metadata": {},
     "output_type": "execute_result"
    }
   ],
   "source": [
    "coffee = 5\n",
    "cake = 3\n",
    "f\"I drink {coffee} cup of coffee and {cake} piece of cake\""
   ]
  },
  {
   "cell_type": "code",
   "execution_count": null,
   "id": "c39f325f",
   "metadata": {},
   "outputs": [
    {
     "data": {
      "text/plain": [
       "'***Apple     ***,***     Apple***,***  Apple   ***'"
      ]
     },
     "execution_count": 56,
     "metadata": {},
     "output_type": "execute_result"
    }
   ],
   "source": [
    "\"***{0:<10}***,***{1:>10}***,***{2:^10}***\".format(\"Apple\", \"Apple\", \"Apple\")"
   ]
  },
  {
   "cell_type": "code",
   "execution_count": null,
   "id": "ebb12b25",
   "metadata": {},
   "outputs": [
    {
     "data": {
      "text/plain": [
       "'***Apple_____***,***_____Apple***,***__Apple___***'"
      ]
     },
     "execution_count": 57,
     "metadata": {},
     "output_type": "execute_result"
    }
   ],
   "source": [
    "\"***{0:_<10}***,***{1:_>10}***,***{2:_^10}***\".format(\"Apple\", \"Apple\", \"Apple\")"
   ]
  },
  {
   "cell_type": "code",
   "execution_count": null,
   "id": "1b014a30",
   "metadata": {},
   "outputs": [
    {
     "data": {
      "text/plain": [
       "'***Apple#####***,***00000Apple***,***&&Apple&&&***'"
      ]
     },
     "execution_count": 58,
     "metadata": {},
     "output_type": "execute_result"
    }
   ],
   "source": [
    "\"***{0:#<10}***,***{1:0>10}***,***{2:&^10}***\".format(\"Apple\", \"Apple\", \"Apple\")"
   ]
  },
  {
   "cell_type": "code",
   "execution_count": null,
   "id": "0bd4ce22",
   "metadata": {},
   "outputs": [
    {
     "name": "stdout",
     "output_type": "stream",
     "text": [
      "  100.1235\n",
      "100.1235\n"
     ]
    }
   ],
   "source": [
    "print(\"{0:10.4f}\".format(100.12345678))\n",
    "print(\"{0:.4f}\".format(100.12345678))"
   ]
  },
  {
   "cell_type": "markdown",
   "id": "e59e1723",
   "metadata": {},
   "source": [
    "### f 형식화\n",
    "- 문자열 앞에 f를 붙이면 된다.\n",
    "- 변수를 직접 형식화 문자열에 출력\n",
    "- 간단한 연산, 함수 호출도 가능\n",
    "- {값:\\<10} -> 최소 10자리, 남은 자리수는 오른쪽 공백\n",
    "    - {값:!\\<10} -> 최소 10자리, 남은 자리수는 !로 채워 넣는다\n",
    "- {값:\\>10} -> 최소 10자리, 남은 자리수는 왼쪽 공백\n",
    "- {값:\\^10} -> 최소 10자리, 남은 자리수는 좌우 균등하게 공백\n",
    "- {실수:10.4f} -> 정수 + 소수점 자리가 최소 10자리, 소수점은 4자리로 한정\n",
    "- {실수:.4f} -> 소수점은 4자리로 한정\n",
    "- { }를 문자 그대로 사용하는 경우 {{}}"
   ]
  },
  {
   "cell_type": "code",
   "execution_count": null,
   "id": "e7c5669f",
   "metadata": {},
   "outputs": [],
   "source": [
    "name = \"이이름\"\n",
    "age = 40\n",
    "num = 10"
   ]
  },
  {
   "cell_type": "code",
   "execution_count": null,
   "id": "9d5072e8",
   "metadata": {},
   "outputs": [
    {
     "data": {
      "text/plain": [
       "'이름: 이이름, 나이: 40, 숫자: 10'"
      ]
     },
     "execution_count": 65,
     "metadata": {},
     "output_type": "execute_result"
    }
   ],
   "source": [
    "f'이름: {name}, 나이: {age}, 숫자: {num}'"
   ]
  },
  {
   "cell_type": "code",
   "execution_count": null,
   "id": "050bf561",
   "metadata": {},
   "outputs": [
    {
     "data": {
      "text/plain": [
       "'이름: 이이름       , 나이:         40, 숫자:     10    '"
      ]
     },
     "execution_count": 66,
     "metadata": {},
     "output_type": "execute_result"
    }
   ],
   "source": [
    "f'이름: {name:<10}, 나이: {age:>10}, 숫자: {num:^10}'"
   ]
  },
  {
   "cell_type": "code",
   "execution_count": null,
   "id": "936f5aa2",
   "metadata": {},
   "outputs": [
    {
     "data": {
      "text/plain": [
       "'이름: 이이름!!!!!!!, 나이: @@@@@@@@40, 숫자: ====10===='"
      ]
     },
     "execution_count": 67,
     "metadata": {},
     "output_type": "execute_result"
    }
   ],
   "source": [
    "f'이름: {name:!<10}, 나이: {age:@>10}, 숫자: {num:=^10}'"
   ]
  },
  {
   "cell_type": "code",
   "execution_count": null,
   "id": "e6bce5b4",
   "metadata": {},
   "outputs": [
    {
     "data": {
      "text/plain": [
       "' 1000.1235'"
      ]
     },
     "execution_count": 68,
     "metadata": {},
     "output_type": "execute_result"
    }
   ],
   "source": [
    "num = 1000.12345678\n",
    "f'{num:10.4f}'"
   ]
  },
  {
   "cell_type": "code",
   "execution_count": null,
   "id": "bf73f673",
   "metadata": {},
   "outputs": [
    {
     "data": {
      "text/plain": [
       "'1100.1235'"
      ]
     },
     "execution_count": 71,
     "metadata": {},
     "output_type": "execute_result"
    }
   ],
   "source": [
    "f'{num + 100:0.4f}'"
   ]
  },
  {
   "cell_type": "code",
   "execution_count": null,
   "id": "1f89f091",
   "metadata": {},
   "outputs": [
    {
     "data": {
      "text/plain": [
       "'{}'"
      ]
     },
     "execution_count": 72,
     "metadata": {},
     "output_type": "execute_result"
    }
   ],
   "source": [
    "f'{{}}'"
   ]
  },
  {
   "cell_type": "markdown",
   "id": "b51d6ac4",
   "metadata": {},
   "source": [
    "### 문자열 관련 함수들\n",
    "- 문자 개수 세기 - count\n",
    "    - 문장에서 특정 문자가 몇번 등장하는지\n",
    "\n",
    "- 위치 알려 주기 1 - find\n",
    "    - 지정된 문자를 못찾은 경우 -1 값을 반환\n",
    "\n",
    "- 위치 알려주기 2 - index\n",
    "    - 지정된 문자를 못찾은 경우 예외가 발생\n",
    "\n",
    "- 특정 문자열로 결합하여 문자열 생성 - join\n",
    "    - 문자열 외에 list, tuple 사용 가능\n",
    "- 소문자 -> 대문자 - upper\n",
    "- 대문자 -> 소문자 - lower\n",
    "- 공백 제거 - strip / 좌, 우 공백 제거\n",
    "    - lstrip - 왼쪽 여백 제거\n",
    "    - rstrip - 오른쪽 여백 제거\n",
    "\n",
    "- 문자열 치환 - replace\n",
    "- 문자열 나누기 - split\n",
    "    - 문자열 분리 구분문자를 지정하지 않으면 공백 기준에서 분리"
   ]
  },
  {
   "cell_type": "code",
   "execution_count": null,
   "id": "28e435a7",
   "metadata": {},
   "outputs": [],
   "source": [
    "a = \"One Little, Two Little, Three Little Indians\""
   ]
  },
  {
   "cell_type": "code",
   "execution_count": null,
   "id": "be262c70",
   "metadata": {},
   "outputs": [
    {
     "data": {
      "text/plain": [
       "3"
      ]
     },
     "execution_count": 75,
     "metadata": {},
     "output_type": "execute_result"
    }
   ],
   "source": [
    "a.count(\"Little\")"
   ]
  },
  {
   "cell_type": "code",
   "execution_count": null,
   "id": "5f3af3d4",
   "metadata": {},
   "outputs": [
    {
     "data": {
      "text/plain": [
       "4"
      ]
     },
     "execution_count": 76,
     "metadata": {},
     "output_type": "execute_result"
    }
   ],
   "source": [
    "a.find('Little')"
   ]
  },
  {
   "cell_type": "code",
   "execution_count": null,
   "id": "8a16ae95",
   "metadata": {},
   "outputs": [
    {
     "data": {
      "text/plain": [
       "4"
      ]
     },
     "execution_count": 77,
     "metadata": {},
     "output_type": "execute_result"
    }
   ],
   "source": [
    "a.index('Little')"
   ]
  },
  {
   "cell_type": "code",
   "execution_count": null,
   "id": "22232ea8",
   "metadata": {},
   "outputs": [
    {
     "data": {
      "text/plain": [
       "-1"
      ]
     },
     "execution_count": 78,
     "metadata": {},
     "output_type": "execute_result"
    }
   ],
   "source": [
    "a.find('Big')"
   ]
  },
  {
   "cell_type": "code",
   "execution_count": null,
   "id": "e6853f61",
   "metadata": {},
   "outputs": [
    {
     "ename": "ValueError",
     "evalue": "substring not found",
     "output_type": "error",
     "traceback": [
      "\u001b[31m---------------------------------------------------------------------------\u001b[39m",
      "\u001b[31mValueError\u001b[39m                                Traceback (most recent call last)",
      "\u001b[36mCell\u001b[39m\u001b[36m \u001b[39m\u001b[32mIn[79]\u001b[39m\u001b[32m, line 1\u001b[39m\n\u001b[32m----> \u001b[39m\u001b[32m1\u001b[39m \u001b[43ma\u001b[49m\u001b[43m.\u001b[49m\u001b[43mindex\u001b[49m\u001b[43m(\u001b[49m\u001b[33;43m'\u001b[39;49m\u001b[33;43mBig\u001b[39;49m\u001b[33;43m'\u001b[39;49m\u001b[43m)\u001b[49m\n",
      "\u001b[31mValueError\u001b[39m: substring not found"
     ]
    }
   ],
   "source": [
    "a.index('Big')"
   ]
  },
  {
   "cell_type": "code",
   "execution_count": null,
   "id": "c3686fd9",
   "metadata": {},
   "outputs": [
    {
     "data": {
      "text/plain": [
       "'a,b,c,d'"
      ]
     },
     "execution_count": 80,
     "metadata": {},
     "output_type": "execute_result"
    }
   ],
   "source": [
    "a = 'abcd'\n",
    "'#'.join(a)"
   ]
  },
  {
   "cell_type": "code",
   "execution_count": null,
   "id": "272bdb07",
   "metadata": {},
   "outputs": [
    {
     "data": {
      "text/plain": [
       "'apple,orange,banana,mango'"
      ]
     },
     "execution_count": 83,
     "metadata": {},
     "output_type": "execute_result"
    }
   ],
   "source": [
    "fruits =['apple','orange', 'banana', 'mango']\n",
    "','.join(fruits)"
   ]
  },
  {
   "cell_type": "code",
   "execution_count": null,
   "id": "8423e2d3",
   "metadata": {},
   "outputs": [
    {
     "name": "stdout",
     "output_type": "stream",
     "text": [
      "      ABC              \n"
     ]
    }
   ],
   "source": [
    "a = \"      ABC              \"\n",
    "print(a)"
   ]
  },
  {
   "cell_type": "code",
   "execution_count": null,
   "id": "8236baa0",
   "metadata": {},
   "outputs": [
    {
     "data": {
      "text/plain": [
       "'      ABC              DEF'"
      ]
     },
     "execution_count": 85,
     "metadata": {},
     "output_type": "execute_result"
    }
   ],
   "source": [
    "a + 'DEF'"
   ]
  },
  {
   "cell_type": "code",
   "execution_count": null,
   "id": "ab1d2e00",
   "metadata": {},
   "outputs": [
    {
     "data": {
      "text/plain": [
       "'ABCDEF'"
      ]
     },
     "execution_count": 86,
     "metadata": {},
     "output_type": "execute_result"
    }
   ],
   "source": [
    "a.strip() + \"DEF\""
   ]
  },
  {
   "cell_type": "code",
   "execution_count": null,
   "id": "4b789fb9",
   "metadata": {},
   "outputs": [
    {
     "data": {
      "text/plain": [
       "'ABC              DEF'"
      ]
     },
     "execution_count": 87,
     "metadata": {},
     "output_type": "execute_result"
    }
   ],
   "source": [
    "a.lstrip() + \"DEF\""
   ]
  },
  {
   "cell_type": "code",
   "execution_count": null,
   "id": "08019403",
   "metadata": {},
   "outputs": [
    {
     "data": {
      "text/plain": [
       "'      ABCDEF'"
      ]
     },
     "execution_count": 88,
     "metadata": {},
     "output_type": "execute_result"
    }
   ],
   "source": [
    "a.rstrip() + \"DEF\""
   ]
  },
  {
   "cell_type": "code",
   "execution_count": null,
   "id": "aba58847",
   "metadata": {},
   "outputs": [
    {
     "data": {
      "text/plain": [
       "'One Big, Two Big, Three Big Indians'"
      ]
     },
     "execution_count": 89,
     "metadata": {},
     "output_type": "execute_result"
    }
   ],
   "source": [
    "a = \"One Little, Two Little, Three Little Indians\"\n",
    "a.replace(\"Little\",\"Big\")"
   ]
  },
  {
   "cell_type": "code",
   "execution_count": null,
   "id": "96aa7525",
   "metadata": {},
   "outputs": [
    {
     "data": {
      "text/plain": [
       "['Apple', 'Orange', 'Melon', 'Mango']"
      ]
     },
     "execution_count": 90,
     "metadata": {},
     "output_type": "execute_result"
    }
   ],
   "source": [
    "a = \"Apple Orange Melon Mango\"\n",
    "a.split() # 공백을 기준으로 문자열을 분리"
   ]
  },
  {
   "cell_type": "code",
   "execution_count": null,
   "id": "587c22e6",
   "metadata": {},
   "outputs": [
    {
     "data": {
      "text/plain": [
       "['Apple', 'Orange', 'Melon', 'Mango']"
      ]
     },
     "execution_count": 92,
     "metadata": {},
     "output_type": "execute_result"
    }
   ],
   "source": [
    "a = \"Apple,Orange,Melon,Mango\"\n",
    "a.split(',')"
   ]
  },
  {
   "cell_type": "code",
   "execution_count": null,
   "id": "c169b5ea",
   "metadata": {},
   "outputs": [],
   "source": []
  }
 ],
 "metadata": {
  "kernelspec": {
   "display_name": "Python 3",
   "language": "python",
   "name": "python3"
  },
  "language_info": {
   "codemirror_mode": {
    "name": "ipython",
    "version": 3
   },
   "file_extension": ".py",
   "mimetype": "text/x-python",
   "name": "python",
   "nbconvert_exporter": "python",
   "pygments_lexer": "ipython3",
   "version": "3.12.10"
  }
 },
 "nbformat": 4,
 "nbformat_minor": 5
}
