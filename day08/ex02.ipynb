{
 "cells": [
  {
   "cell_type": "markdown",
   "id": "41221dce",
   "metadata": {},
   "source": [
    "1. \\|\n",
    "- or 연산자와 비슷\n",
    "```\n",
    "one|two|three -> one 또는 two, three\n",
    "```\n",
    "\n",
    "2. ^ : ^패턴 - 패턴으로 시작\n",
    "3. $ : 패턴$ - 패턴으로 종료\n",
    "4. \\A : 여러줄 전체 문장에서 시작하는 패턴\n",
    "5. \\Z : 여러줄 전체 문장에서 종료하는 패턴\n",
    "6. \\b\n",
    "    - 문자 클래스 내에서 사용되면 \\[\\\\b] : 백스페이스 키를 한번 누른것(한글자가 뒤에서부터 삭제)\n",
    "    - 문자 클래스가 아닌 패턴으로 사용되는 경우 : 단어의 경계선(공백, 줄개행 문자등) 을 의미한다.\n",
    "7. \\B\n",
    "    - \\[^\\\\b\\]\n",
    "    - 단어의 경계선이 아닌 문자"
   ]
  },
  {
   "cell_type": "code",
   "execution_count": 1,
   "id": "88ba7e5c",
   "metadata": {},
   "outputs": [],
   "source": [
    "import re"
   ]
  },
  {
   "cell_type": "code",
   "execution_count": 2,
   "id": "e0b622b6",
   "metadata": {},
   "outputs": [],
   "source": [
    "str = \"\"\"I like an apple\n",
    "I like an orange\n",
    "I like a pear\n",
    "\"\"\""
   ]
  },
  {
   "cell_type": "code",
   "execution_count": 3,
   "id": "4dc3a63c",
   "metadata": {},
   "outputs": [
    {
     "data": {
      "text/plain": [
       "['apple', 'orange', 'pear']"
      ]
     },
     "execution_count": 3,
     "metadata": {},
     "output_type": "execute_result"
    }
   ],
   "source": [
    "p = re.compile(r\"apple|orange|pear\", re.M)\n",
    "items = p.findall(str)\n",
    "items"
   ]
  },
  {
   "cell_type": "code",
   "execution_count": 17,
   "id": "04dad61a",
   "metadata": {},
   "outputs": [],
   "source": [
    "# str = \"our class is over at 6:30pm\"\n",
    "str = \"class is over at 6:30pm\"\n",
    "str2 = \"our class and subclass\""
   ]
  },
  {
   "cell_type": "code",
   "execution_count": 18,
   "id": "804986cd",
   "metadata": {},
   "outputs": [],
   "source": [
    "p = re.compile(r\"\\bclass\\b\")"
   ]
  },
  {
   "cell_type": "code",
   "execution_count": 19,
   "id": "f523cbba",
   "metadata": {},
   "outputs": [
    {
     "data": {
      "text/plain": [
       "<re.Match object; span=(0, 5), match='class'>"
      ]
     },
     "execution_count": 19,
     "metadata": {},
     "output_type": "execute_result"
    }
   ],
   "source": [
    "m = p.search(str)\n",
    "m"
   ]
  },
  {
   "cell_type": "code",
   "execution_count": 20,
   "id": "0326bd78",
   "metadata": {},
   "outputs": [
    {
     "data": {
      "text/plain": [
       "<re.Match object; span=(4, 9), match='class'>"
      ]
     },
     "execution_count": 20,
     "metadata": {},
     "output_type": "execute_result"
    }
   ],
   "source": [
    "m = p.search(str2)\n",
    "m"
   ]
  },
  {
   "cell_type": "code",
   "execution_count": 21,
   "id": "0e1d9e83",
   "metadata": {},
   "outputs": [
    {
     "data": {
      "text/plain": [
       "['class']"
      ]
     },
     "execution_count": 21,
     "metadata": {},
     "output_type": "execute_result"
    }
   ],
   "source": [
    "items = p.findall(str2)\n",
    "items"
   ]
  },
  {
   "cell_type": "code",
   "execution_count": 23,
   "id": "f69aca75",
   "metadata": {},
   "outputs": [
    {
     "data": {
      "text/plain": [
       "<re.Match object; span=(17, 22), match='class'>"
      ]
     },
     "execution_count": 23,
     "metadata": {},
     "output_type": "execute_result"
    }
   ],
   "source": [
    "p = re.compile(r\"\\Bclass\\b\")\n",
    "items = p.search(str2)\n",
    "items"
   ]
  },
  {
   "cell_type": "code",
   "execution_count": null,
   "id": "709dba69",
   "metadata": {},
   "outputs": [],
   "source": []
  }
 ],
 "metadata": {
  "kernelspec": {
   "display_name": "Python 3",
   "language": "python",
   "name": "python3"
  },
  "language_info": {
   "codemirror_mode": {
    "name": "ipython",
    "version": 3
   },
   "file_extension": ".py",
   "mimetype": "text/x-python",
   "name": "python",
   "nbconvert_exporter": "python",
   "pygments_lexer": "ipython3",
   "version": "3.12.10"
  }
 },
 "nbformat": 4,
 "nbformat_minor": 5
}
