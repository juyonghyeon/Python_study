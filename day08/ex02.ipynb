{
 "cells": [
  {
   "cell_type": "markdown",
   "id": "41221dce",
   "metadata": {},
   "source": [
    "1. \\|\n",
    "- or 연산자와 비슷\n",
    "```\n",
    "one|two|three -> one 또는 two, three\n",
    "```"
   ]
  },
  {
   "cell_type": "code",
   "execution_count": 1,
   "id": "88ba7e5c",
   "metadata": {},
   "outputs": [],
   "source": [
    "import re"
   ]
  },
  {
   "cell_type": "code",
   "execution_count": 2,
   "id": "e0b622b6",
   "metadata": {},
   "outputs": [],
   "source": [
    "str = \"\"\"I like an apple\n",
    "I like an orange\n",
    "I like a pear\n",
    "\"\"\""
   ]
  },
  {
   "cell_type": "code",
   "execution_count": null,
   "id": "4dc3a63c",
   "metadata": {},
   "outputs": [],
   "source": [
    "p = re.compile(r\"apple|orange|pear\", re.M)\n",
    "items = p.findall(str)\n",
    "items"
   ]
  }
 ],
 "metadata": {
  "kernelspec": {
   "display_name": "Python 3",
   "language": "python",
   "name": "python3"
  },
  "language_info": {
   "codemirror_mode": {
    "name": "ipython",
    "version": 3
   },
   "file_extension": ".py",
   "mimetype": "text/x-python",
   "name": "python",
   "nbconvert_exporter": "python",
   "pygments_lexer": "ipython3",
   "version": "3.12.10"
  }
 },
 "nbformat": 4,
 "nbformat_minor": 5
}
