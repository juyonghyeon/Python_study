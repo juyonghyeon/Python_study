{
 "cells": [
  {
   "cell_type": "markdown",
   "id": "8ea63a87",
   "metadata": {},
   "source": [
    "## 컴파일 옵션\n",
    "```python\n",
    "re.compile(”패턴”,re.옵션상수)\n",
    "```\n",
    "1) DOTALL, S\n",
    "\n",
    "- re.DOTALL / re.S\n",
    "\n",
    "- .는 기본동작으로 \\n을 제외한 모든 문자이지만, re.DOTALL 컴파일 옵션을 추가하면 \\n도 포함한 모든 문자 1개로 인식\n",
    "\n",
    "2) IGNORECASE, I\n",
    "- re.IGNORECASE : 대소문자 구분없는 패턴 / re.I\n",
    "\n",
    "3) MULTILINE, M\n",
    "- 일반 패턴은 한줄만 패턴을 체크\n",
    "- 여러줄에 걸친 한줄 한줄 패턴을 체크\n",
    "- re.MULTLINE / re.M\n",
    "\n",
    "4) VERBOSE, X\n",
    "- 패턴의 해석에 대한 자세한 정보 re.VERBOSE / re.X\n",
    "\n",
    "5) 여러개 컴파일 옵션을 사용하는 경우 | 연산자로 이어준다.\n"
   ]
  },
  {
   "cell_type": "code",
   "execution_count": 1,
   "id": "d8c096dd",
   "metadata": {},
   "outputs": [],
   "source": [
    "import re\n",
    "words = [\"a11234b\", \"a       b\", \"a!b\", \"a\\nb\"]"
   ]
  },
  {
   "cell_type": "code",
   "execution_count": 3,
   "id": "9a6632db",
   "metadata": {},
   "outputs": [
    {
     "name": "stdout",
     "output_type": "stream",
     "text": [
      "<re.Match object; span=(0, 7), match='a11234b'>\n",
      "<re.Match object; span=(0, 9), match='a       b'>\n",
      "<re.Match object; span=(0, 3), match='a!b'>\n",
      "<re.Match object; span=(0, 3), match='a\\nb'>\n"
     ]
    }
   ],
   "source": [
    "# p = re.compile(\"a.*b\")\n",
    "p = re.compile(\"a.*b\",re.DOTALL)\n",
    "for word in words:\n",
    "    m = p.match(word)\n",
    "    print(m)"
   ]
  },
  {
   "cell_type": "code",
   "execution_count": 7,
   "id": "17364375",
   "metadata": {},
   "outputs": [],
   "source": [
    "p = re.compile(\"python\", re.IGNORECASE)"
   ]
  },
  {
   "cell_type": "code",
   "execution_count": 8,
   "id": "1074a90a",
   "metadata": {},
   "outputs": [],
   "source": [
    "str = \"I love python, you love Python too\""
   ]
  },
  {
   "cell_type": "code",
   "execution_count": 9,
   "id": "333d4fd6",
   "metadata": {},
   "outputs": [
    {
     "data": {
      "text/plain": [
       "['python', 'Python']"
      ]
     },
     "execution_count": 9,
     "metadata": {},
     "output_type": "execute_result"
    }
   ],
   "source": [
    "search = p.findall(str)\n",
    "search"
   ]
  },
  {
   "cell_type": "code",
   "execution_count": 10,
   "id": "38a0d442",
   "metadata": {},
   "outputs": [],
   "source": [
    "str = \"\"\"python one\n",
    "123\n",
    "python two\n",
    "456\n",
    "python three\n",
    "789\n",
    "\"\"\""
   ]
  },
  {
   "cell_type": "code",
   "execution_count": 16,
   "id": "2620045f",
   "metadata": {},
   "outputs": [],
   "source": [
    "p = re.compile(r\"^python\\s\\w+\", re.M)"
   ]
  },
  {
   "cell_type": "code",
   "execution_count": 17,
   "id": "454df279",
   "metadata": {},
   "outputs": [
    {
     "data": {
      "text/plain": [
       "['python one', 'python two', 'python three']"
      ]
     },
     "execution_count": 17,
     "metadata": {},
     "output_type": "execute_result"
    }
   ],
   "source": [
    "items = p.findall(str)\n",
    "items"
   ]
  },
  {
   "cell_type": "markdown",
   "id": "51f4b62d",
   "metadata": {},
   "source": [
    "- ^패턴 - 패턴으로 시작, 패턴$ - 패턴으로 종료 / 한 라인\n",
    "- \\\\A패턴 : 여러줄로 구성된 문장에서 패턴으로 시작\n",
    "- 패턴\\\\Z : 여러줄로 구성된 문장에서 패턴으로 종료"
   ]
  },
  {
   "cell_type": "code",
   "execution_count": 19,
   "id": "bb82672b",
   "metadata": {},
   "outputs": [],
   "source": [
    "p = re.compile(r\"^python.+\\d$\")\n",
    "m = p.match(str)"
   ]
  },
  {
   "cell_type": "code",
   "execution_count": 23,
   "id": "f4c861a8",
   "metadata": {},
   "outputs": [],
   "source": [
    "p = re.compile(r\"\\Apython.+\\d\\Z\", re.M)\n",
    "m = p.match(str)"
   ]
  },
  {
   "cell_type": "code",
   "execution_count": null,
   "id": "260ac99a",
   "metadata": {},
   "outputs": [],
   "source": []
  }
 ],
 "metadata": {
  "kernelspec": {
   "display_name": "Python 3",
   "language": "python",
   "name": "python3"
  },
  "language_info": {
   "codemirror_mode": {
    "name": "ipython",
    "version": 3
   },
   "file_extension": ".py",
   "mimetype": "text/x-python",
   "name": "python",
   "nbconvert_exporter": "python",
   "pygments_lexer": "ipython3",
   "version": "3.12.10"
  }
 },
 "nbformat": 4,
 "nbformat_minor": 5
}
