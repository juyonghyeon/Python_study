{
 "cells": [
  {
   "cell_type": "markdown",
   "id": "43851c9f",
   "metadata": {},
   "source": [
    "# 그루핑\n",
    "\n",
    "1. \\() : 패턴을 그룹화\n",
    "2. group(인덱스)\n",
    "3. 그루핑된 문자열 재참조하기\n",
    "4. 그루핑된 문자열에 이름 붙이기\n"
   ]
  },
  {
   "cell_type": "code",
   "execution_count": 4,
   "id": "0f431676",
   "metadata": {},
   "outputs": [],
   "source": [
    "str = \"ABCABCABC\"\n"
   ]
  },
  {
   "cell_type": "code",
   "execution_count": 5,
   "id": "8826c676",
   "metadata": {},
   "outputs": [],
   "source": [
    "import re"
   ]
  },
  {
   "cell_type": "code",
   "execution_count": 6,
   "id": "cb7f5c69",
   "metadata": {},
   "outputs": [],
   "source": [
    "p = re.compile(f\"(ABC){1,3}\")\n",
    "m = p.search(str)\n",
    "m"
   ]
  },
  {
   "cell_type": "code",
   "execution_count": 14,
   "id": "1eea09c6",
   "metadata": {},
   "outputs": [],
   "source": [
    "str = \"\"\"이이름 010-1000-1000\n",
    "김이름 010-2000-2000\n",
    "Rachel 010-3000-3000\n",
    "\"\"\""
   ]
  },
  {
   "cell_type": "code",
   "execution_count": 17,
   "id": "5cc6c86c",
   "metadata": {},
   "outputs": [],
   "source": [
    "# p = re.compile(r\"[a-zㄱ-ㅎ가-힣]+\\s+010\\D?\\d{4}\\D?\\d{4}$\", re.I|re.M)\n",
    "p = re.compile(r\"([a-zㄱ-ㅎ가-힣]+)\\s+(010\\D?\\d{4}\\D?\\d{4}$)\", re.I|re.M)"
   ]
  },
  {
   "cell_type": "code",
   "execution_count": 18,
   "id": "cde51eee",
   "metadata": {},
   "outputs": [
    {
     "data": {
      "text/plain": [
       "[('이이름', '010-1000-1000'),\n",
       " ('김이름', '010-2000-2000'),\n",
       " ('Rachel', '010-3000-3000')]"
      ]
     },
     "execution_count": 18,
     "metadata": {},
     "output_type": "execute_result"
    }
   ],
   "source": [
    "m = p.findall(str)\n",
    "m"
   ]
  },
  {
   "cell_type": "code",
   "execution_count": 19,
   "id": "37d09735",
   "metadata": {},
   "outputs": [
    {
     "name": "stdout",
     "output_type": "stream",
     "text": [
      "m.group():이이름 010-1000-1000\n",
      "m.group(1):이이름\n",
      "m.group(2):010-1000-1000\n",
      "m.group():김이름 010-2000-2000\n",
      "m.group(1):김이름\n",
      "m.group(2):010-2000-2000\n",
      "m.group():Rachel 010-3000-3000\n",
      "m.group(1):Rachel\n",
      "m.group(2):010-3000-3000\n"
     ]
    }
   ],
   "source": [
    "for m in p.finditer(str):\n",
    "    print(f\"m.group():{m.group()}\")\n",
    "    print(f\"m.group(1):{m.group(1)}\")\n",
    "    print(f\"m.group(2):{m.group(2)}\")"
   ]
  },
  {
   "cell_type": "markdown",
   "id": "1e802c6c",
   "metadata": {},
   "source": [
    "## 문자열 바꾸기\n",
    "\n",
    "1. sub\n",
    "    - count : 지정하지 않으면 전체 문자열에서 모든 패턴을 치환, 숫자를 지정된 숫자만큼의 패턴만 치환\n",
    "2. subn\n",
    "    - sub + count 기능 포함, 반환값은 튜플"
   ]
  },
  {
   "cell_type": "code",
   "execution_count": 20,
   "id": "56d5d0f4",
   "metadata": {},
   "outputs": [],
   "source": [
    "str = \"\"\"이이름 010-1000-1000\n",
    "김이름 010-2000-2000\n",
    "Rachel 010-3000-3000\n",
    "\"\"\""
   ]
  },
  {
   "cell_type": "code",
   "execution_count": 21,
   "id": "1b67a754",
   "metadata": {},
   "outputs": [],
   "source": [
    "p = re.compile(r\"([a-zㄱ-ㅎ가-힣]+)\\s+(010\\D?\\d{4}\\D?\\d{4}$)\", re.I|re.M)"
   ]
  },
  {
   "cell_type": "code",
   "execution_count": 23,
   "id": "2c0992e8",
   "metadata": {},
   "outputs": [
    {
     "name": "stdout",
     "output_type": "stream",
     "text": [
      "010-1000-1000 이이름\n",
      "010-2000-2000 김이름\n",
      "010-3000-3000 Rachel\n",
      "\n"
     ]
    }
   ],
   "source": [
    "str2 = p.sub(r\"\\g<2> \\g<1>\", str)\n",
    "print(str2)"
   ]
  },
  {
   "cell_type": "markdown",
   "id": "c9357d4e",
   "metadata": {},
   "source": [
    "- 그룹핑의 이름을 설정\n",
    "\n",
    "```\n",
    "(?P<이름>)\n",
    "```\n"
   ]
  },
  {
   "cell_type": "code",
   "execution_count": 26,
   "id": "96c6b147",
   "metadata": {},
   "outputs": [],
   "source": [
    "p = re.compile(r\"(?P<name>^[a-zㄱ-ㅎ가-힣]+)\\s+(?P<mobile>010\\D?\\d{4}\\D?\\d{4}$)\", re.I|re.M)"
   ]
  },
  {
   "cell_type": "code",
   "execution_count": 29,
   "id": "4bbcfecb",
   "metadata": {},
   "outputs": [
    {
     "name": "stdout",
     "output_type": "stream",
     "text": [
      "010-1000-1000 이이름\n",
      "010-2000-2000 김이름\n",
      "010-3000-3000 Rachel\n",
      "\n"
     ]
    }
   ],
   "source": [
    "str2 = p.sub(r\"\\g<mobile> \\g<name>\", str)\n",
    "print(str2)"
   ]
  },
  {
   "cell_type": "markdown",
   "id": "23166be8",
   "metadata": {},
   "source": [
    "- 그룹화된 패턴을 재활용"
   ]
  },
  {
   "cell_type": "code",
   "execution_count": 31,
   "id": "e60b49d6",
   "metadata": {},
   "outputs": [],
   "source": [
    "str = \"Paris in the the spring\""
   ]
  },
  {
   "cell_type": "code",
   "execution_count": 37,
   "id": "95d43e2a",
   "metadata": {},
   "outputs": [],
   "source": [
    "#p  = re.compile(r\"(\\w+)\\s+\\1\")\n",
    "p = re.compile(r\"(?P<word>\\w+)\\s+(?P=word)\")"
   ]
  },
  {
   "cell_type": "code",
   "execution_count": 38,
   "id": "c1d01d27",
   "metadata": {},
   "outputs": [
    {
     "data": {
      "text/plain": [
       "<re.Match object; span=(9, 16), match='the the'>"
      ]
     },
     "execution_count": 38,
     "metadata": {},
     "output_type": "execute_result"
    }
   ],
   "source": [
    "m = p.search(str)\n",
    "m"
   ]
  },
  {
   "cell_type": "code",
   "execution_count": 39,
   "id": "61a6c402",
   "metadata": {},
   "outputs": [],
   "source": [
    "str = \"one little, two little, three little indians\""
   ]
  },
  {
   "cell_type": "code",
   "execution_count": 40,
   "id": "d46e1db0",
   "metadata": {},
   "outputs": [],
   "source": [
    "p = re.compile(\"little\")"
   ]
  },
  {
   "cell_type": "code",
   "execution_count": 42,
   "id": "b80acb17",
   "metadata": {},
   "outputs": [
    {
     "data": {
      "text/plain": [
       "'one big, two big, three little indians'"
      ]
     },
     "execution_count": 42,
     "metadata": {},
     "output_type": "execute_result"
    }
   ],
   "source": [
    "# str2 = p.sub(\"big\",str)\n",
    "str2 = p.sub(\"big\",str, count=2) # 왼쪽부터 매칭되는 2개만 치환\n",
    "str2"
   ]
  },
  {
   "cell_type": "code",
   "execution_count": 46,
   "id": "41cdc25b",
   "metadata": {},
   "outputs": [
    {
     "data": {
      "text/plain": [
       "('one big, two big, three little indians', 2)"
      ]
     },
     "execution_count": 46,
     "metadata": {},
     "output_type": "execute_result"
    }
   ],
   "source": [
    "result = p.subn(\"big\",str, 2)\n",
    "result"
   ]
  },
  {
   "cell_type": "code",
   "execution_count": 47,
   "id": "f0e01c5a",
   "metadata": {},
   "outputs": [
    {
     "data": {
      "text/plain": [
       "'one LITTLE, two LITTLE, three LITTLE indians'"
      ]
     },
     "execution_count": 47,
     "metadata": {},
     "output_type": "execute_result"
    }
   ],
   "source": [
    "str2 = p.sub(lambda m: m.group().upper(), str)\n",
    "str2"
   ]
  },
  {
   "cell_type": "markdown",
   "id": "4b8b6112",
   "metadata": {},
   "source": [
    "### 전방 탐색\n",
    "1. 긍정형 전방 탐색\n",
    "- 특정 패턴의 앞쪽 패턴으로 한정\n",
    "```\n",
    "앞쪽패턴(?=특정패턴)\n",
    "```\n",
    "2. 부정형 전방 탐색\n",
    "- 특정 패턴이 아닌 앞쪽 패턴으로 한정\n",
    "```\n",
    "앞쪽패턴(?!특정패턴)\n",
    "```"
   ]
  },
  {
   "cell_type": "code",
   "execution_count": 48,
   "id": "3a4d22a7",
   "metadata": {},
   "outputs": [],
   "source": [
    "str = \"\"\"https://www.naver.com\n",
    "https://www.daum.net\n",
    "http://www.webnmobile.net\n",
    "\"\"\""
   ]
  },
  {
   "cell_type": "code",
   "execution_count": 51,
   "id": "fab28244",
   "metadata": {},
   "outputs": [],
   "source": [
    "# p = re.compile(r\"http[s]?://\",re.M)\n",
    "p = re.compile(r\"http[s]?(?=://)\")"
   ]
  },
  {
   "cell_type": "code",
   "execution_count": 52,
   "id": "f0843a31",
   "metadata": {},
   "outputs": [
    {
     "data": {
      "text/plain": [
       "['https', 'https', 'http']"
      ]
     },
     "execution_count": 52,
     "metadata": {},
     "output_type": "execute_result"
    }
   ],
   "source": [
    "items = p.findall(str)\n",
    "items"
   ]
  },
  {
   "cell_type": "code",
   "execution_count": 66,
   "id": "c8f40f66",
   "metadata": {},
   "outputs": [],
   "source": [
    "p = re.compile(r\"http[s]?://(www\\.)?([^.]+(?=\\.net$))\", re.M)"
   ]
  },
  {
   "cell_type": "code",
   "execution_count": 67,
   "id": "a4d1decb",
   "metadata": {},
   "outputs": [
    {
     "name": "stdout",
     "output_type": "stream",
     "text": [
      "daum\n",
      "webnmobile\n"
     ]
    }
   ],
   "source": [
    "for item in p.finditer(str):\n",
    "    print(item.group(2))"
   ]
  },
  {
   "cell_type": "code",
   "execution_count": 68,
   "id": "66db4211",
   "metadata": {},
   "outputs": [],
   "source": [
    "p = re.compile(r\"https[s]?://(www\\.)?([^.]+(?!\\.net$))\", re.M) # 전방 부정 탐색, .net으로 끝나지 않는 앞쪽 패턴 문자"
   ]
  },
  {
   "cell_type": "code",
   "execution_count": 69,
   "id": "e7fc846c",
   "metadata": {},
   "outputs": [
    {
     "name": "stdout",
     "output_type": "stream",
     "text": [
      "https://www.naver.com\n",
      "https://www.daum.net\n",
      "http://www.webnmobile.net\n",
      "\n",
      "naver\n",
      "dau\n"
     ]
    }
   ],
   "source": [
    "print(str)\n",
    "for item in p.finditer(str):\n",
    "    print(item.group(2))"
   ]
  },
  {
   "cell_type": "markdown",
   "id": "fd8953ea",
   "metadata": {},
   "source": [
    "### greedy와 non-greedy\n",
    "- 패턴+, 패턴*, 패턴?, 패턴{n,m} : 최대 매칭(greedy)\n",
    "- 패턴+?, 패턴*?, 패턴??, 패턴{n,m}? : 최소 매칭(non-greedy)"
   ]
  },
  {
   "cell_type": "code",
   "execution_count": 70,
   "id": "fcaa1424",
   "metadata": {},
   "outputs": [],
   "source": [
    "str = \"<html><head><title>사이트 제목</title></head><body></body></html>\""
   ]
  },
  {
   "cell_type": "code",
   "execution_count": 71,
   "id": "6532ab46",
   "metadata": {},
   "outputs": [],
   "source": [
    "p = re.compile(r\"<.*>\") # greedy : 최대 매칭"
   ]
  },
  {
   "cell_type": "code",
   "execution_count": 72,
   "id": "e25ebdf1",
   "metadata": {},
   "outputs": [
    {
     "data": {
      "text/plain": [
       "'<html><head><title>사이트 제목</title></head><body></body></html>'"
      ]
     },
     "execution_count": 72,
     "metadata": {},
     "output_type": "execute_result"
    }
   ],
   "source": [
    "m = p.search(str)\n",
    "m.group()"
   ]
  },
  {
   "cell_type": "code",
   "execution_count": 73,
   "id": "35e11b40",
   "metadata": {},
   "outputs": [
    {
     "data": {
      "text/plain": [
       "'<html>'"
      ]
     },
     "execution_count": 73,
     "metadata": {},
     "output_type": "execute_result"
    }
   ],
   "source": [
    "p = re.compile(r\"<.*?>\") # non-greedy : 최소 매칭\n",
    "m = p.search(str)\n",
    "m.group()"
   ]
  },
  {
   "cell_type": "code",
   "execution_count": 74,
   "id": "ffb8ed05",
   "metadata": {},
   "outputs": [],
   "source": [
    "import requests"
   ]
  },
  {
   "cell_type": "code",
   "execution_count": 75,
   "id": "c11222ef",
   "metadata": {},
   "outputs": [],
   "source": [
    "response = requests.get(\"https://finance.naver.com/marketindex/exchangeList.naver\")"
   ]
  },
  {
   "cell_type": "code",
   "execution_count": 89,
   "id": "6da0acd4",
   "metadata": {},
   "outputs": [
    {
     "data": {
      "text/plain": [
       "'<a href=\"/marketindex/exchangeDetail.naver?marketindexCd=FX_EURKRW\" target=\"_parent\" onclick=\"parent.clickcr(this, \\'exl.exlist\\', \\'FX_EURKRW\\', \\'2\\', event);\">\\n\\t\\t\\t\\t\\n\\t\\t\\t\\t\\t\\n\\t\\t\\t\\t\\t\\n\\t\\t\\t\\t\\t\\n\\t\\t\\t\\t\\t유럽연합 EUR\\n\\t\\t\\t\\t\\n\\t\\t\\t\\t</a></td>\\n\\t\\t\\t\\t<td class=\"sale\">1,564.04</td>\\n\\t\\t\\t\\t<td>\\n\\t\\t\\t\\t\\t\\n\\t\\t\\t\\t\\t\\t\\n\\t\\t\\t\\t\\t\\t1,595.16\\n\\t\\t\\t\\t\\t\\n\\t\\t\\t\\t</td>\\n\\t\\t\\t\\t<td>\\n\\t\\t\\t\\t\\t\\n\\t\\t\\t\\t\\t\\t\\n\\t\\t\\t\\t\\t\\t1,532.92\\n\\t\\t\\t\\t\\t\\n\\t\\t\\t\\t</td>\\n\\t\\t\\t\\t<td>\\n\\t\\t\\t\\t\\t\\n\\t\\t\\t\\t\\t\\t\\n\\t\\t\\t\\t\\t\\t1,579.68\\n\\t\\t\\t\\t\\t\\n\\t\\t\\t\\t</td>\\n\\t\\t\\t\\t<td>\\n\\t\\t\\t\\t\\t\\n\\t\\t\\t\\t\\t\\t\\n\\t\\t\\t\\t\\t\\t1,548.40\\n\\t\\t\\t\\t\\t\\n\\t\\t\\t\\t</td>\\n\\t\\t\\t\\t<td>1.138</td>\\n\\t\\t\\t\\t</tr>\\n\\t\\t\\t\\t\\n\\t\\t\\t\\t<tr>\\n\\t\\t\\t\\t'"
      ]
     },
     "execution_count": 89,
     "metadata": {},
     "output_type": "execute_result"
    }
   ],
   "source": [
    "data = response.text.split(r'<td class=\"tit\">')[2]\n",
    "data"
   ]
  },
  {
   "cell_type": "code",
   "execution_count": null,
   "id": "95430764",
   "metadata": {},
   "outputs": [],
   "source": []
  }
 ],
 "metadata": {
  "kernelspec": {
   "display_name": "Python 3",
   "language": "python",
   "name": "python3"
  },
  "language_info": {
   "codemirror_mode": {
    "name": "ipython",
    "version": 3
   },
   "file_extension": ".py",
   "mimetype": "text/x-python",
   "name": "python",
   "nbconvert_exporter": "python",
   "pygments_lexer": "ipython3",
   "version": "3.12.10"
  }
 },
 "nbformat": 4,
 "nbformat_minor": 5
}
