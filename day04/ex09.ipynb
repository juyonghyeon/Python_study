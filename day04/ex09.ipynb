{
 "cells": [
  {
   "cell_type": "markdown",
   "id": "49edb625",
   "metadata": {},
   "source": [
    "# 패키지\n",
    "- import : 모듈 또는 패키지로 끝나야 한다."
   ]
  },
  {
   "cell_type": "code",
   "execution_count": 1,
   "id": "c31195fa",
   "metadata": {},
   "outputs": [],
   "source": [
    "import sys\n",
    "sys.path.append(\"C:/my_module\")"
   ]
  },
  {
   "cell_type": "code",
   "execution_count": 2,
   "id": "3dc79788",
   "metadata": {},
   "outputs": [],
   "source": [
    "import game.sound.echo"
   ]
  },
  {
   "cell_type": "code",
   "execution_count": 3,
   "id": "1012ff6f",
   "metadata": {},
   "outputs": [
    {
     "name": "stdout",
     "output_type": "stream",
     "text": [
      "echo\n"
     ]
    }
   ],
   "source": [
    "game.sound.echo.echo_test()"
   ]
  },
  {
   "cell_type": "code",
   "execution_count": 4,
   "id": "a5e7afca",
   "metadata": {},
   "outputs": [
    {
     "ename": "ModuleNotFoundError",
     "evalue": "No module named 'game.sound.echo.echo_test'; 'game.sound.echo' is not a package",
     "output_type": "error",
     "traceback": [
      "\u001b[31m---------------------------------------------------------------------------\u001b[39m",
      "\u001b[31mModuleNotFoundError\u001b[39m                       Traceback (most recent call last)",
      "\u001b[36mCell\u001b[39m\u001b[36m \u001b[39m\u001b[32mIn[4]\u001b[39m\u001b[32m, line 1\u001b[39m\n\u001b[32m----> \u001b[39m\u001b[32m1\u001b[39m \u001b[38;5;28;01mimport\u001b[39;00m\u001b[38;5;250m \u001b[39m\u001b[34;01mgame\u001b[39;00m\u001b[34;01m.\u001b[39;00m\u001b[34;01msound\u001b[39;00m\u001b[34;01m.\u001b[39;00m\u001b[34;01mecho\u001b[39;00m\u001b[34;01m.\u001b[39;00m\u001b[34;01mecho_test\u001b[39;00m\n",
      "\u001b[31mModuleNotFoundError\u001b[39m: No module named 'game.sound.echo.echo_test'; 'game.sound.echo' is not a package"
     ]
    }
   ],
   "source": [
    "import game.sound.echo.echo_test"
   ]
  },
  {
   "cell_type": "code",
   "execution_count": 2,
   "id": "24992082",
   "metadata": {},
   "outputs": [],
   "source": [
    "import game"
   ]
  },
  {
   "cell_type": "code",
   "execution_count": 3,
   "id": "4512608a",
   "metadata": {},
   "outputs": [
    {
     "ename": "AttributeError",
     "evalue": "module 'game' has no attribute 'sout'",
     "output_type": "error",
     "traceback": [
      "\u001b[31m---------------------------------------------------------------------------\u001b[39m",
      "\u001b[31mAttributeError\u001b[39m                            Traceback (most recent call last)",
      "\u001b[36mCell\u001b[39m\u001b[36m \u001b[39m\u001b[32mIn[3]\u001b[39m\u001b[32m, line 1\u001b[39m\n\u001b[32m----> \u001b[39m\u001b[32m1\u001b[39m \u001b[43mgame\u001b[49m\u001b[43m.\u001b[49m\u001b[43msout\u001b[49m.echo.echo_test()\n",
      "\u001b[31mAttributeError\u001b[39m: module 'game' has no attribute 'sout'"
     ]
    }
   ],
   "source": [
    "game.sout.echo.echo_test()"
   ]
  },
  {
   "cell_type": "code",
   "execution_count": 4,
   "id": "fd0f6a4f",
   "metadata": {},
   "outputs": [],
   "source": [
    "from game.sound.echo import echo_test"
   ]
  },
  {
   "cell_type": "code",
   "execution_count": 5,
   "id": "bb563518",
   "metadata": {},
   "outputs": [
    {
     "name": "stdout",
     "output_type": "stream",
     "text": [
      "echo\n"
     ]
    }
   ],
   "source": [
    "echo_test()"
   ]
  },
  {
   "cell_type": "markdown",
   "id": "947cb622",
   "metadata": {},
   "source": [
    "### __init__.py\n",
    "- 디렉토리가 패키지의 일부임을 알려주는 파일\n",
    "- 패키지 수준에서의 자원 공유\n",
    "- 모듈을 로드 했을때 최초에 실행, 초기화 작업시에도 주로 사용"
   ]
  },
  {
   "cell_type": "code",
   "execution_count": 1,
   "id": "3f0ac794",
   "metadata": {},
   "outputs": [],
   "source": [
    "import sys\n",
    "sys.path.append(\"C:/my_module\")"
   ]
  },
  {
   "cell_type": "code",
   "execution_count": 2,
   "id": "3511c8b0",
   "metadata": {},
   "outputs": [],
   "source": [
    "import game"
   ]
  },
  {
   "cell_type": "code",
   "execution_count": 3,
   "id": "44d72c89",
   "metadata": {},
   "outputs": [
    {
     "data": {
      "text/plain": [
       "3.12"
      ]
     },
     "execution_count": 3,
     "metadata": {},
     "output_type": "execute_result"
    }
   ],
   "source": [
    "game.VERSION"
   ]
  },
  {
   "cell_type": "code",
   "execution_count": 4,
   "id": "40c49ae7",
   "metadata": {},
   "outputs": [
    {
     "name": "stdout",
     "output_type": "stream",
     "text": [
      "파이썬 버전은 3.12 입니다.\n"
     ]
    }
   ],
   "source": [
    "game.print_version_info()"
   ]
  },
  {
   "cell_type": "code",
   "execution_count": 5,
   "id": "fc87d7b8",
   "metadata": {},
   "outputs": [
    {
     "ename": "ImportError",
     "evalue": "cannot import name 'VERSION' from 'game.sound' (C:\\my_module\\game\\sound\\__init__.py)",
     "output_type": "error",
     "traceback": [
      "\u001b[31m---------------------------------------------------------------------------\u001b[39m",
      "\u001b[31mImportError\u001b[39m                               Traceback (most recent call last)",
      "\u001b[36mCell\u001b[39m\u001b[36m \u001b[39m\u001b[32mIn[5]\u001b[39m\u001b[32m, line 1\u001b[39m\n\u001b[32m----> \u001b[39m\u001b[32m1\u001b[39m \u001b[38;5;28;01mfrom\u001b[39;00m\u001b[38;5;250m \u001b[39m\u001b[34;01mgame\u001b[39;00m\u001b[34;01m.\u001b[39;00m\u001b[34;01msound\u001b[39;00m\u001b[38;5;250m \u001b[39m\u001b[38;5;28;01mimport\u001b[39;00m VERSION, print_version_info\n",
      "\u001b[31mImportError\u001b[39m: cannot import name 'VERSION' from 'game.sound' (C:\\my_module\\game\\sound\\__init__.py)"
     ]
    }
   ],
   "source": [
    "from game.sound import VERSION, print_version_info"
   ]
  },
  {
   "cell_type": "code",
   "execution_count": 3,
   "id": "bf64f390",
   "metadata": {},
   "outputs": [
    {
     "name": "stdout",
     "output_type": "stream",
     "text": [
      "render\n"
     ]
    }
   ],
   "source": [
    "game.render_test()"
   ]
  },
  {
   "cell_type": "code",
   "execution_count": null,
   "id": "c5decc82",
   "metadata": {},
   "outputs": [],
   "source": []
  }
 ],
 "metadata": {
  "kernelspec": {
   "display_name": "Python 3",
   "language": "python",
   "name": "python3"
  },
  "language_info": {
   "codemirror_mode": {
    "name": "ipython",
    "version": 3
   },
   "file_extension": ".py",
   "mimetype": "text/x-python",
   "name": "python",
   "nbconvert_exporter": "python",
   "pygments_lexer": "ipython3",
   "version": "3.12.10"
  }
 },
 "nbformat": 4,
 "nbformat_minor": 5
}
