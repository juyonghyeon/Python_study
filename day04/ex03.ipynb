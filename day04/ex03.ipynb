{
 "cells": [
  {
   "cell_type": "markdown",
   "id": "282cd440",
   "metadata": {},
   "source": [
    "## 클래스\n",
    "- 객체 생성시 new 연산자는 사용 X\n",
    "- 클래스명\\(\\) 호출하면 객체가 생성\n",
    "- 메서드의 첫번째 매개변수 : 생성된 객체의 주소값을 가지는 지역변수\n",
    "    - 자바의 this와 동일한 역할\n",
    "\n",
    "### 생성자 메서드\n",
    "```python\n",
    "class ....\n",
    "    def __init__(self, 매개변수 정의...):\n",
    "        ...\n",
    "```\n",
    "- 인스턴스 변수의 초기화\n",
    "- 객체 생성시 초기화할 값을 직접 대입"
   ]
  },
  {
   "cell_type": "code",
   "execution_count": 27,
   "id": "187bce80",
   "metadata": {},
   "outputs": [],
   "source": [
    "class Calculator:\n",
    "    def __init__(self, a, b):\n",
    "        self.a = a\n",
    "        self.b = b\n",
    "    def add(self):\n",
    "        return self.a + self.b"
   ]
  },
  {
   "cell_type": "code",
   "execution_count": 28,
   "id": "22cdf723",
   "metadata": {},
   "outputs": [
    {
     "data": {
      "text/plain": [
       "303"
      ]
     },
     "execution_count": 28,
     "metadata": {},
     "output_type": "execute_result"
    }
   ],
   "source": [
    "cal1 = Calculator(101, 202)\n",
    "cal1.add()"
   ]
  },
  {
   "cell_type": "code",
   "execution_count": null,
   "id": "2b34742a",
   "metadata": {},
   "outputs": [
    {
     "data": {
      "text/plain": [
       "303"
      ]
     },
     "execution_count": 29,
     "metadata": {},
     "output_type": "execute_result"
    }
   ],
   "source": [
    "Calculator.add(cal1) # 이렇게는 잘 안함 위에껄로"
   ]
  },
  {
   "cell_type": "code",
   "execution_count": null,
   "id": "d3fb6dd6",
   "metadata": {},
   "outputs": [
    {
     "data": {
      "text/plain": [
       "302"
      ]
     },
     "execution_count": 25,
     "metadata": {},
     "output_type": "execute_result"
    }
   ],
   "source": [
    "#cal1.a = 100\n",
    "#cal1.b = 200\n",
    "#cal1.setData(102, 200)\n",
    "#cal1.add()"
   ]
  },
  {
   "cell_type": "code",
   "execution_count": 2,
   "id": "e9806027",
   "metadata": {},
   "outputs": [],
   "source": [
    "cal1 = Calculator() # 객체 생성"
   ]
  },
  {
   "cell_type": "code",
   "execution_count": 3,
   "id": "f2182f2c",
   "metadata": {},
   "outputs": [],
   "source": [
    "cal2 = Calculator()"
   ]
  },
  {
   "cell_type": "code",
   "execution_count": 5,
   "id": "edce201a",
   "metadata": {},
   "outputs": [
    {
     "name": "stdout",
     "output_type": "stream",
     "text": [
      "False\n",
      "cal1: 2195139099200  cal2: 2195139092000\n"
     ]
    }
   ],
   "source": [
    "print(cal1 is cal2)\n",
    "print(\"cal1:\",id(cal1),\" cal2:\",id(cal2))"
   ]
  },
  {
   "cell_type": "code",
   "execution_count": null,
   "id": "f9f57a77",
   "metadata": {},
   "outputs": [],
   "source": []
  }
 ],
 "metadata": {
  "kernelspec": {
   "display_name": "Python 3",
   "language": "python",
   "name": "python3"
  },
  "language_info": {
   "codemirror_mode": {
    "name": "ipython",
    "version": 3
   },
   "file_extension": ".py",
   "mimetype": "text/x-python",
   "name": "python",
   "nbconvert_exporter": "python",
   "pygments_lexer": "ipython3",
   "version": "3.12.10"
  }
 },
 "nbformat": 4,
 "nbformat_minor": 5
}
