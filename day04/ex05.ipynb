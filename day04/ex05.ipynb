{
 "cells": [
  {
   "cell_type": "markdown",
   "id": "1a61ef92",
   "metadata": {},
   "source": [
    "## 클래스\n",
    "```python\n",
    "class ...:\n",
    "    def __str__(self):\n",
    "        return \"문자열\"\n",
    "```\n",
    "- 객체의 참조 변수를 출력하면 자동 호출되는 메서드\n",
    "    - 자바의 'toString()' 와 동일한 역할"
   ]
  },
  {
   "cell_type": "code",
   "execution_count": 1,
   "id": "457fb0d1",
   "metadata": {},
   "outputs": [],
   "source": [
    "class Calculator:\n",
    "    def __init__(self, a, b):\n",
    "        self.a = a\n",
    "        self.b = b\n",
    "    def add(self):\n",
    "        return self.a + self.b\n",
    "    def sub(self):\n",
    "        return self.a - self.b\n",
    "    def mul(self):\n",
    "        return self.a * self.b\n",
    "    def div(self):\n",
    "        return self.a / self.b\n",
    "    def __str__(self):\n",
    "        return f\"a={self.a}, b={self.b}\""
   ]
  },
  {
   "cell_type": "code",
   "execution_count": 2,
   "id": "0410f504",
   "metadata": {},
   "outputs": [],
   "source": [
    "cal1 = Calculator(200,10)"
   ]
  },
  {
   "cell_type": "code",
   "execution_count": 3,
   "id": "d35f9eea",
   "metadata": {},
   "outputs": [
    {
     "name": "stdout",
     "output_type": "stream",
     "text": [
      "a=200, b=10\n"
     ]
    }
   ],
   "source": [
    "print(cal1)"
   ]
  },
  {
   "cell_type": "markdown",
   "id": "2fb8b4a1",
   "metadata": {},
   "source": [
    "## 클래스의 상속\n",
    "```python\n",
    "class 자식클래스(부모클래스1, 부모클래스2, ...):\n",
    "    ...\n",
    "```\n",
    "\n",
    "- 다중 상속이 가능\n",
    "- 하위 클래스에서 상위클래스에 정의된 동일한 메서드를 정의해서 기능을 변경하는 것 : 메서드 재정의"
   ]
  },
  {
   "cell_type": "code",
   "execution_count": null,
   "id": "4d56c11b",
   "metadata": {},
   "outputs": [],
   "source": [
    "class MoreCalculator(Calculator):\n",
    "    def div(self): # 메서드 재정의\n",
    "        if self.b == 0:\n",
    "            return 0\n",
    "        \n",
    "        return Calculator.div(self) # 자바에서 super == 상위클래스명"
   ]
  },
  {
   "cell_type": "code",
   "execution_count": 34,
   "id": "559ee262",
   "metadata": {},
   "outputs": [],
   "source": [
    "# cal1 = MoreCalculator(100, 200)\n",
    "cal1 = MoreCalculator(10, 0)"
   ]
  },
  {
   "cell_type": "code",
   "execution_count": 35,
   "id": "cfd14c4b",
   "metadata": {},
   "outputs": [
    {
     "data": {
      "text/plain": [
       "0"
      ]
     },
     "execution_count": 35,
     "metadata": {},
     "output_type": "execute_result"
    }
   ],
   "source": [
    "cal1.div()"
   ]
  },
  {
   "cell_type": "code",
   "execution_count": null,
   "id": "0e27e509",
   "metadata": {},
   "outputs": [],
   "source": []
  }
 ],
 "metadata": {
  "kernelspec": {
   "display_name": "Python 3",
   "language": "python",
   "name": "python3"
  },
  "language_info": {
   "codemirror_mode": {
    "name": "ipython",
    "version": 3
   },
   "file_extension": ".py",
   "mimetype": "text/x-python",
   "name": "python",
   "nbconvert_exporter": "python",
   "pygments_lexer": "ipython3",
   "version": "3.12.10"
  }
 },
 "nbformat": 4,
 "nbformat_minor": 5
}
