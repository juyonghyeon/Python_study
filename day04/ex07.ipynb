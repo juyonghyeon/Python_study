{
 "cells": [
  {
   "cell_type": "markdown",
   "id": "6fd2f476",
   "metadata": {},
   "source": [
    "## 모듈\n",
    "- 모듈이란?\n",
    "1) 모듈이란 함수나 변수 또는 클래스를 모아 놓은 파이썬 파일이다\n",
    "2) 모듈은 다른 파이썬 프로그램에서 불러와 사용할 수 있또록 만든 파이썬 파일이라고도 할 수 있다.\n",
    "\n",
    "- 모듈 만들기\n",
    "\n",
    "- 모듈 불러오기\n",
    "```python\n",
    "import 모듈명\n",
    "from 모듈이름포함한 패키지 경로 import 함수 또는 변수, ...\n",
    "from 모듈이름포함한 패키지 경로 import * : 해당 모듈의 모든 함수, 변수, 클래스 등등\n",
    "```\n",
    "> 모듈명은 확장자를 제외한 파일명\n",
    "- 모듈 사용하기\n",
    "```python\n",
    "모듈명.함수명(..)\n",
    "모듈명.변수명\n",
    "```\n",
    "- 모듈이 같은 폴더 안에 있을때는 import로 바로 불러올 수 있음\n",
    "    - 같은 폴더에 없으면 불러올 수 없다!\n",
    "    "
   ]
  },
  {
   "cell_type": "code",
   "execution_count": 19,
   "id": "534f7239",
   "metadata": {},
   "outputs": [],
   "source": [
    "import mod1"
   ]
  },
  {
   "cell_type": "code",
   "execution_count": 20,
   "id": "afe10da5",
   "metadata": {},
   "outputs": [
    {
     "data": {
      "text/plain": [
       "30"
      ]
     },
     "execution_count": 20,
     "metadata": {},
     "output_type": "execute_result"
    }
   ],
   "source": [
    "mod1.add(10, 20)"
   ]
  },
  {
   "cell_type": "code",
   "execution_count": 21,
   "id": "a91dd056",
   "metadata": {},
   "outputs": [
    {
     "data": {
      "text/plain": [
       "10"
      ]
     },
     "execution_count": 21,
     "metadata": {},
     "output_type": "execute_result"
    }
   ],
   "source": [
    "mod1.sub(20,10)"
   ]
  },
  {
   "cell_type": "code",
   "execution_count": 22,
   "id": "4e89d05e",
   "metadata": {},
   "outputs": [],
   "source": [
    "from mod1 import add, sub"
   ]
  },
  {
   "cell_type": "code",
   "execution_count": 23,
   "id": "062feceb",
   "metadata": {},
   "outputs": [
    {
     "data": {
      "text/plain": [
       "33"
      ]
     },
     "execution_count": 23,
     "metadata": {},
     "output_type": "execute_result"
    }
   ],
   "source": [
    "add(12,21)"
   ]
  },
  {
   "cell_type": "code",
   "execution_count": 24,
   "id": "6d8d264d",
   "metadata": {},
   "outputs": [
    {
     "data": {
      "text/plain": [
       "12"
      ]
     },
     "execution_count": 24,
     "metadata": {},
     "output_type": "execute_result"
    }
   ],
   "source": [
    "sub(33,21)"
   ]
  },
  {
   "cell_type": "code",
   "execution_count": 38,
   "id": "cc1c5321",
   "metadata": {},
   "outputs": [],
   "source": [
    "from mod1 import *"
   ]
  },
  {
   "cell_type": "code",
   "execution_count": 33,
   "id": "6a9bdbbc",
   "metadata": {},
   "outputs": [
    {
     "data": {
      "text/plain": [
       "30"
      ]
     },
     "execution_count": 33,
     "metadata": {},
     "output_type": "execute_result"
    }
   ],
   "source": [
    "add(10, 20)"
   ]
  },
  {
   "cell_type": "code",
   "execution_count": 1,
   "id": "24a64786",
   "metadata": {},
   "outputs": [],
   "source": [
    "import mod1"
   ]
  },
  {
   "cell_type": "markdown",
   "id": "ee35a1c2",
   "metadata": {},
   "source": [
    "## __name__ : 모듈이름\n",
    "- 파이썬 파일을 실행하는 모듈 주로 `__main__` 이름의 모듈\n",
    "- import를 통해서 불러오는 모듈의 이름은 `모듈명`"
   ]
  },
  {
   "cell_type": "code",
   "execution_count": 2,
   "id": "c250c453",
   "metadata": {},
   "outputs": [
    {
     "data": {
      "text/plain": [
       "'__main__'"
      ]
     },
     "execution_count": 2,
     "metadata": {},
     "output_type": "execute_result"
    }
   ],
   "source": [
    "__name__"
   ]
  },
  {
   "cell_type": "code",
   "execution_count": 2,
   "id": "7fd09f53",
   "metadata": {},
   "outputs": [],
   "source": [
    "from mod2 import Circle, PI"
   ]
  },
  {
   "cell_type": "code",
   "execution_count": 3,
   "id": "a7f97ba8",
   "metadata": {},
   "outputs": [
    {
     "data": {
      "text/plain": [
       "3.141592"
      ]
     },
     "execution_count": 3,
     "metadata": {},
     "output_type": "execute_result"
    }
   ],
   "source": [
    "PI"
   ]
  },
  {
   "cell_type": "code",
   "execution_count": 4,
   "id": "681d8baa",
   "metadata": {},
   "outputs": [
    {
     "data": {
      "text/plain": [
       "314.1592"
      ]
     },
     "execution_count": 4,
     "metadata": {},
     "output_type": "execute_result"
    }
   ],
   "source": [
    "c = Circle()\n",
    "c.area(10)"
   ]
  },
  {
   "cell_type": "code",
   "execution_count": null,
   "id": "9dd6a923",
   "metadata": {},
   "outputs": [],
   "source": []
  }
 ],
 "metadata": {
  "kernelspec": {
   "display_name": "Python 3",
   "language": "python",
   "name": "python3"
  },
  "language_info": {
   "codemirror_mode": {
    "name": "ipython",
    "version": 3
   },
   "file_extension": ".py",
   "mimetype": "text/x-python",
   "name": "python",
   "nbconvert_exporter": "python",
   "pygments_lexer": "ipython3",
   "version": "3.12.10"
  }
 },
 "nbformat": 4,
 "nbformat_minor": 5
}
