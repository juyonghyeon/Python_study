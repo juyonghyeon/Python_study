{
 "cells": [
  {
   "cell_type": "code",
   "execution_count": 1,
   "id": "29fd23f5",
   "metadata": {},
   "outputs": [],
   "source": [
    "import sys\n",
    "sys.path.append(\"C:/my_module\")"
   ]
  },
  {
   "cell_type": "code",
   "execution_count": 2,
   "id": "9cc92046",
   "metadata": {},
   "outputs": [
    {
     "name": "stdout",
     "output_type": "stream",
     "text": [
      "초기화 작업중....\n"
     ]
    }
   ],
   "source": [
    "from game.graphic import echo_test"
   ]
  },
  {
   "cell_type": "code",
   "execution_count": 3,
   "id": "ddc13304",
   "metadata": {},
   "outputs": [
    {
     "name": "stdout",
     "output_type": "stream",
     "text": [
      "echo\n"
     ]
    }
   ],
   "source": [
    "echo_test()"
   ]
  },
  {
   "cell_type": "code",
   "execution_count": 4,
   "id": "39adddb3",
   "metadata": {},
   "outputs": [
    {
     "name": "stdout",
     "output_type": "stream",
     "text": [
      "초기화 작업중....\n"
     ]
    }
   ],
   "source": [
    "import game"
   ]
  },
  {
   "cell_type": "code",
   "execution_count": 5,
   "id": "4a894fe6",
   "metadata": {},
   "outputs": [],
   "source": [
    "import game"
   ]
  },
  {
   "cell_type": "code",
   "execution_count": null,
   "id": "7bd340ef",
   "metadata": {},
   "outputs": [],
   "source": []
  }
 ],
 "metadata": {
  "kernelspec": {
   "display_name": "Python 3",
   "language": "python",
   "name": "python3"
  },
  "language_info": {
   "codemirror_mode": {
    "name": "ipython",
    "version": 3
   },
   "file_extension": ".py",
   "mimetype": "text/x-python",
   "name": "python",
   "nbconvert_exporter": "python",
   "pygments_lexer": "ipython3",
   "version": "3.12.10"
  }
 },
 "nbformat": 4,
 "nbformat_minor": 5
}
