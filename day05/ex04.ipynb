{
 "cells": [
  {
   "cell_type": "code",
   "execution_count": 1,
   "id": "8bc6c6f4",
   "metadata": {},
   "outputs": [],
   "source": [
    "fruits = ['Apple','Orange','Banana','Melon','Mango']"
   ]
  },
  {
   "cell_type": "code",
   "execution_count": 3,
   "id": "f4442ac5",
   "metadata": {},
   "outputs": [
    {
     "name": "stdout",
     "output_type": "stream",
     "text": [
      "0 Apple\n",
      "1 Orange\n",
      "2 Banana\n",
      "3 Melon\n",
      "4 Mango\n"
     ]
    }
   ],
   "source": [
    "i = 0\n",
    "for item in fruits:\n",
    "    print(i, item)\n",
    "    i += 1"
   ]
  },
  {
   "cell_type": "code",
   "execution_count": 9,
   "id": "66c60a00",
   "metadata": {},
   "outputs": [
    {
     "name": "stdout",
     "output_type": "stream",
     "text": [
      "0 Apple\n",
      "1 Orange\n",
      "2 Banana\n",
      "3 Melon\n",
      "4 Mango\n"
     ]
    }
   ],
   "source": [
    "for i, item in enumerate(fruits):\n",
    "    print(i, item)"
   ]
  },
  {
   "cell_type": "code",
   "execution_count": 10,
   "id": "30182a33",
   "metadata": {},
   "outputs": [
    {
     "data": {
      "text/plain": [
       "str"
      ]
     },
     "execution_count": 10,
     "metadata": {},
     "output_type": "execute_result"
    }
   ],
   "source": [
    "data = \"[1,2,3,4]\"\n",
    "type(data)"
   ]
  },
  {
   "cell_type": "code",
   "execution_count": 12,
   "id": "7ccef728",
   "metadata": {},
   "outputs": [
    {
     "name": "stdout",
     "output_type": "stream",
     "text": [
      "[1, 2, 3, 4]\n",
      "<class 'list'>\n"
     ]
    }
   ],
   "source": [
    "data2 = eval(data)\n",
    "print(data2)\n",
    "print(type(data2))"
   ]
  },
  {
   "cell_type": "code",
   "execution_count": 13,
   "id": "648baea9",
   "metadata": {},
   "outputs": [
    {
     "data": {
      "text/plain": [
       "[0, 1, 2, 3, 4, 5, 6, 7, 8, 9]"
      ]
     },
     "execution_count": 13,
     "metadata": {},
     "output_type": "execute_result"
    }
   ],
   "source": [
    "nums = list(range(0,101))\n",
    "nums[:10]"
   ]
  },
  {
   "cell_type": "code",
   "execution_count": 16,
   "id": "2b23cf21",
   "metadata": {},
   "outputs": [
    {
     "data": {
      "text/plain": [
       "[1,\n",
       " 3,\n",
       " 5,\n",
       " 7,\n",
       " 9,\n",
       " 11,\n",
       " 13,\n",
       " 15,\n",
       " 17,\n",
       " 19,\n",
       " 21,\n",
       " 23,\n",
       " 25,\n",
       " 27,\n",
       " 29,\n",
       " 31,\n",
       " 33,\n",
       " 35,\n",
       " 37,\n",
       " 39,\n",
       " 41,\n",
       " 43,\n",
       " 45,\n",
       " 47,\n",
       " 49,\n",
       " 51,\n",
       " 53,\n",
       " 55,\n",
       " 57,\n",
       " 59,\n",
       " 61,\n",
       " 63,\n",
       " 65,\n",
       " 67,\n",
       " 69,\n",
       " 71,\n",
       " 73,\n",
       " 75,\n",
       " 77,\n",
       " 79,\n",
       " 81,\n",
       " 83,\n",
       " 85,\n",
       " 87,\n",
       " 89,\n",
       " 91,\n",
       " 93,\n",
       " 95,\n",
       " 97,\n",
       " 99]"
      ]
     },
     "execution_count": 16,
     "metadata": {},
     "output_type": "execute_result"
    }
   ],
   "source": [
    "def predicate(x):\n",
    "    return x % 2 == 1\n",
    "\n",
    "odds = list(filter(predicate, nums))\n",
    "odds"
   ]
  },
  {
   "cell_type": "code",
   "execution_count": 17,
   "id": "b7151b40",
   "metadata": {},
   "outputs": [
    {
     "data": {
      "text/plain": [
       "[1, 3, 5, 7, 9, 11, 13, 15, 17, 19, 21, 23, 25, 27, 29, 31, 33, 35, 37, 39]"
      ]
     },
     "execution_count": 17,
     "metadata": {},
     "output_type": "execute_result"
    }
   ],
   "source": [
    "odds = list(filter(lambda x: x%2 == 1, nums))\n",
    "odds[:20]"
   ]
  },
  {
   "cell_type": "code",
   "execution_count": 23,
   "id": "4e633082",
   "metadata": {},
   "outputs": [],
   "source": [
    "a = IndexError()"
   ]
  },
  {
   "cell_type": "code",
   "execution_count": 24,
   "id": "3576a06a",
   "metadata": {},
   "outputs": [
    {
     "data": {
      "text/plain": [
       "True"
      ]
     },
     "execution_count": 24,
     "metadata": {},
     "output_type": "execute_result"
    }
   ],
   "source": [
    "isinstance(a, Exception)"
   ]
  },
  {
   "cell_type": "code",
   "execution_count": 25,
   "id": "6ca683aa",
   "metadata": {},
   "outputs": [
    {
     "data": {
      "text/plain": [
       "True"
      ]
     },
     "execution_count": 25,
     "metadata": {},
     "output_type": "execute_result"
    }
   ],
   "source": [
    "isinstance(a, IndexError)"
   ]
  },
  {
   "cell_type": "code",
   "execution_count": 26,
   "id": "09d9b629",
   "metadata": {},
   "outputs": [],
   "source": [
    "fruits = ['Apple','Orange','Banana','Melon','Mango']"
   ]
  },
  {
   "cell_type": "code",
   "execution_count": 30,
   "id": "24548b1f",
   "metadata": {},
   "outputs": [
    {
     "data": {
      "text/plain": [
       "[5, 6, 6, 5, 5]"
      ]
     },
     "execution_count": 30,
     "metadata": {},
     "output_type": "execute_result"
    }
   ],
   "source": [
    "fruits_len = list(map(len,fruits))\n",
    "fruits_len"
   ]
  },
  {
   "cell_type": "code",
   "execution_count": 32,
   "id": "d13246d6",
   "metadata": {},
   "outputs": [
    {
     "data": {
      "text/plain": [
       "['♥Apple♥', '♥Orange♥', '♥Banana♥', '♥Melon♥', '♥Mango♥']"
      ]
     },
     "execution_count": 32,
     "metadata": {},
     "output_type": "execute_result"
    }
   ],
   "source": [
    "fruits2 = list(map(lambda s: '♥'+s+'♥', fruits))\n",
    "fruits2"
   ]
  },
  {
   "cell_type": "code",
   "execution_count": 33,
   "id": "03df2b9d",
   "metadata": {},
   "outputs": [
    {
     "name": "stdout",
     "output_type": "stream",
     "text": [
      "8\n",
      "8\n"
     ]
    }
   ],
   "source": [
    "print(pow(2,3))\n",
    "print(2**3)"
   ]
  },
  {
   "cell_type": "code",
   "execution_count": 36,
   "id": "fa248147",
   "metadata": {},
   "outputs": [],
   "source": [
    "nums = [10,20,30,40,50,60]\n",
    "alpha = ['A','B','C']"
   ]
  },
  {
   "cell_type": "code",
   "execution_count": 37,
   "id": "927b4a5c",
   "metadata": {},
   "outputs": [
    {
     "data": {
      "text/plain": [
       "[(10, 'A'), (20, 'B'), (30, 'C')]"
      ]
     },
     "execution_count": 37,
     "metadata": {},
     "output_type": "execute_result"
    }
   ],
   "source": [
    "data = list(zip(nums,alpha))\n",
    "data"
   ]
  },
  {
   "cell_type": "code",
   "execution_count": null,
   "id": "e256b4e4",
   "metadata": {},
   "outputs": [],
   "source": []
  }
 ],
 "metadata": {
  "kernelspec": {
   "display_name": "Python 3",
   "language": "python",
   "name": "python3"
  },
  "language_info": {
   "codemirror_mode": {
    "name": "ipython",
    "version": 3
   },
   "file_extension": ".py",
   "mimetype": "text/x-python",
   "name": "python",
   "nbconvert_exporter": "python",
   "pygments_lexer": "ipython3",
   "version": "3.12.10"
  }
 },
 "nbformat": 4,
 "nbformat_minor": 5
}
