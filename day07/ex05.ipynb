{
 "cells": [
  {
   "cell_type": "markdown",
   "id": "c6c89fc7",
   "metadata": {},
   "source": [
    "# 정규 표현식\n",
    "## \\[\\] 문자 클래스 : 문자 하나 하나\n",
    "```python\n",
    "[abc] : a,b,c\n",
    "```\n",
    "- 문자의 범위 -\n",
    "```python\n",
    "[a-z] : # a~z, 알파벳 소문자\n",
    "[A-Z] : # A~Z, 알파벳 대문자\n",
    "[a-zA-Z] : # 대소문자 구분없는 알파벳 문자\n",
    "[ㄱ-ㅎ가-힣] : # 한글 문자 1개\n",
    "[0-9] # 숫자 문자 1개\n",
    "[^0-9] # 0~9 숫자를 제외한 모든 문자 (^ ~를 제외한 문자)\n",
    "```"
   ]
  },
  {
   "cell_type": "code",
   "execution_count": 1,
   "id": "8857bc97",
   "metadata": {},
   "outputs": [],
   "source": [
    "import re"
   ]
  },
  {
   "cell_type": "code",
   "execution_count": 2,
   "id": "005f8faa",
   "metadata": {},
   "outputs": [],
   "source": [
    "# p = re.compile(\"[abc]\") # a 또는 b 또는 c라는 문자 한개가 포함되어 있는지\n",
    "# p = re.compile(\"[a-z]\") # a ~ z\n",
    "# p = re.compile(\"[a-zA-z]\")\n",
    "# p = re.compile(\"[0-9]\") # 0~9\n",
    "# p = re.compile(\"\\\\d\") # 0~9\n",
    "# p = re.compile(\"[^0-9]\") # 숫자가 아닌 모든 문자\n",
    "p = re.compile(\"\\\\D\") # [^0*9] : 숫자가 아닌 모든 문자"
   ]
  },
  {
   "cell_type": "code",
   "execution_count": 3,
   "id": "5d1c600d",
   "metadata": {},
   "outputs": [
    {
     "data": {
      "text/plain": [
       "<re.Match object; span=(0, 1), match='!'>"
      ]
     },
     "execution_count": 3,
     "metadata": {},
     "output_type": "execute_result"
    }
   ],
   "source": [
    "p.match(\"!a010\")"
   ]
  },
  {
   "cell_type": "markdown",
   "id": "f80cb65b",
   "metadata": {},
   "source": [
    "## 자주 사용하는 문자 클래스\n",
    "- `\\d` : \\[0-9] : 숫자\n",
    "- `\\D` : \\[^0-9] : 숫자가 아닌 패턴\n",
    "- `\\s` : 공백 문자 한개(` ' ', \\t - 탭 한칸, \\r, \\n, \\f`) - \\[\\s\\t\\r\\n\\f]\n",
    "- `\\S` : 공백이 아닌 모든 문자 - \\[^\\s\\t\\r\\n\\f]\n",
    "- `\\w` : \\[a-zA-Z0-9_] : 단어 한개 패턴 참고) 단어 한개 `[a-zA-Z0-9_ㄱ-ㅎ가-힣]`\n",
    "- `\\W` : \\[^a-zA-Z0-9_]"
   ]
  },
  {
   "cell_type": "markdown",
   "id": "184206b7",
   "metadata": {},
   "source": [
    "# . 문자\n",
    "- `\\n\\`을 제외한 문자 1개(줄 개행 문자는 포함 X)"
   ]
  },
  {
   "cell_type": "code",
   "execution_count": 4,
   "id": "a65b8f3c",
   "metadata": {},
   "outputs": [
    {
     "name": "stdout",
     "output_type": "stream",
     "text": [
      "a000b <re.Match object; span=(0, 5), match='a000b'>\n",
      "a111b <re.Match object; span=(0, 5), match='a111b'>\n",
      "a222b <re.Match object; span=(0, 5), match='a222b'>\n",
      "a!b None\n"
     ]
    }
   ],
   "source": [
    "# a0b, a1b, a2b, a!b\n",
    "words = ['a000b','a111b','a222b','a!b']\n",
    "p = re.compile(\"a...b\")\n",
    "\n",
    "for word in words:\n",
    "    print(word, p.match(word))"
   ]
  },
  {
   "cell_type": "markdown",
   "id": "3edb2f7a",
   "metadata": {},
   "source": [
    "# 패턴의 반복 횟수\n",
    "- 패턴{숫자} : 패턴이 숫자만큼 반복\n",
    "- 패턴{시작번호, 종료번호} : 패턴이 시작번호 종료번호 이하 반복\n",
    "    - 패턴{1,3} : 패턴이 1번이상 3번 이하\n",
    "    - 패턴{0,1} : 없어도 되지만 있을대는 1개가 있어야 한다. ?\n",
    "- 패턴{시작번호,} : 패턴이 시작번호 이상 반복\n",
    "    - 패턴{1,} : 패턴이 1번이상 반복 / 패턴+\n",
    "    - 패턴{0,} : 패턴이 0번이상 반복, 패턴에 해당하는 문자가 있어도 되고 없어도 된다. / 패턴*"
   ]
  },
  {
   "cell_type": "code",
   "execution_count": 5,
   "id": "56aed0b2",
   "metadata": {},
   "outputs": [
    {
     "name": "stdout",
     "output_type": "stream",
     "text": [
      "a000b <re.Match object; span=(0, 5), match='a000b'>\n",
      "a111b <re.Match object; span=(0, 5), match='a111b'>\n",
      "a222b <re.Match object; span=(0, 5), match='a222b'>\n",
      "a333333b <re.Match object; span=(0, 8), match='a333333b'>\n",
      "a!b <re.Match object; span=(0, 3), match='a!b'>\n",
      "ab <re.Match object; span=(0, 2), match='ab'>\n"
     ]
    }
   ],
   "source": [
    "words = ['a000b','a111b','a222b', 'a333333b', 'a!b', 'ab']\n",
    "# p = re.compile(\"a.{3}b\")\n",
    "# p = re.compile(\"a.{1,3}b\")\n",
    "# p = re.compile(\"a.{1,}b\") \n",
    "# p = re.compile(\"a.+b\") # .이 1개 이상\n",
    "# p = re.compile(\"a.{0,}b\")\n",
    "p = re.compile(\"a.*b\") # .이 0개 이상\n",
    "\n",
    "for word in words:\n",
    "    print(word, p.match(word))"
   ]
  },
  {
   "cell_type": "code",
   "execution_count": 6,
   "id": "1c88e3b4",
   "metadata": {},
   "outputs": [],
   "source": [
    "# p = re.compile(\"python\")\n",
    "p = re.compile(\".*python.*\") # python 포함된 패턴"
   ]
  },
  {
   "cell_type": "code",
   "execution_count": 7,
   "id": "026f8328",
   "metadata": {},
   "outputs": [
    {
     "data": {
      "text/plain": [
       "<re.Match object; span=(0, 6), match='python'>"
      ]
     },
     "execution_count": 7,
     "metadata": {},
     "output_type": "execute_result"
    }
   ],
   "source": [
    "str = \"python\"\n",
    "p.match(str)"
   ]
  },
  {
   "cell_type": "code",
   "execution_count": 8,
   "id": "e3b36967",
   "metadata": {},
   "outputs": [
    {
     "data": {
      "text/plain": [
       "<re.Match object; span=(0, 13), match='I love python'>"
      ]
     },
     "execution_count": 8,
     "metadata": {},
     "output_type": "execute_result"
    }
   ],
   "source": [
    "str = \"I love python\"\n",
    "p.match(str)"
   ]
  },
  {
   "cell_type": "code",
   "execution_count": 9,
   "id": "82e4da34",
   "metadata": {},
   "outputs": [
    {
     "data": {
      "text/plain": [
       "<re.Match object; span=(0, 22), match='I love python and java'>"
      ]
     },
     "execution_count": 9,
     "metadata": {},
     "output_type": "execute_result"
    }
   ],
   "source": [
    "str = \"I love python and java\"\n",
    "p.match(str)"
   ]
  },
  {
   "cell_type": "code",
   "execution_count": 10,
   "id": "dc3f223c",
   "metadata": {},
   "outputs": [
    {
     "data": {
      "text/plain": [
       "<re.Match object; span=(7, 13), match='python'>"
      ]
     },
     "execution_count": 10,
     "metadata": {},
     "output_type": "execute_result"
    }
   ],
   "source": [
    "p = re.compile(\"python\")\n",
    "p.search(str)"
   ]
  },
  {
   "cell_type": "markdown",
   "id": "37329e47",
   "metadata": {},
   "source": [
    "# 휴대폰 번호 패턴\n",
    "- 010-1000-1000\n",
    "- 01010001000\n",
    "- 010.1000.1000"
   ]
  },
  {
   "cell_type": "code",
   "execution_count": 11,
   "id": "8f2ef496",
   "metadata": {},
   "outputs": [
    {
     "data": {
      "text/plain": [
       "<re.Match object; span=(0, 13), match='010-1234-1234'>"
      ]
     },
     "execution_count": 11,
     "metadata": {},
     "output_type": "execute_result"
    }
   ],
   "source": [
    "p = re.compile(\"010.?\\\\d{4}.?\\\\d{4}\")\n",
    "p.search(\"010-1234-1234\")"
   ]
  },
  {
   "cell_type": "code",
   "execution_count": 12,
   "id": "028456ce",
   "metadata": {},
   "outputs": [
    {
     "data": {
      "text/plain": [
       "<re.Match object; span=(4, 17), match='010-1234-1234'>"
      ]
     },
     "execution_count": 12,
     "metadata": {},
     "output_type": "execute_result"
    }
   ],
   "source": [
    "p.search('1234010-1234-12345678')"
   ]
  },
  {
   "cell_type": "markdown",
   "id": "2cfc3f30",
   "metadata": {},
   "source": [
    "### ^, $\n",
    "- ^패턴 : 패턴으로 시작하는 패턴\n",
    "- 패턴$ : 패턴으로 끝나는 패턴"
   ]
  },
  {
   "cell_type": "code",
   "execution_count": 13,
   "id": "b4f5d7e0",
   "metadata": {},
   "outputs": [
    {
     "data": {
      "text/plain": [
       "<re.Match object; span=(0, 13), match='010-1234-1234'>"
      ]
     },
     "execution_count": 13,
     "metadata": {},
     "output_type": "execute_result"
    }
   ],
   "source": [
    "p = re.compile(\"^010.?\\\\d{4}.?\\\\d{4}$\") # 010으로 시작하는 패턴, 4자리 숫자로 끝나는 패턴\n",
    "p.search(\"010-1234-1234\")"
   ]
  },
  {
   "cell_type": "code",
   "execution_count": 14,
   "id": "e6bcb2de",
   "metadata": {},
   "outputs": [],
   "source": [
    "p.search('010-1234-12345678')"
   ]
  },
  {
   "cell_type": "code",
   "execution_count": 15,
   "id": "0ab58dc3",
   "metadata": {},
   "outputs": [
    {
     "data": {
      "text/plain": [
       "<re.Match object; span=(0, 13), match='010-1234-1234'>"
      ]
     },
     "execution_count": 15,
     "metadata": {},
     "output_type": "execute_result"
    }
   ],
   "source": [
    "p = re.compile(\"^010\\\\D?\\\\d{4}\\\\D?\\\\d{4}$\") # 010으로 시작하는 패턴, 4자리 숫자로 끝나는 패턴\n",
    "p.search(\"010-1234-1234\")"
   ]
  },
  {
   "cell_type": "markdown",
   "id": "7a2512d5",
   "metadata": {},
   "source": [
    "## 역슬래시를 2개씩 써야 하는 경우\n",
    "- 메타 문자 \\d -> \\\\d\n",
    "- 안쓰고 문자 그대로 인식하게 하는 방법 r\"패턴\""
   ]
  },
  {
   "cell_type": "code",
   "execution_count": 16,
   "id": "556fcdaa",
   "metadata": {},
   "outputs": [],
   "source": [
    "p = re.compile(r\"^010\\D?\\d{4}\\D?\\d{4}$\")\n",
    "m = p.search(\"010-12345678\")"
   ]
  },
  {
   "cell_type": "code",
   "execution_count": 17,
   "id": "177c8915",
   "metadata": {},
   "outputs": [
    {
     "name": "stdout",
     "output_type": "stream",
     "text": [
      "m.group(): 010-12345678 m.start(): 0 m.end() 12 m.span() (0, 12)\n"
     ]
    }
   ],
   "source": [
    "print(\"m.group():\", m.group(), \"m.start():\",m.start(), \"m.end()\", m.end(), \"m.span()\", m.span())"
   ]
  },
  {
   "cell_type": "code",
   "execution_count": null,
   "id": "25c550dc",
   "metadata": {},
   "outputs": [],
   "source": []
  }
 ],
 "metadata": {
  "kernelspec": {
   "display_name": "Python 3",
   "language": "python",
   "name": "python3"
  },
  "language_info": {
   "codemirror_mode": {
    "name": "ipython",
    "version": 3
   },
   "file_extension": ".py",
   "mimetype": "text/x-python",
   "name": "python",
   "nbconvert_exporter": "python",
   "pygments_lexer": "ipython3",
   "version": "3.12.10"
  }
 },
 "nbformat": 4,
 "nbformat_minor": 5
}
