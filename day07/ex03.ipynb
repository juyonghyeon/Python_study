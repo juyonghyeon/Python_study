{
 "cells": [
  {
   "cell_type": "markdown",
   "id": "72a7db72",
   "metadata": {},
   "source": [
    "# 이터레이터\n",
    "\n",
    "## 이터레이터란?\n",
    "- 반복자 패턴 구현 예\n",
    "- 내부에서는 현재 요소의 위치가 있고, next() 함수를 통해서 호출하면 다음 커서로 이동하고 요소를 반환\n",
    "- 반복을 완료하면 더이상 반복 불가, StopIteration 예외 발생\n",
    "- 리스트, 튜플, 문자열 등 반복 가능한 요소에 iter(..) 감싸서 호출, 이터레이터 객체\n",
    "- 전체 목록을 반복하는 경우 for 문을 사용하면 된다.\n",
    "\n",
    "## 이터레이터 만들기\n",
    "- 클래스에 `__init__`, `__next__` 를 정의하고 구현한다\n",
    "- 커서가 존재, __next__ 호출될때는 커서를 이동, 반복을 멈추는 조건 처리, 꺼내진 요소 반환\n",
    "- `next()`를 호추랗면 `__next__` 호출됨"
   ]
  },
  {
   "cell_type": "code",
   "execution_count": 46,
   "id": "f58d4396",
   "metadata": {},
   "outputs": [
    {
     "data": {
      "text/plain": [
       "list"
      ]
     },
     "execution_count": 46,
     "metadata": {},
     "output_type": "execute_result"
    }
   ],
   "source": [
    "fruits = ['Apple','Orange','Melon','Banana','Mango']\n",
    "type(fruits)"
   ]
  },
  {
   "cell_type": "code",
   "execution_count": 2,
   "id": "c2a3424d",
   "metadata": {},
   "outputs": [
    {
     "data": {
      "text/plain": [
       "list_iterator"
      ]
     },
     "execution_count": 2,
     "metadata": {},
     "output_type": "execute_result"
    }
   ],
   "source": [
    "itr = iter(fruits)\n",
    "type(itr)"
   ]
  },
  {
   "cell_type": "code",
   "execution_count": 8,
   "id": "32ac34f9",
   "metadata": {},
   "outputs": [
    {
     "ename": "StopIteration",
     "evalue": "",
     "output_type": "error",
     "traceback": [
      "\u001b[31m---------------------------------------------------------------------------\u001b[39m",
      "\u001b[31mStopIteration\u001b[39m                             Traceback (most recent call last)",
      "\u001b[36mCell\u001b[39m\u001b[36m \u001b[39m\u001b[32mIn[8]\u001b[39m\u001b[32m, line 1\u001b[39m\n\u001b[32m----> \u001b[39m\u001b[32m1\u001b[39m \u001b[38;5;28;43mnext\u001b[39;49m\u001b[43m(\u001b[49m\u001b[43mitr\u001b[49m\u001b[43m)\u001b[49m\n",
      "\u001b[31mStopIteration\u001b[39m: "
     ]
    }
   ],
   "source": [
    "next(itr)"
   ]
  },
  {
   "cell_type": "code",
   "execution_count": 9,
   "id": "d38e0c7b",
   "metadata": {},
   "outputs": [
    {
     "name": "stdout",
     "output_type": "stream",
     "text": [
      "Apple\n",
      "Orange\n",
      "Melon\n",
      "Banana\n",
      "Mango\n"
     ]
    }
   ],
   "source": [
    "itr = iter(fruits)\n",
    "while True:\n",
    "    try:\n",
    "        print(next(itr))\n",
    "    except StopIteration:\n",
    "        break"
   ]
  },
  {
   "cell_type": "code",
   "execution_count": 11,
   "id": "88f7b564",
   "metadata": {},
   "outputs": [
    {
     "name": "stdout",
     "output_type": "stream",
     "text": [
      "Apple\n",
      "Orange\n",
      "Melon\n",
      "Banana\n",
      "Mango\n"
     ]
    }
   ],
   "source": [
    "itr = iter(fruits)\n",
    "for item in itr:\n",
    "    print(item)"
   ]
  },
  {
   "cell_type": "code",
   "execution_count": 74,
   "id": "4b1f3288",
   "metadata": {},
   "outputs": [],
   "source": [
    "class MyIterator:\n",
    "    def __init__(self,items):\n",
    "        self.position = 0\n",
    "        self.items = items\n",
    "\n",
    "    def __iter__(self):\n",
    "        return self \n",
    "\n",
    "    def __next__(self):\n",
    "        print(\"next() 호출!\")\n",
    "        if self.position >= len(self.items): # 다 읽어온 경우라면 StopIteration 예외 발생 \n",
    "            raise StopIteration\n",
    "\n",
    "        item = self.items[self.position] # 현재 위치의 요소를 추출 \n",
    "        \n",
    "        self.position += 1 # 다음 커서 위치로 이동\n",
    "\n",
    "        return item"
   ]
  },
  {
   "cell_type": "code",
   "execution_count": 75,
   "id": "3e2a60b9",
   "metadata": {},
   "outputs": [],
   "source": [
    "itr = MyIterator(fruits)"
   ]
  },
  {
   "cell_type": "code",
   "execution_count": 77,
   "id": "f63af8b6",
   "metadata": {},
   "outputs": [
    {
     "name": "stdout",
     "output_type": "stream",
     "text": [
      "next() 호출!\n"
     ]
    },
    {
     "data": {
      "text/plain": [
       "'Orange'"
      ]
     },
     "execution_count": 77,
     "metadata": {},
     "output_type": "execute_result"
    }
   ],
   "source": [
    "next(itr)"
   ]
  },
  {
   "cell_type": "code",
   "execution_count": 78,
   "id": "86e3c2e1",
   "metadata": {},
   "outputs": [
    {
     "name": "stdout",
     "output_type": "stream",
     "text": [
      "next() 호출!\n",
      "Apple\n",
      "next() 호출!\n",
      "Orange\n",
      "next() 호출!\n",
      "Melon\n",
      "next() 호출!\n",
      "Banana\n",
      "next() 호출!\n",
      "Mango\n",
      "next() 호출!\n"
     ]
    }
   ],
   "source": [
    "itr = MyIterator(fruits)\n",
    "for item in itr:\n",
    "    print(item)"
   ]
  },
  {
   "cell_type": "markdown",
   "id": "caaa3445",
   "metadata": {},
   "source": [
    "## 제네레이터\n",
    "- 제네레이터란?\n",
    "    - 이터레이터로 만들어주는 함수\n",
    "    - 실행 및 반환값 지연, return 대신 yield 사용\n",
    "\n",
    "- 제네레이터 표현식\n",
    "    - 튜플에다가 리스트 컴프리헨션과 비슷하게 구성하면, 제네레이터 객체"
   ]
  },
  {
   "cell_type": "code",
   "execution_count": 61,
   "id": "fc2641dc",
   "metadata": {},
   "outputs": [],
   "source": [
    "def mygen():\n",
    "    yield 'A'\n",
    "    yield 'B'\n",
    "    yield 'C'"
   ]
  },
  {
   "cell_type": "code",
   "execution_count": 62,
   "id": "74a67373",
   "metadata": {},
   "outputs": [
    {
     "data": {
      "text/plain": [
       "generator"
      ]
     },
     "execution_count": 62,
     "metadata": {},
     "output_type": "execute_result"
    }
   ],
   "source": [
    "gen = mygen()\n",
    "type(gen)"
   ]
  },
  {
   "cell_type": "code",
   "execution_count": 65,
   "id": "1ccc0c03",
   "metadata": {},
   "outputs": [
    {
     "data": {
      "text/plain": [
       "'C'"
      ]
     },
     "execution_count": 65,
     "metadata": {},
     "output_type": "execute_result"
    }
   ],
   "source": [
    "next(gen)"
   ]
  },
  {
   "cell_type": "code",
   "execution_count": 79,
   "id": "2d6a8fa9",
   "metadata": {},
   "outputs": [],
   "source": [
    "gen = (i*i for i in range(10000))"
   ]
  },
  {
   "cell_type": "code",
   "execution_count": 80,
   "id": "885c1413",
   "metadata": {},
   "outputs": [
    {
     "data": {
      "text/plain": [
       "generator"
      ]
     },
     "execution_count": 80,
     "metadata": {},
     "output_type": "execute_result"
    }
   ],
   "source": [
    "type(gen)"
   ]
  },
  {
   "cell_type": "code",
   "execution_count": 119,
   "id": "f028c5a8",
   "metadata": {},
   "outputs": [
    {
     "data": {
      "text/plain": [
       "1444"
      ]
     },
     "execution_count": 119,
     "metadata": {},
     "output_type": "execute_result"
    }
   ],
   "source": [
    "next(gen)"
   ]
  },
  {
   "cell_type": "markdown",
   "id": "a2dc6eff",
   "metadata": {},
   "source": [
    "## 타입 어노테이션\n",
    "- 강제 사항은 아니고, 타입 힌트만 제공\n",
    "- 강제하면서 체크 mypy 의존성을 설치하고 mypy 모듈을 통해서 파이썬 코드 실행\n",
    "- int, float, list, tuple, set, dict, str ,..., 직접 정의한 클래스"
   ]
  },
  {
   "cell_type": "code",
   "execution_count": 124,
   "id": "901fa4c7",
   "metadata": {},
   "outputs": [],
   "source": [
    "def add(num1: int, num2: int) -> int:\n",
    "    return num1 + num2"
   ]
  },
  {
   "cell_type": "code",
   "execution_count": null,
   "id": "ba456eed",
   "metadata": {},
   "outputs": [
    {
     "data": {
      "text/plain": [
       "20.122999999999998"
      ]
     },
     "execution_count": 125,
     "metadata": {},
     "output_type": "execute_result"
    }
   ],
   "source": []
  },
  {
   "cell_type": "code",
   "execution_count": null,
   "id": "dc1ec374",
   "metadata": {},
   "outputs": [],
   "source": []
  }
 ],
 "metadata": {
  "kernelspec": {
   "display_name": "Python 3",
   "language": "python",
   "name": "python3"
  },
  "language_info": {
   "codemirror_mode": {
    "name": "ipython",
    "version": 3
   },
   "file_extension": ".py",
   "mimetype": "text/x-python",
   "name": "python",
   "nbconvert_exporter": "python",
   "pygments_lexer": "ipython3",
   "version": "3.12.10"
  }
 },
 "nbformat": 4,
 "nbformat_minor": 5
}
