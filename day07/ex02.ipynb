{
 "cells": [
  {
   "cell_type": "code",
   "execution_count": 12,
   "id": "972cfca0",
   "metadata": {},
   "outputs": [],
   "source": [
    "from faker import Faker"
   ]
  },
  {
   "cell_type": "code",
   "execution_count": 23,
   "id": "d9540eb9",
   "metadata": {},
   "outputs": [],
   "source": [
    "faker = Faker(\"ko-KR\")"
   ]
  },
  {
   "cell_type": "code",
   "execution_count": 24,
   "id": "b3713b5b",
   "metadata": {},
   "outputs": [
    {
     "data": {
      "text/plain": [
       "'박영일'"
      ]
     },
     "execution_count": 24,
     "metadata": {},
     "output_type": "execute_result"
    }
   ],
   "source": [
    "faker.name()"
   ]
  },
  {
   "cell_type": "code",
   "execution_count": 25,
   "id": "6031dee0",
   "metadata": {},
   "outputs": [],
   "source": [
    "members = [(faker.name(), faker.address()) for _ in range(30)]"
   ]
  },
  {
   "cell_type": "code",
   "execution_count": 26,
   "id": "789c8171",
   "metadata": {},
   "outputs": [
    {
     "data": {
      "text/plain": [
       "[('황현우', '경기도 철원군 강남대길 275-24 (서준박박면)'),\n",
       " ('박서현', '충청남도 광명시 오금29가 933 (진호류이동)'),\n",
       " ('김중수', '강원도 보령시 강남대2로 586-94'),\n",
       " ('김종수', '경상남도 고양시 일산동구 테헤란거리 471-98'),\n",
       " ('서수진', '울산광역시 관악구 테헤란로 67'),\n",
       " ('이영호', '세종특별자치시 중랑구 잠실506길 302'),\n",
       " ('이상철', '제주특별자치도 안양시 잠실393거리 313'),\n",
       " ('이진우', '대구광역시 영등포구 서초대95가 지하391 (미숙송면)'),\n",
       " ('박정수', '세종특별자치시 은평구 삼성가 838-60'),\n",
       " ('구주원', '광주광역시 노원구 선릉거리 932'),\n",
       " ('고민석', '대전광역시 용산구 역삼길 655'),\n",
       " ('김하은', '인천광역시 영등포구 서초중앙가 지하664 (도현조송면)'),\n",
       " ('박수민', '세종특별자치시 도봉구 석촌호수2가 490-85'),\n",
       " ('강서준', '전라북도 정선군 가락길 203 (우진류이읍)'),\n",
       " ('남상호', '경기도 홍천군 개포길 898'),\n",
       " ('최영수', '제주특별자치도 하남시 반포대2길 800-90 (재호김읍)'),\n",
       " ('이지은', '전라북도 수원시 영통구 역삼180거리 461'),\n",
       " ('강준영', '전라북도 서산시 논현길 759-57'),\n",
       " ('김옥자', '광주광역시 도봉구 도산대78길 859'),\n",
       " ('허은지', '부산광역시 송파구 개포3가 878'),\n",
       " ('박현우', '제주특별자치도 충주시 언주가 94-80 (아름이동)'),\n",
       " ('김영환', '대전광역시 강남구 잠실90거리 935-8 (지영조면)'),\n",
       " ('김도윤', '전라남도 고성군 도산대거리 761-89 (정희김김마을)'),\n",
       " ('이예지', '전라남도 천안시 동남구 서초중앙길 513-78 (성호노노마을)'),\n",
       " ('이도현', '광주광역시 노원구 양재천7로 220 (서영김마을)'),\n",
       " ('강영호', '서울특별시 중랑구 학동길 73 (예지박리)'),\n",
       " ('김지후', '대구광역시 동대문구 테헤란291거리 843-77 (정웅김리)'),\n",
       " ('김영순', '부산광역시 금천구 양재천로 24 (서현이리)'),\n",
       " ('조준혁', '서울특별시 양천구 학동5거리 539'),\n",
       " ('박건우', '인천광역시 광진구 논현57로 181 (영환안이면)')]"
      ]
     },
     "execution_count": 26,
     "metadata": {},
     "output_type": "execute_result"
    }
   ],
   "source": [
    "members"
   ]
  },
  {
   "cell_type": "code",
   "execution_count": 14,
   "id": "9e0a7854",
   "metadata": {},
   "outputs": [],
   "source": [
    "str = \"이이름\".encode(\"euc-kr\")"
   ]
  },
  {
   "cell_type": "code",
   "execution_count": 15,
   "id": "044189c7",
   "metadata": {},
   "outputs": [
    {
     "data": {
      "text/plain": [
       "'이이름'"
      ]
     },
     "execution_count": 15,
     "metadata": {},
     "output_type": "execute_result"
    }
   ],
   "source": [
    "str2 = str.decode(\"euc-kr\")\n",
    "str2"
   ]
  },
  {
   "cell_type": "code",
   "execution_count": null,
   "id": "197f4716",
   "metadata": {},
   "outputs": [],
   "source": []
  }
 ],
 "metadata": {
  "language_info": {
   "name": "python"
  }
 },
 "nbformat": 4,
 "nbformat_minor": 5
}
