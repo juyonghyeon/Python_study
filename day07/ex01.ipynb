{
 "cells": [
  {
   "cell_type": "markdown",
   "id": "fff80fef",
   "metadata": {},
   "source": []
  },
  {
   "cell_type": "code",
   "execution_count": 1,
   "id": "f110b579",
   "metadata": {},
   "outputs": [],
   "source": [
    "import time\n",
    "import threading"
   ]
  },
  {
   "cell_type": "code",
   "execution_count": 10,
   "id": "81a965fe",
   "metadata": {},
   "outputs": [],
   "source": [
    "def some_work():\n",
    "    for i in range(1, 11): # 1, 10\n",
    "        print(\"작업 %d\" % i)\n",
    "        print()\n",
    "        time.sleep(1)\n",
    "\n",
    "def some_work2():\n",
    "    for i in range(1, 11): # 1, 10\n",
    "        print(\"작업2 %d\" % i)\n",
    "        print()\n",
    "        time.sleep(1)"
   ]
  },
  {
   "cell_type": "code",
   "execution_count": 12,
   "id": "94cd3885",
   "metadata": {},
   "outputs": [
    {
     "name": "stdout",
     "output_type": "stream",
     "text": [
      "작업 1\n",
      "\n",
      "작업2 1\n",
      "\n",
      "작업 2\n",
      "\n",
      "작업2 2\n",
      "\n",
      "작업 3\n",
      "\n",
      "작업2 3\n",
      "\n",
      "작업 4\n",
      "\n",
      "작업2 4\n",
      "\n",
      "작업 5\n",
      "\n",
      "작업2 5\n",
      "\n",
      "작업 6\n",
      "\n",
      "작업2 6\n",
      "\n",
      "작업 7\n",
      "\n",
      "작업2 7\n",
      "\n",
      "작업 8\n",
      "\n",
      "작업2 8\n",
      "\n",
      "작업 9\n",
      "\n",
      "작업2 9\n",
      "\n",
      "작업 10\n",
      "\n",
      "작업2 10\n",
      "\n",
      "메인 작업 1\n",
      "메인 작업 2\n",
      "메인 작업 3\n",
      "메인 작업 4\n",
      "메인 작업 5\n",
      "작업 완료!!!\n"
     ]
    }
   ],
   "source": [
    "th1 = threading.Thread(target=some_work) # 쓰레드 생성\n",
    "th1.start() # 호출 스택 + 실행\n",
    "th2 = threading.Thread(target=some_work2)\n",
    "th2.start()\n",
    "\n",
    "th1.join() # 현재 쓰레드의 작업을 th1이 종료 될때까지 임시 중단, 종료되면 재개\n",
    "th2.join()\n",
    "for i in range(1, 6): # 1, 10\n",
    "    print(\"메인 작업 %d\" % i)\n",
    "    time.sleep(1)\n",
    "\n",
    "print(\"작업 완료!!!\")"
   ]
  },
  {
   "cell_type": "code",
   "execution_count": null,
   "id": "936c240d",
   "metadata": {},
   "outputs": [],
   "source": []
  }
 ],
 "metadata": {
  "kernelspec": {
   "display_name": "Python 3",
   "language": "python",
   "name": "python3"
  },
  "language_info": {
   "codemirror_mode": {
    "name": "ipython",
    "version": 3
   },
   "file_extension": ".py",
   "mimetype": "text/x-python",
   "name": "python",
   "nbconvert_exporter": "python",
   "pygments_lexer": "ipython3",
   "version": "3.12.10"
  }
 },
 "nbformat": 4,
 "nbformat_minor": 5
}
