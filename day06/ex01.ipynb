{
 "cells": [
  {
   "cell_type": "markdown",
   "id": "66e27de8",
   "metadata": {},
   "source": [
    "## time 모듈"
   ]
  },
  {
   "cell_type": "code",
   "execution_count": 1,
   "id": "4d680e2d",
   "metadata": {},
   "outputs": [],
   "source": [
    "import time"
   ]
  },
  {
   "cell_type": "code",
   "execution_count": 3,
   "id": "0178df77",
   "metadata": {},
   "outputs": [
    {
     "data": {
      "text/plain": [
       "1748567715.5145478"
      ]
     },
     "execution_count": 3,
     "metadata": {},
     "output_type": "execute_result"
    }
   ],
   "source": [
    "time.time()"
   ]
  },
  {
   "cell_type": "code",
   "execution_count": 5,
   "id": "a36ab304",
   "metadata": {},
   "outputs": [
    {
     "data": {
      "text/plain": [
       "time.struct_time(tm_year=2025, tm_mon=5, tm_mday=30, tm_hour=10, tm_min=17, tm_sec=24, tm_wday=4, tm_yday=150, tm_isdst=0)"
      ]
     },
     "execution_count": 5,
     "metadata": {},
     "output_type": "execute_result"
    }
   ],
   "source": [
    "lt = time.localtime(time.time())\n",
    "lt"
   ]
  },
  {
   "cell_type": "code",
   "execution_count": 6,
   "id": "be492efd",
   "metadata": {},
   "outputs": [
    {
     "name": "stdout",
     "output_type": "stream",
     "text": [
      "2025 5 30\n"
     ]
    }
   ],
   "source": [
    "print(lt.tm_year, lt.tm_mon, lt.tm_mday)"
   ]
  },
  {
   "cell_type": "code",
   "execution_count": 7,
   "id": "4a910e95",
   "metadata": {},
   "outputs": [
    {
     "data": {
      "text/plain": [
       "'Fri May 30 10:17:24 2025'"
      ]
     },
     "execution_count": 7,
     "metadata": {},
     "output_type": "execute_result"
    }
   ],
   "source": [
    "time.asctime(lt)"
   ]
  },
  {
   "cell_type": "code",
   "execution_count": 8,
   "id": "8aa54f70",
   "metadata": {},
   "outputs": [
    {
     "data": {
      "text/plain": [
       "'Fri May 30 10:35:54 2025'"
      ]
     },
     "execution_count": 8,
     "metadata": {},
     "output_type": "execute_result"
    }
   ],
   "source": [
    "time.ctime()"
   ]
  },
  {
   "cell_type": "code",
   "execution_count": 10,
   "id": "c8d6b9e4",
   "metadata": {},
   "outputs": [
    {
     "data": {
      "text/plain": [
       "'2025.05.30 10:17'"
      ]
     },
     "execution_count": 10,
     "metadata": {},
     "output_type": "execute_result"
    }
   ],
   "source": [
    "strdate = time.strftime('%Y.%m.%d %H:%M', lt)\n",
    "strdate"
   ]
  },
  {
   "cell_type": "code",
   "execution_count": 11,
   "id": "d3307952",
   "metadata": {},
   "outputs": [
    {
     "data": {
      "text/plain": [
       "'2025,05,30 10:43'"
      ]
     },
     "execution_count": 11,
     "metadata": {},
     "output_type": "execute_result"
    }
   ],
   "source": [
    "time.strftime('%Y,%m,%d %H:%M') # 현재 날짜 시간 기준"
   ]
  },
  {
   "cell_type": "code",
   "execution_count": 12,
   "id": "3d34c619",
   "metadata": {},
   "outputs": [
    {
     "name": "stdout",
     "output_type": "stream",
     "text": [
      "1\n",
      "2\n",
      "3\n",
      "4\n",
      "5\n",
      "6\n",
      "7\n",
      "8\n",
      "9\n",
      "10\n"
     ]
    }
   ],
   "source": [
    "for i in range(1, 11):\n",
    "    print(i)\n",
    "    time.sleep(1) # 1초 지연"
   ]
  },
  {
   "cell_type": "code",
   "execution_count": 13,
   "id": "8289fd74",
   "metadata": {},
   "outputs": [],
   "source": [
    "# 사탕 60, 초콜릿 100, 젤리 80개 있는데, 똑같은 묶음으로 최대 몇 묶음 나눌 수 있는지 구하시오.\n",
    "import math"
   ]
  },
  {
   "cell_type": "code",
   "execution_count": 14,
   "id": "170a59e7",
   "metadata": {},
   "outputs": [
    {
     "data": {
      "text/plain": [
       "20"
      ]
     },
     "execution_count": 14,
     "metadata": {},
     "output_type": "execute_result"
    }
   ],
   "source": [
    "math.gcd(60 ,100, 80)"
   ]
  },
  {
   "cell_type": "code",
   "execution_count": 15,
   "id": "de6c188d",
   "metadata": {},
   "outputs": [
    {
     "data": {
      "text/plain": [
       "75"
      ]
     },
     "execution_count": 15,
     "metadata": {},
     "output_type": "execute_result"
    }
   ],
   "source": [
    "# 시내버스가 15분마다 도착, 마을 버스는 25분마다 도착, 서로 만나는 빠른 시간?\n",
    "math.lcm(15, 25)"
   ]
  },
  {
   "cell_type": "code",
   "execution_count": 16,
   "id": "3daee9bb",
   "metadata": {},
   "outputs": [],
   "source": [
    "import random"
   ]
  },
  {
   "cell_type": "code",
   "execution_count": null,
   "id": "c63bf502",
   "metadata": {},
   "outputs": [
    {
     "data": {
      "text/plain": [
       "1.8792367978140494"
      ]
     },
     "execution_count": 399,
     "metadata": {},
     "output_type": "execute_result"
    }
   ],
   "source": [
    "random.random() * 3 # 규칙 곱하는 수보다 작은 수가 정수부에서 반복 0~2"
   ]
  },
  {
   "cell_type": "code",
   "execution_count": 400,
   "id": "e60191fd",
   "metadata": {},
   "outputs": [
    {
     "data": {
      "text/plain": [
       "2"
      ]
     },
     "execution_count": 400,
     "metadata": {},
     "output_type": "execute_result"
    }
   ],
   "source": [
    "int(random.random()*3)"
   ]
  },
  {
   "cell_type": "code",
   "execution_count": 674,
   "id": "f3f9b2a6",
   "metadata": {},
   "outputs": [
    {
     "data": {
      "text/plain": [
       "4"
      ]
     },
     "execution_count": 674,
     "metadata": {},
     "output_type": "execute_result"
    }
   ],
   "source": [
    "random.randint(0,10)"
   ]
  },
  {
   "cell_type": "code",
   "execution_count": 675,
   "id": "4261d12d",
   "metadata": {},
   "outputs": [],
   "source": [
    "fruits = ['Apple','Melon','Pear','Banana','Mango']"
   ]
  },
  {
   "cell_type": "code",
   "execution_count": 726,
   "id": "5c73c951",
   "metadata": {},
   "outputs": [
    {
     "data": {
      "text/plain": [
       "'Banana'"
      ]
     },
     "execution_count": 726,
     "metadata": {},
     "output_type": "execute_result"
    }
   ],
   "source": [
    "random.choice(fruits)"
   ]
  },
  {
   "cell_type": "code",
   "execution_count": 731,
   "id": "c9c83e08",
   "metadata": {},
   "outputs": [
    {
     "data": {
      "text/plain": [
       "['Apple', 'Melon', 'Mango']"
      ]
     },
     "execution_count": 731,
     "metadata": {},
     "output_type": "execute_result"
    }
   ],
   "source": [
    "random.sample(fruits, 3)"
   ]
  },
  {
   "cell_type": "code",
   "execution_count": 738,
   "id": "35f17d55",
   "metadata": {},
   "outputs": [],
   "source": [
    "students = ['a','b','c','d','e','f','g','h']"
   ]
  },
  {
   "cell_type": "code",
   "execution_count": 741,
   "id": "3abd8803",
   "metadata": {},
   "outputs": [
    {
     "data": {
      "text/plain": [
       "[('d', 'RTX'),\n",
       " ('e', '맥북'),\n",
       " ('a', '사랑'),\n",
       " ('h', '사탕'),\n",
       " ('c', '사탕'),\n",
       " ('g', '사탕'),\n",
       " ('f', '사탕'),\n",
       " ('b', '사탕')]"
      ]
     },
     "execution_count": 741,
     "metadata": {},
     "output_type": "execute_result"
    }
   ],
   "source": [
    "import itertools\n",
    "students2 = random.sample(students, len(students))\n",
    "# random.shuffle(students) 원본 데이터가 변경\n",
    "gifts = ['RTX','맥북','사랑']\n",
    "# data = list(zip(students,gifts))\n",
    "# data\n",
    "data = itertools.zip_longest(students2,gifts, fillvalue='사탕')\n",
    "list(data)"
   ]
  },
  {
   "cell_type": "code",
   "execution_count": 742,
   "id": "6293c467",
   "metadata": {},
   "outputs": [],
   "source": [
    "nums = [1, 2, 3, 4]"
   ]
  },
  {
   "cell_type": "code",
   "execution_count": 748,
   "id": "73966f93",
   "metadata": {},
   "outputs": [
    {
     "data": {
      "text/plain": [
       "[(1, 2),\n",
       " (1, 3),\n",
       " (1, 4),\n",
       " (2, 1),\n",
       " (2, 3),\n",
       " (2, 4),\n",
       " (3, 1),\n",
       " (3, 2),\n",
       " (3, 4),\n",
       " (4, 1),\n",
       " (4, 2),\n",
       " (4, 3)]"
      ]
     },
     "execution_count": 748,
     "metadata": {},
     "output_type": "execute_result"
    }
   ],
   "source": [
    "import itertools\n",
    "a = list(itertools.permutations(nums, 2))\n",
    "a"
   ]
  },
  {
   "cell_type": "code",
   "execution_count": 747,
   "id": "390dfc7e",
   "metadata": {},
   "outputs": [
    {
     "data": {
      "text/plain": [
       "[(1, 2), (1, 3), (1, 4), (2, 3), (2, 4), (3, 4)]"
      ]
     },
     "execution_count": 747,
     "metadata": {},
     "output_type": "execute_result"
    }
   ],
   "source": [
    "b = list(itertools.combinations(nums,2))\n",
    "b"
   ]
  },
  {
   "cell_type": "code",
   "execution_count": 751,
   "id": "dc0ad9c4",
   "metadata": {},
   "outputs": [
    {
     "data": {
      "text/plain": [
       "[(1, 1, 1),\n",
       " (1, 1, 2),\n",
       " (1, 1, 3),\n",
       " (1, 1, 4),\n",
       " (1, 2, 2),\n",
       " (1, 2, 3),\n",
       " (1, 2, 4),\n",
       " (1, 3, 3),\n",
       " (1, 3, 4),\n",
       " (1, 4, 4),\n",
       " (2, 2, 2),\n",
       " (2, 2, 3),\n",
       " (2, 2, 4),\n",
       " (2, 3, 3),\n",
       " (2, 3, 4),\n",
       " (2, 4, 4),\n",
       " (3, 3, 3),\n",
       " (3, 3, 4),\n",
       " (3, 4, 4),\n",
       " (4, 4, 4)]"
      ]
     },
     "execution_count": 751,
     "metadata": {},
     "output_type": "execute_result"
    }
   ],
   "source": [
    "c = list(itertools.combinations_with_replacement(nums,3))\n",
    "c"
   ]
  },
  {
   "cell_type": "code",
   "execution_count": 752,
   "id": "3832170f",
   "metadata": {},
   "outputs": [],
   "source": [
    "import functools"
   ]
  },
  {
   "cell_type": "code",
   "execution_count": 753,
   "id": "0dbb2549",
   "metadata": {},
   "outputs": [
    {
     "data": {
      "text/plain": [
       "[1, 2, 3, 4, 5, 6, 7, 8, 9, 10]"
      ]
     },
     "execution_count": 753,
     "metadata": {},
     "output_type": "execute_result"
    }
   ],
   "source": [
    "nums = list(range(1, 101))\n",
    "nums[:10]"
   ]
  },
  {
   "cell_type": "code",
   "execution_count": 754,
   "id": "3c5ccc28",
   "metadata": {},
   "outputs": [],
   "source": [
    "def acc_sum(acc, num):\n",
    "    print(f\"acc:{acc}, num:{num}\")\n",
    "    acc += num\n",
    "    return acc"
   ]
  },
  {
   "cell_type": "code",
   "execution_count": 756,
   "id": "5557006f",
   "metadata": {},
   "outputs": [
    {
     "name": "stdout",
     "output_type": "stream",
     "text": [
      "acc:1, num:2\n",
      "acc:3, num:3\n",
      "acc:6, num:4\n",
      "acc:10, num:5\n",
      "acc:15, num:6\n",
      "acc:21, num:7\n",
      "acc:28, num:8\n",
      "acc:36, num:9\n",
      "acc:45, num:10\n",
      "acc:55, num:11\n",
      "acc:66, num:12\n",
      "acc:78, num:13\n",
      "acc:91, num:14\n",
      "acc:105, num:15\n",
      "acc:120, num:16\n",
      "acc:136, num:17\n",
      "acc:153, num:18\n",
      "acc:171, num:19\n",
      "acc:190, num:20\n",
      "acc:210, num:21\n",
      "acc:231, num:22\n",
      "acc:253, num:23\n",
      "acc:276, num:24\n",
      "acc:300, num:25\n",
      "acc:325, num:26\n",
      "acc:351, num:27\n",
      "acc:378, num:28\n",
      "acc:406, num:29\n",
      "acc:435, num:30\n",
      "acc:465, num:31\n",
      "acc:496, num:32\n",
      "acc:528, num:33\n",
      "acc:561, num:34\n",
      "acc:595, num:35\n",
      "acc:630, num:36\n",
      "acc:666, num:37\n",
      "acc:703, num:38\n",
      "acc:741, num:39\n",
      "acc:780, num:40\n",
      "acc:820, num:41\n",
      "acc:861, num:42\n",
      "acc:903, num:43\n",
      "acc:946, num:44\n",
      "acc:990, num:45\n",
      "acc:1035, num:46\n",
      "acc:1081, num:47\n",
      "acc:1128, num:48\n",
      "acc:1176, num:49\n",
      "acc:1225, num:50\n",
      "acc:1275, num:51\n",
      "acc:1326, num:52\n",
      "acc:1378, num:53\n",
      "acc:1431, num:54\n",
      "acc:1485, num:55\n",
      "acc:1540, num:56\n",
      "acc:1596, num:57\n",
      "acc:1653, num:58\n",
      "acc:1711, num:59\n",
      "acc:1770, num:60\n",
      "acc:1830, num:61\n",
      "acc:1891, num:62\n",
      "acc:1953, num:63\n",
      "acc:2016, num:64\n",
      "acc:2080, num:65\n",
      "acc:2145, num:66\n",
      "acc:2211, num:67\n",
      "acc:2278, num:68\n",
      "acc:2346, num:69\n",
      "acc:2415, num:70\n",
      "acc:2485, num:71\n",
      "acc:2556, num:72\n",
      "acc:2628, num:73\n",
      "acc:2701, num:74\n",
      "acc:2775, num:75\n",
      "acc:2850, num:76\n",
      "acc:2926, num:77\n",
      "acc:3003, num:78\n",
      "acc:3081, num:79\n",
      "acc:3160, num:80\n",
      "acc:3240, num:81\n",
      "acc:3321, num:82\n",
      "acc:3403, num:83\n",
      "acc:3486, num:84\n",
      "acc:3570, num:85\n",
      "acc:3655, num:86\n",
      "acc:3741, num:87\n",
      "acc:3828, num:88\n",
      "acc:3916, num:89\n",
      "acc:4005, num:90\n",
      "acc:4095, num:91\n",
      "acc:4186, num:92\n",
      "acc:4278, num:93\n",
      "acc:4371, num:94\n",
      "acc:4465, num:95\n",
      "acc:4560, num:96\n",
      "acc:4656, num:97\n",
      "acc:4753, num:98\n",
      "acc:4851, num:99\n",
      "acc:4950, num:100\n"
     ]
    },
    {
     "data": {
      "text/plain": [
       "5050"
      ]
     },
     "execution_count": 756,
     "metadata": {},
     "output_type": "execute_result"
    }
   ],
   "source": [
    "result = functools.reduce(acc_sum, nums)\n",
    "result"
   ]
  },
  {
   "cell_type": "code",
   "execution_count": 782,
   "id": "fbb616e1",
   "metadata": {},
   "outputs": [
    {
     "data": {
      "text/plain": [
       "5050"
      ]
     },
     "execution_count": 782,
     "metadata": {},
     "output_type": "execute_result"
    }
   ],
   "source": [
    "result = functools.reduce(lambda a, b: a+b, nums)\n",
    "result"
   ]
  },
  {
   "cell_type": "code",
   "execution_count": 774,
   "id": "930c3d52",
   "metadata": {},
   "outputs": [],
   "source": [
    "scores = [random.randint(50, 100) for _ in range(10)]"
   ]
  },
  {
   "cell_type": "code",
   "execution_count": 775,
   "id": "3f6d6fce",
   "metadata": {},
   "outputs": [
    {
     "data": {
      "text/plain": [
       "[67, 93, 66, 53, 63, 66, 73, 83, 79, 67]"
      ]
     },
     "execution_count": 775,
     "metadata": {},
     "output_type": "execute_result"
    }
   ],
   "source": [
    "scores"
   ]
  },
  {
   "cell_type": "code",
   "execution_count": 779,
   "id": "9e63ce91",
   "metadata": {},
   "outputs": [],
   "source": [
    "def min_score(a,b):\n",
    "    print(f\"a:{a}, b:{b}\")\n",
    "    score = a if a < b else b\n",
    "    return score"
   ]
  },
  {
   "cell_type": "code",
   "execution_count": 780,
   "id": "6662fa75",
   "metadata": {},
   "outputs": [
    {
     "name": "stdout",
     "output_type": "stream",
     "text": [
      "a:67, b:93\n",
      "a:67, b:66\n",
      "a:66, b:53\n",
      "a:53, b:63\n",
      "a:53, b:66\n",
      "a:53, b:73\n",
      "a:53, b:83\n",
      "a:53, b:79\n",
      "a:53, b:67\n"
     ]
    },
    {
     "data": {
      "text/plain": [
       "53"
      ]
     },
     "execution_count": 780,
     "metadata": {},
     "output_type": "execute_result"
    }
   ],
   "source": [
    "min = functools.reduce(min_score, scores)\n",
    "min"
   ]
  },
  {
   "cell_type": "code",
   "execution_count": 781,
   "id": "a67a76af",
   "metadata": {},
   "outputs": [
    {
     "data": {
      "text/plain": [
       "93"
      ]
     },
     "execution_count": 781,
     "metadata": {},
     "output_type": "execute_result"
    }
   ],
   "source": [
    "max = functools.reduce(lambda a, b: a if a>=b else b, scores)\n",
    "max"
   ]
  },
  {
   "cell_type": "code",
   "execution_count": 787,
   "id": "382166a3",
   "metadata": {},
   "outputs": [],
   "source": [
    "students = [\n",
    "    ('이이름', 40, '컴퓨터과학'),\n",
    "    ('김이름', 20, '영어영문학'),\n",
    "    ('박이름', 24, '독어독문학')\n",
    "]"
   ]
  },
  {
   "cell_type": "code",
   "execution_count": 788,
   "id": "edb3f050",
   "metadata": {},
   "outputs": [],
   "source": [
    "import operator"
   ]
  },
  {
   "cell_type": "code",
   "execution_count": 789,
   "id": "44afecc3",
   "metadata": {},
   "outputs": [
    {
     "data": {
      "text/plain": [
       "[('박이름', 24, '독어독문학'), ('김이름', 20, '영어영문학'), ('이이름', 40, '컴퓨터과학')]"
      ]
     },
     "execution_count": 789,
     "metadata": {},
     "output_type": "execute_result"
    }
   ],
   "source": [
    "students2 = sorted(students, key=operator.itemgetter(2))\n",
    "students2"
   ]
  },
  {
   "cell_type": "code",
   "execution_count": 791,
   "id": "107e8dbb",
   "metadata": {},
   "outputs": [],
   "source": [
    "students = [\n",
    "    {\"name\": '이이름',\"age\": 40,\"major\": '컴퓨터과학'},\n",
    "    {\"name\": '김이름',\"age\": 20,\"major\": '영어영문학'},\n",
    "    {\"name\": '박이름',\"age\": 24,\"major\": '독어독문학'}\n",
    "]"
   ]
  },
  {
   "cell_type": "code",
   "execution_count": 792,
   "id": "23590d90",
   "metadata": {},
   "outputs": [
    {
     "data": {
      "text/plain": [
       "[{'name': '김이름', 'age': 20, 'major': '영어영문학'},\n",
       " {'name': '박이름', 'age': 24, 'major': '독어독문학'},\n",
       " {'name': '이이름', 'age': 40, 'major': '컴퓨터과학'}]"
      ]
     },
     "execution_count": 792,
     "metadata": {},
     "output_type": "execute_result"
    }
   ],
   "source": [
    "students2 = sorted(students, key=operator.itemgetter('name'))\n",
    "students2"
   ]
  },
  {
   "cell_type": "code",
   "execution_count": 793,
   "id": "e1af0f16",
   "metadata": {},
   "outputs": [],
   "source": [
    "class Student:\n",
    "    def __init__(self, name, age, major):\n",
    "        self.name = name\n",
    "        self.age = age\n",
    "        self.major = major\n",
    "\n",
    "    def __str__(self):\n",
    "        return f\"name:{self.name}, age:{self.age}, major:{self.major}\""
   ]
  },
  {
   "cell_type": "code",
   "execution_count": 794,
   "id": "ab714e92",
   "metadata": {},
   "outputs": [],
   "source": [
    "students = [\n",
    "    Student('이이름', 40, '컴퓨터과학'),\n",
    "    Student('김이름', 20, '영어영문학'),\n",
    "    Student('박이름', 24, '독어독문학')\n",
    "]"
   ]
  },
  {
   "cell_type": "code",
   "execution_count": 795,
   "id": "139ea9a3",
   "metadata": {},
   "outputs": [
    {
     "name": "stdout",
     "output_type": "stream",
     "text": [
      "name:박이름, age:24, major:독어독문학\n",
      "name:김이름, age:20, major:영어영문학\n",
      "name:이이름, age:40, major:컴퓨터과학\n"
     ]
    }
   ],
   "source": [
    "students2 = sorted(students, key=operator.attrgetter('major'))\n",
    "for item in students2:\n",
    "    print(item)"
   ]
  },
  {
   "cell_type": "code",
   "execution_count": 796,
   "id": "3ac43617",
   "metadata": {},
   "outputs": [],
   "source": [
    "from glob import glob"
   ]
  },
  {
   "cell_type": "code",
   "execution_count": 798,
   "id": "6f97b808",
   "metadata": {},
   "outputs": [
    {
     "name": "stdout",
     "output_type": "stream",
     "text": [
      "C:/Program Files\n",
      "C:/Program Files (x86)\n",
      "C:/ProgramData\n"
     ]
    }
   ],
   "source": [
    "files = glob(\"C:/Prog*\")\n",
    "for file in files:\n",
    "    print(file)"
   ]
  },
  {
   "cell_type": "code",
   "execution_count": 799,
   "id": "a289ff3a",
   "metadata": {},
   "outputs": [],
   "source": [
    "import pickle"
   ]
  },
  {
   "cell_type": "code",
   "execution_count": 800,
   "id": "ebb7224e",
   "metadata": {},
   "outputs": [],
   "source": [
    "with open(\"C:/python_data/students.txt\", 'wb') as f:\n",
    "    pickle.dump(students2, f)"
   ]
  },
  {
   "cell_type": "code",
   "execution_count": 801,
   "id": "ba96523f",
   "metadata": {},
   "outputs": [
    {
     "name": "stdout",
     "output_type": "stream",
     "text": [
      "name:박이름, age:24, major:독어독문학\n",
      "name:김이름, age:20, major:영어영문학\n",
      "name:이이름, age:40, major:컴퓨터과학\n"
     ]
    }
   ],
   "source": [
    "with open(\"C:/python_data/students.txt\", 'rb') as f:\n",
    "    students3 = pickle.load(f)\n",
    "    for item in students3:\n",
    "        print(item)"
   ]
  },
  {
   "cell_type": "code",
   "execution_count": 802,
   "id": "9b6b722c",
   "metadata": {},
   "outputs": [],
   "source": [
    "import os"
   ]
  },
  {
   "cell_type": "code",
   "execution_count": null,
   "id": "ae6c5d5b",
   "metadata": {},
   "outputs": [],
   "source": [
    "os.system(\"dir\")"
   ]
  },
  {
   "cell_type": "code",
   "execution_count": 807,
   "id": "9679d457",
   "metadata": {},
   "outputs": [],
   "source": [
    "import json\n",
    "students = [\n",
    "    {\"name\": '이이름',\"age\": 40,\"major\": '컴퓨터과학'},\n",
    "    {\"name\": '김이름',\"age\": 20,\"major\": '영어영문학'},\n",
    "    {\"name\": '박이름',\"age\": 24,\"major\": '독어독문학'}\n",
    "]\n",
    "with open(\"C:/python_data/student.json\" , \"w\") as f:\n",
    "    json.dump(students, f, ensure_ascii=False)"
   ]
  },
  {
   "cell_type": "code",
   "execution_count": 809,
   "id": "9346c90e",
   "metadata": {},
   "outputs": [
    {
     "name": "stdout",
     "output_type": "stream",
     "text": [
      "[{'name': '이이름', 'age': 40, 'major': '컴퓨터과학'}, {'name': '김이름', 'age': 20, 'major': '영어영문학'}, {'name': '박이름', 'age': 24, 'major': '독어독문학'}]\n"
     ]
    }
   ],
   "source": [
    "with open(\"C:/python_data/student.json\",'r') as f:\n",
    "    students2 = json.load(f)\n",
    "    print(students2)"
   ]
  },
  {
   "cell_type": "code",
   "execution_count": null,
   "id": "5b997cc7",
   "metadata": {},
   "outputs": [],
   "source": []
  }
 ],
 "metadata": {
  "kernelspec": {
   "display_name": "Python 3",
   "language": "python",
   "name": "python3"
  },
  "language_info": {
   "codemirror_mode": {
    "name": "ipython",
    "version": 3
   },
   "file_extension": ".py",
   "mimetype": "text/x-python",
   "name": "python",
   "nbconvert_exporter": "python",
   "pygments_lexer": "ipython3",
   "version": "3.12.10"
  }
 },
 "nbformat": 4,
 "nbformat_minor": 5
}
